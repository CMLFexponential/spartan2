{
 "cells": [
  {
   "cell_type": "code",
   "execution_count": 1,
   "metadata": {},
   "outputs": [],
   "source": [
    "%matplotlib qt\n",
    "import matplotlib.pyplot as plt\n",
    "import spartan2.spartan as st"
   ]
  },
  {
   "cell_type": "code",
   "execution_count": 2,
   "metadata": {},
   "outputs": [
    {
     "name": "stdout",
     "output_type": "stream",
     "text": [
      "Info: Tensor is loaded\n",
      "           ----------------------\n",
      "             attr     |\t2\n",
      "             values   |\tTrue\n",
      "             nonzeros |\t36000\n",
      "\n"
     ]
    }
   ],
   "source": [
    "'''\n",
    "load time data\n",
    "@param name: name of the time_series data file\n",
    "@param path: father path of data file\n",
    "@param col_types: type of columns of data\n",
    "@hasvalue: In time_series data, this means whether data include time dimension\n",
    "    if True, first column of data will be regarded as time dimension defaultly\n",
    "    if False, time dimension will be initiated by the length of data and the frequency param\n",
    "'''\n",
    "data = st.loadTensor(name = \"example_time\", path = \"inputData/\", col_types = [float, float, float], hasvalue=True)"
   ]
  },
  {
   "cell_type": "code",
   "execution_count": 3,
   "metadata": {},
   "outputs": [],
   "source": [
    "'''\n",
    "transfer data to time-series type\n",
    "@params attrlabels: labels for each dimension\n",
    "@params numsensors: number of signal dimension [except time dimension]\n",
    "@params freq: frequency of the signal, default is None\n",
    "    if time dimension is not provided, this parameter is needed to initiate time dimension\n",
    "    if time dimension is provided, freq will not work and will be calculated by the time sequence\n",
    "@param startts: start timestamp, default is None\n",
    "    if time is not provided, this parameter is needed to initiate time dimension\n",
    "    if time dimension is provided, startts will not work and will be calculated by the time sequence\n",
    "'''\n",
    "time_series = data.toTimeseries(attrlabels=['ecg_low', 'ecg_high'])"
   ]
  },
  {
   "cell_type": "code",
   "execution_count": 4,
   "metadata": {},
   "outputs": [
    {
     "data": {
      "text/plain": [
       "'\\ndraw series data with matplotlib.pyplot\\n@type chosen_labels: [[]]\\n@param chosen_labels:\\n    if None, draw all the attrs in subgraph;\\n    or treat all 1-dimen array as subgraphs and entries in each array as lines in each subgraph\\n'"
      ]
     },
     "execution_count": 4,
     "metadata": {},
     "output_type": "execute_result"
    }
   ],
   "source": [
    "'''\n",
    "draw series data with matplotlib.pyplot\n",
    "@type chosen_labels: [[]]\n",
    "@param chosen_labels:\n",
    "    if None, draw all the attrs in subgraph;\n",
    "    or treat all 1-dimen array as subgraphs and entries in each array as lines in each subgraph\n",
    "'''\n",
    "# time_series.show(chosen_labels=[['ecg_low', 'ecg_high']])"
   ]
  },
  {
   "cell_type": "code",
   "execution_count": 5,
   "metadata": {},
   "outputs": [],
   "source": [
    "# time_series.show()\n",
    "# time_series.length"
   ]
  },
  {
   "cell_type": "code",
   "execution_count": 6,
   "metadata": {},
   "outputs": [
    {
     "data": {
      "text/plain": [
       "18000"
      ]
     },
     "execution_count": 6,
     "metadata": {},
     "output_type": "execute_result"
    }
   ],
   "source": [
    "''' \n",
    "resample series data with a new frequency, acomplish on the basis of scipy.signal.sample\n",
    "@param resampled_freq: resampled frequency\n",
    "@param show: if True, show the resampled signal with matplotlib.pyplot\n",
    "@param inplace:\n",
    "    if True, update origin object's variable\n",
    "    if False, return a new STTimeseries object\n",
    "'''\n",
    "resampled_time_series = time_series.resample(180, show=False)\n",
    "resampled_time_series.length"
   ]
  },
  {
   "cell_type": "code",
   "execution_count": 7,
   "metadata": {},
   "outputs": [
    {
     "data": {
      "text/plain": [
       "36000"
      ]
     },
     "execution_count": 7,
     "metadata": {},
     "output_type": "execute_result"
    }
   ],
   "source": [
    "resampled_time_series.resample(360, inplace=True)\n",
    "resampled_time_series.length"
   ]
  },
  {
   "cell_type": "code",
   "execution_count": 8,
   "metadata": {},
   "outputs": [
    {
     "data": {
      "text/plain": [
       "(36000, ['ecg_low', 'ecg_high', 'ecg_low_1', 'ecg_high_1'])"
      ]
     },
     "execution_count": 8,
     "metadata": {},
     "output_type": "execute_result"
    }
   ],
   "source": [
    "'''\n",
    "combine series data which have the same frequency\n",
    "@param combined_series: series to be combined\n",
    "@param inplace:\n",
    "    if True, update origin object's variable\n",
    "    if False, return a new STTimeseries object\n",
    "'''\n",
    "new_series = time_series.combine(resampled_time_series, inplace=False)\n",
    "new_series.length, new_series.attrlabels"
   ]
  },
  {
   "cell_type": "code",
   "execution_count": 9,
   "metadata": {},
   "outputs": [
    {
     "data": {
      "text/plain": [
       "(36000,\n",
       " ['ecg_low', 'ecg_high', 'ecg_low_1', 'ecg_high_1', 'ecg_low_2', 'ecg_high_2'])"
      ]
     },
     "execution_count": 9,
     "metadata": {},
     "output_type": "execute_result"
    }
   ],
   "source": [
    "new_series.combine(time_series, inplace=True)\n",
    "new_series.length, new_series.attrlabels"
   ]
  }
 ],
 "metadata": {
  "kernelspec": {
   "display_name": "Python 3",
   "language": "python",
   "name": "python3"
  },
  "language_info": {
   "codemirror_mode": {
    "name": "ipython",
    "version": 3
   },
   "file_extension": ".py",
   "mimetype": "text/x-python",
   "name": "python",
   "nbconvert_exporter": "python",
   "pygments_lexer": "ipython3",
   "version": "3.7.4"
  }
 },
 "nbformat": 4,
 "nbformat_minor": 2
}
