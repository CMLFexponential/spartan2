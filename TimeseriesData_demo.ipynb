{
 "cells": [
  {
   "cell_type": "code",
   "execution_count": 2,
   "metadata": {},
   "outputs": [],
   "source": [
    "%matplotlib qt\n",
    "import matplotlib.pyplot as plt\n",
    "import spartan2.spartan as st"
   ]
  },
  {
   "cell_type": "code",
   "execution_count": 3,
   "metadata": {},
   "outputs": [
    {
     "name": "stdout",
     "output_type": "stream",
     "text": [
      "Info: Tensor is loaded\n",
      "           ----------------------\n",
      "             attr     |\t2\n",
      "             values   |\tTrue\n",
      "             nonzeros |\t36000\n",
      "\n"
     ]
    }
   ],
   "source": [
    "'''\n",
    "load time data\n",
    "@param name: name of the time_series data file\n",
    "@param path: father path of data file\n",
    "@param col_types: type of columns of data\n",
    "@hasvalue: In time_series data, this means whether data include time dimension\n",
    "    if True, first column of data will be regarded as time dimension defaultly\n",
    "    if False, time dimension will be initiated by the length of data and the frequency param\n",
    "'''\n",
    "data = st.loadTensor(name = \"example_time\", path = \"inputData/\", col_types = [float, float, float], hasvalue=True)"
   ]
  },
  {
   "cell_type": "code",
   "execution_count": 4,
   "metadata": {},
   "outputs": [],
   "source": [
    "'''\n",
    "transfer data to time-series type\n",
    "@params attrlabels: labels for each dimension\n",
    "@params numsensors: number of signal dimension [except time dimension]\n",
    "@params freq: frequency of the signal, default is None\n",
    "    if time dimension is not provided, this parameter is needed to initiate time dimension\n",
    "    if time dimension is provided, freq will not work and will be calculated by the time sequence\n",
    "@param startts: start timestamp, default is None\n",
    "    if time dimension is not provided, this parameter is needed to initiate time dimension\n",
    "    if time dimension is provided, startts will not work and will be calculated by the time sequence\n",
    "'''\n",
    "time_series = data.toTimeseries(attrlabels=['ecg_low', 'ecg_high'])"
   ]
  },
  {
   "cell_type": "code",
   "execution_count": 4,
   "metadata": {},
   "outputs": [],
   "source": [
    "'''\n",
    "draw series data with matplotlib.pyplot\n",
    "@type chosen_labels: [[]]\n",
    "@param chosen_labels:\n",
    "    if None, draw all the attrs in subgraph;\n",
    "    or treat all 1-dimen array as subgraphs and entries in each array as lines in each subgraph\n",
    "'''\n",
    "time_series.show(chosen_labels=[['ecg_low', 'ecg_high']])"
   ]
  },
  {
   "cell_type": "code",
   "execution_count": null,
   "metadata": {},
   "outputs": [],
   "source": [
    "time_series.show()\n",
    "time_series.length"
   ]
  },
  {
   "cell_type": "code",
   "execution_count": null,
   "metadata": {},
   "outputs": [],
   "source": [
    "''' \n",
    "resample series data with a new frequency, acomplish on the basis of scipy.signal.sample\n",
    "@param resampled_freq: resampled frequency\n",
    "@param show: if True, show the resampled signal with matplotlib.pyplot\n",
    "@param inplace:\n",
    "    if True, update origin object's variable\n",
    "    if False, return a new STTimeseries object\n",
    "'''\n",
    "resampled_time_series = time_series.resample(180, show=True)\n",
    "resampled_time_series.length"
   ]
  },
  {
   "cell_type": "code",
   "execution_count": null,
   "metadata": {},
   "outputs": [],
   "source": [
    "resampled_time_series.resample(360, inplace=True)\n",
    "resampled_time_series.length"
   ]
  },
  {
   "cell_type": "code",
   "execution_count": null,
   "metadata": {},
   "outputs": [],
   "source": [
    "'''\n",
    "combine series data which have the same frequency\n",
    "@param combined_series: series to be combined\n",
    "@param inplace:\n",
    "    if True, update origin object's variable\n",
    "    if False, return a new STTimeseries object\n",
    "'''\n",
    "new_series = time_series.combine(resampled_time_series, inplace=False)\n",
    "new_series.length, new_series.attrlabels"
   ]
  },
  {
   "cell_type": "code",
   "execution_count": null,
   "metadata": {},
   "outputs": [],
   "source": [
    "new_series.combine(time_series, inplace=True)\n",
    "new_series.length, new_series.attrlabels"
   ]
  },
  {
   "cell_type": "code",
   "execution_count": null,
   "metadata": {},
   "outputs": [],
   "source": [
    "'''\n",
    "save current time series object as a tensor file, time column [if exists] shall always be stored as the first column\n",
    "@param name: name of the file to be saved\n",
    "@param path: default is None, parent directory\n",
    "@param attr: default is None\n",
    "    if assigned, only save required columns\n",
    "@param annotation: annotations which will be saved at the first line of the file\n",
    "'''\n",
    "new_series.savefile('test', path='.//inputData//', attrs=['ecg_low_1', 'ecg_low_2'], annotation='this is a test')"
   ]
  },
  {
   "cell_type": "code",
   "execution_count": null,
   "metadata": {},
   "outputs": [],
   "source": [
    "'''\n",
    "cut columns in time dimension\n",
    "@type attrs: array\n",
    "@param attrs: default is None, columns to be cut\n",
    "    if not None, attr sprcified in attrs will be cut AND param inplace will be invalid\n",
    "@param start: default is None, start position\n",
    "    if start is None, cut from the very front position\n",
    "@param end: default is None, end position\n",
    "    if end is None, cut to the very last position\n",
    "@param form: default is point, type of start and end\n",
    "    if \"point\", start and end would mean absolute positions of columns\n",
    "    if \"time\", start and end would mean timestamp and need to multiply frequenct to get the absolute positions\n",
    "@param inplace: default if False, IF attrs is not None, this param will be invalid\n",
    "    if False, function will return a new STTimeseiries object\n",
    "    if True, function will make changes in current STTimeseries object\n",
    "'''\n",
    "cut_series = new_series.cut(attrs=['ecg_low_1'], start=1000, end=12000)\n",
    "cut_series.show()"
   ]
  },
  {
   "cell_type": "code",
   "execution_count": null,
   "metadata": {},
   "outputs": [],
   "source": [
    "new_series.show()\n",
    "new_series.cut(start=40, end=60, form='time', inplace=True)"
   ]
  },
  {
   "cell_type": "code",
   "execution_count": null,
   "metadata": {},
   "outputs": [],
   "source": [
    "new_series.show()"
   ]
  }
 ],
 "metadata": {
  "kernelspec": {
   "display_name": "Python 3",
   "language": "python",
   "name": "python3"
  },
  "language_info": {
   "codemirror_mode": {
    "name": "ipython",
    "version": 3
   },
   "file_extension": ".py",
   "mimetype": "text/x-python",
   "name": "python",
   "nbconvert_exporter": "python",
   "pygments_lexer": "ipython3",
   "version": "3.7.6"
  }
 },
 "nbformat": 4,
 "nbformat_minor": 2
}
