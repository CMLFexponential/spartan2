{
 "cells": [
  {
   "cell_type": "code",
   "execution_count": 1,
   "metadata": {},
   "outputs": [],
   "source": [
    "%matplotlib inline\n",
    "import spartan2.spartan as st"
   ]
  },
  {
   "cell_type": "code",
   "execution_count": 2,
   "metadata": {},
   "outputs": [],
   "source": [
    "# set the computing engine\n",
    "st.config(st.engine.SINGLEMACHINE)"
   ]
  },
  {
   "cell_type": "code",
   "execution_count": 3,
   "metadata": {},
   "outputs": [],
   "source": [
    "# load graph data\n",
    "data = st.loadTensor(name = \"example_graph\", path = \"inputData/\", col_ids = [\"uid\", \"oid\", \"rate\"],  col_types = [int, int, int])"
   ]
  },
  {
   "cell_type": "code",
   "execution_count": null,
   "metadata": {},
   "outputs": [],
   "source": [
    "# count degree\n",
    "Du, Dv = st.bidegree(data)"
   ]
  },
  {
   "cell_type": "code",
   "execution_count": null,
   "metadata": {},
   "outputs": [],
   "source": [
    "# create a anomaly detection model\n",
    "emmodel = st.anomaly_detection.create(data, st.ad_policy.EAGLEMINE, \"my_eaglemine_model\")\n",
    "emmodel.setbipartite(True)"
   ]
  },
  {
   "cell_type": "code",
   "execution_count": null,
   "metadata": {},
   "outputs": [
    {
     "name": "stdout",
     "output_type": "stream",
     "text": [
      "total shape: (33374, 2), valid samples:33352\n",
      "Histogram Info:\n",
      "\t Histogram shape: [66, 71]\n",
      "\t #points: 33352, #mode: 2\n",
      "Graph feature to histogram done!\n",
      "histogram: temp/histogram.out;  hode2pos: temp/node2hcel.out;  hpos_avgfeat: temp/hcel2avgfeat.out\n",
      "EagleMine algorithm\n",
      "*****************\n",
      "[0]. initialization and loading\n",
      "*****************\n",
      "[1]. WaterLevelTree\n",
      "\n",
      "========== \n",
      "Construct raw-tree.\n",
      "Info: maximum tree level: 10.2\n",
      "Info: Level-Tree build done!\n",
      "\n",
      "========== \n",
      "Refine tree structure.\n",
      "\n",
      "+++++++++ \n",
      "a). tree contract\n",
      "Info: Level-tree contract done!\n",
      "Info: Contract level-tree:\n",
      "Level tree basic information:\n",
      "#node: 3, #level: 2\n",
      "(node id): {@level, parent node, #childs, #elements}\n",
      "|---- (0): 1.0, -1, [28, 29], 299 |-\n",
      "    |---- (28): 7.799999999999999, 0, None, 5 |-\n",
      "    |---- (29): 7.799999999999999, 0, None, 30 |-\n",
      "dump done!\n",
      "\n",
      "+++++++++ \n",
      "b). tree prune\n",
      "Info: Level-tree prune done!\n",
      "Info: Pruned level-tree:\n",
      "Level tree basic information:\n",
      "#node: 1, #level: 2\n",
      "(node id): {@level, parent node, #childs, #elements}\n",
      "|---- (0): 1.0, -1, None, 299 |-\n",
      "dump done!\n",
      "\n",
      "+++++++++ \n",
      "c). tree node expand\n",
      "Info: Level-tree expand done!\n",
      "Level-tree serialization done!\n",
      "Info: Expanded level-tree:\n",
      "Level tree basic information:\n",
      "#node: 1, #level: 2\n",
      "(node id): {@level, parent node, #childs, #elements}\n",
      "|---- (0): 1.0, -1, None, 326 |-\n",
      "dump done!\n",
      "\n",
      "done\n",
      "done @ 2.334122657775879\n",
      "*****************\n",
      "[2]. TreeExplore\n",
      "Info: island: 0 hypothesis $ pseudo-Accept. ^..^\n",
      "done @ 226.59390377998352\n",
      "*****************\n",
      "[3]. node groups suspicious measure\n",
      "kl-divergence based suspicious: [(0, 0.00)]\n",
      "weighted suspicious orders: [(0, 0.00)]\n",
      "*****************\n",
      "saving result\n",
      "clustering done!\n",
      "Graph Model Description Length: 3798.0\n",
      "done @ 228.9280264377594\n"
     ]
    },
    {
     "data": {
      "image/png": "[encoded data removed]",
      "text/plain": [
       "<Figure size 624x576 with 1 Axes>"
      ]
     },
     "metadata": {},
     "output_type": "display_data"
    }
   ],
   "source": [
    "# run the eaglemine model\n",
    "emmodel.run(emmodel.U, Du)"
   ]
  },
  {
   "cell_type": "code",
   "execution_count": null,
   "metadata": {},
   "outputs": [
    {
     "name": "stdout",
     "output_type": "stream",
     "text": [
      "total shape: (65911, 2), valid samples:65889\n",
      "Histogram Info:\n",
      "\t Histogram shape: [61, 71]\n",
      "\t #points: 65889, #mode: 2\n",
      "Graph feature to histogram done!\n",
      "histogram: temp/histogram.out;  hode2pos: temp/node2hcel.out;  hpos_avgfeat: temp/hcel2avgfeat.out\n",
      "EagleMine algorithm\n",
      "*****************\n",
      "[0]. initialization and loading\n",
      "*****************\n",
      "[1]. WaterLevelTree\n",
      "\n",
      "========== \n",
      "Construct raw-tree.\n",
      "Info: maximum tree level: 11.399999999999999\n",
      "Info: Level-Tree build done!\n",
      "\n",
      "========== \n",
      "Refine tree structure.\n",
      "\n",
      "+++++++++ \n",
      "a). tree contract\n",
      "Info: Level-tree contract done!\n",
      "Info: Contract level-tree:\n",
      "Level tree basic information:\n",
      "#node: 8, #level: 3\n",
      "(node id): {@level, parent node, #childs, #elements}\n",
      "|---- (0): 1.0, -1, None, 8 |-\n",
      "|---- (1): 1.0, -1, None, 10 |-\n",
      "|---- (2): 1.0, -1, [61, 62, 63], 153 |-\n",
      "    |---- (61): 8.2, 2, None, 5 |-\n",
      "    |---- (62): 8.2, 2, None, 5 |-\n",
      "    |---- (63): 8.2, 2, [65, 66], 36 |-\n",
      "        |---- (65): 8.399999999999999, 63, None, 5 |-\n",
      "        |---- (66): 8.399999999999999, 63, None, 28 |-\n",
      "dump done!\n",
      "\n",
      "+++++++++ \n",
      "b). tree prune\n",
      "Info: Level-tree prune done!\n",
      "Info: Pruned level-tree:\n",
      "Level tree basic information:\n",
      "#node: 8, #level: 3\n",
      "(node id): {@level, parent node, #childs, #elements}\n",
      "|---- (0): 1.0, -1, None, 8 |-\n",
      "|---- (1): 1.0, -1, None, 10 |-\n",
      "|---- (2): 1.0, -1, [61, 62, 63], 153 |-\n",
      "    |---- (61): 8.2, 2, None, 5 |-\n",
      "    |---- (62): 8.2, 2, None, 5 |-\n",
      "    |---- (63): 8.2, 2, [65, 66], 36 |-\n",
      "        |---- (65): 8.399999999999999, 63, None, 5 |-\n",
      "        |---- (66): 8.399999999999999, 63, None, 28 |-\n",
      "dump done!\n",
      "\n",
      "+++++++++ \n",
      "c). tree node expand\n",
      "Info: Level-tree expand done!\n",
      "Level-tree serialization done!\n",
      "Info: Expanded level-tree:\n",
      "Level tree basic information:\n",
      "#node: 8, #level: 3\n",
      "(node id): {@level, parent node, #childs, #elements}\n",
      "|---- (0): 1.0, -1, None, 12 |-\n",
      "|---- (1): 1.0, -1, None, 13 |-\n",
      "|---- (2): 1.0, -1, [61, 62, 63], 157 |-\n",
      "    |---- (61): 8.2, 2, None, 16 |-\n",
      "    |---- (62): 8.2, 2, None, 16 |-\n",
      "    |---- (63): 8.2, 2, [65, 66], 72 |-\n",
      "        |---- (65): 8.399999999999999, 63, None, 19 |-\n",
      "        |---- (66): 8.399999999999999, 63, None, 53 |-\n",
      "dump done!\n",
      "\n",
      "done\n",
      "done @ 1.1696815490722656\n",
      "*****************\n",
      "[2]. TreeExplore\n",
      "Info: island: 0 hypothesis $ pseudo-Accept. ^..^\n",
      "Info: island: 1 hypothesis $ pseudo-Accept. ^..^\n",
      "Info island: 2 hypothesis & Rejected. >_<\n",
      "Info: island: 61 hypothesis $ pseudo-Accept. ^..^\n",
      "Info: island: 62 hypothesis $ pseudo-Accept. ^..^\n",
      "Info island: 63 hypothesis & Rejected. >_<\n",
      "Info: island: 65 hypothesis $ pseudo-Accept. ^..^\n",
      "Info: island: 66 hypothesis $ pseudo-Accept. ^..^\n",
      "(0, 1)\n",
      "Info: test new merging node: (0, 1) ([0], [1])\n",
      "Info:  ------ node (0, 1) check failed ------\n",
      "(0, 61)\n",
      "(0, 62)\n",
      "(0, 65)\n",
      "(1, 61)\n",
      "(1, 62)\n",
      "(1, 65)\n",
      "(61, 62)\n",
      "Info: test new merging node: (61, 62) ([61], [62])\n",
      "Info:  ------ node (61, 62) check failed ------\n",
      "(61, 65)\n",
      "(62, 65)\n",
      "Info: test new merging node: (62, 65) ([62], [65])\n",
      "Info:  ------ node (62, 65) check failed ------\n",
      "done @ 214.32246708869934\n",
      "*****************\n",
      "[3]. node groups suspicious measure\n"
     ]
    }
   ],
   "source": [
    "emmodel.run(emmodel.V, Dv)"
   ]
  },
  {
   "cell_type": "code",
   "execution_count": null,
   "metadata": {},
   "outputs": [],
   "source": [
    "A, B = emmodel.nodes(n=0)"
   ]
  },
  {
   "cell_type": "code",
   "execution_count": null,
   "metadata": {},
   "outputs": [],
   "source": [
    "g = st.subgraph(data, A, B)"
   ]
  },
  {
   "cell_type": "code",
   "execution_count": null,
   "metadata": {},
   "outputs": [],
   "source": []
  }
 ],
 "metadata": {
  "file_extension": ".py",
  "kernelspec": {
   "display_name": "Python 3",
   "language": "python",
   "name": "python3"
  },
  "language_info": {
   "codemirror_mode": {
    "name": "ipython",
    "version": 3
   },
   "file_extension": ".py",
   "mimetype": "text/x-python",
   "name": "python",
   "nbconvert_exporter": "python",
   "pygments_lexer": "ipython3",
   "version": "3.7.3"
  },
  "mimetype": "text/x-python",
  "name": "python",
  "npconvert_exporter": "python",
  "pygments_lexer": "ipython2",
  "version": 2
 },
 "nbformat": 4,
 "nbformat_minor": 2
}
