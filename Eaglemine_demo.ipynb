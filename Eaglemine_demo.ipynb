{
 "cells": [
  {
   "cell_type": "code",
   "execution_count": 13,
   "metadata": {},
   "outputs": [],
   "source": [
    "%matplotlib inline\n",
    "import spartan2.spartan as st"
   ]
  },
  {
   "cell_type": "code",
   "execution_count": 14,
   "metadata": {},
   "outputs": [],
   "source": [
    "# set the computing engine\n",
    "st.config(st.engine.SINGLEMACHINE)"
   ]
  },
  {
   "cell_type": "code",
   "execution_count": 15,
   "metadata": {
    "scrolled": true
   },
   "outputs": [
    {
     "name": "stdout",
     "output_type": "stream",
     "text": [
      "Info: Tensor is loaded\n",
      "           ----------------------\n",
      "             attr     |\t2\n",
      "             values   |\t1\n",
      "             nonzeros |\t1569207\n",
      "\n"
     ]
    }
   ],
   "source": [
    "# load graph data\n",
    "data = st.loadTensor(name = \"example_graph\", path = \"inputData/\", col_types = [int, int, int], hasvalue=1)"
   ]
  },
  {
   "cell_type": "code",
   "execution_count": 16,
   "metadata": {},
   "outputs": [],
   "source": [
    "graph = data.toGraph()"
   ]
  },
  {
   "cell_type": "code",
   "execution_count": 17,
   "metadata": {},
   "outputs": [],
   "source": [
    "# create a eigen decomposition model\n",
    "edmodel = st.decomposition.create(graph.sm, st.ed_policy.SVDS, \"my_svds_model\")"
   ]
  },
  {
   "cell_type": "code",
   "execution_count": 18,
   "metadata": {
    "scrolled": true
   },
   "outputs": [],
   "source": [
    "U,S,V = edmodel.run(k=2)"
   ]
  },
  {
   "cell_type": "code",
   "execution_count": 19,
   "metadata": {
    "scrolled": true
   },
   "outputs": [
    {
     "data": {
      "text/plain": [
       "((33374, 2), (2,), (65911, 2), array([[ 2.48277982e-04,  2.47874891e-04],\n",
       "        [-2.19158300e-04,  9.78766659e-05],\n",
       "        [-3.41005622e-04,  9.96969966e-05],\n",
       "        [-1.67891131e-02,  6.10638097e-03],\n",
       "        [ 8.87094600e-04,  7.84294756e-04],\n",
       "        [-2.22925004e-04,  3.00468034e-05],\n",
       "        [-7.27574906e-05,  2.74464209e-04],\n",
       "        [ 4.02940118e-04,  1.37985455e-04],\n",
       "        [-1.28570390e-04,  3.70867734e-05],\n",
       "        [-1.06159299e-02,  6.07279604e-03]]), array([[0.00054503, 0.00014602],\n",
       "        [0.0016683 , 0.0006514 ],\n",
       "        [0.0245407 , 0.01650477],\n",
       "        [0.03269422, 0.03002005],\n",
       "        [0.02649508, 0.02308551],\n",
       "        [0.00414879, 0.00289192],\n",
       "        [0.01080647, 0.00528723],\n",
       "        [0.01754751, 0.02825361],\n",
       "        [0.01064132, 0.004666  ],\n",
       "        [0.00846382, 0.00423448]]))"
      ]
     },
     "execution_count": 19,
     "metadata": {},
     "output_type": "execute_result"
    }
   ],
   "source": [
    "U.shape, S.shape, V.shape, U[:10], V[:10]"
   ]
  },
  {
   "cell_type": "code",
   "execution_count": 22,
   "metadata": {},
   "outputs": [],
   "source": [
    "# create a anomaly detection model\n",
    "emmodel = st.anomaly_detection.create(graph, st.ad_policy.EAGLEMINE, \"my_eaglemine_model\")\n"
   ]
  },
  {
   "cell_type": "code",
   "execution_count": 23,
   "metadata": {},
   "outputs": [],
   "source": [
    "du, dv = graph.degrees()"
   ]
  },
  {
   "cell_type": "code",
   "execution_count": 24,
   "metadata": {
    "scrolled": false
   },
   "outputs": [
    {
     "name": "stdout",
     "output_type": "stream",
     "text": [
      "total shape: (33374, 2), valid samples:19500\n",
      "Histogram Info:\n",
      "\t Histogram shape: [64, 71]\n",
      "\t #points: 19500, #mode: 2\n",
      "Graph feature to histogram done!\n",
      "histogram: temp/histogram.out;  hode2pos: temp/node2hcel.out;  hpos_avgfeat: temp/hcel2avgfeat.out\n",
      "EagleMine algorithm\n",
      "*****************\n",
      "[0]. initialization and loading\n",
      "*****************\n",
      "[1]. WaterLevelTree\n",
      "\n",
      "========== \n",
      "Construct raw-tree.\n",
      "(47, 62):1\n",
      "(46, 61):1\n",
      "(46, 62):1\n",
      "(47, 61):1\n",
      "(12, 54):2\n",
      "(11, 53):1\n",
      "(11, 54):1\n",
      "(12, 53):1\n",
      "Info: maximum tree level: 8.999999999999998\n",
      "Info: Level-Tree build done!\n",
      "\n",
      "========== \n",
      "Refine tree structure.\n",
      "\n",
      "+++++++++ \n",
      "a). tree contract\n",
      "Info: Level-tree contract done!\n",
      "Info: Contract level-tree:\n",
      "Level tree basic information:\n",
      "#node: 1, #level: 1\n",
      "(node id): {@level, parent node, #childs, #elements}\n",
      "|---- (0): 1.0, -1, None, 459 |-\n",
      "dump done!\n",
      "\n",
      "+++++++++ \n",
      "b). tree prune\n",
      "Info: Level-tree prune done!\n",
      "Info: Pruned level-tree:\n",
      "Level tree basic information:\n",
      "#node: 1, #level: 1\n",
      "(node id): {@level, parent node, #childs, #elements}\n",
      "|---- (0): 1.0, -1, None, 459 |-\n",
      "dump done!\n",
      "\n",
      "+++++++++ \n",
      "c). tree node expand\n",
      "Info: Level-tree expand done!\n",
      "Level-tree serialization done!\n",
      "Info: Expanded level-tree:\n",
      "Level tree basic information:\n",
      "#node: 1, #level: 1\n",
      "(node id): {@level, parent node, #childs, #elements}\n",
      "|---- (0): 1.0, -1, None, 513 |-\n",
      "dump done!\n",
      "\n",
      "done\n",
      "done @ 2.483104944229126\n",
      "*****************\n",
      "[2]. TreeExplore\n",
      "Info: island: 0 hypothesis $ pseudo-Accept. ^..^\n",
      "done @ 377.79121112823486\n",
      "*****************\n",
      "[3]. node groups suspicious measure\n",
      "kl-divergence based suspicious: [(0, 0.00)]\n",
      "weighted suspicious orders: [(0, 0.00)]\n",
      "*****************\n",
      "saving result\n",
      "clustering done!\n",
      "Graph Model Description Length: 4766.0\n",
      "done @ 380.274316072464\n"
     ]
    },
    {
     "data": {
      "image/png": "[encoded data removed]",
      "text/plain": [
       "<Figure size 624x576 with 1 Axes>"
      ]
     },
     "metadata": {},
     "output_type": "display_data"
    }
   ],
   "source": [
    "# run the eaglemine model\n",
    "emmodel.run(U[:,0], du)"
   ]
  },
  {
   "cell_type": "code",
   "execution_count": 27,
   "metadata": {},
   "outputs": [
    {
     "data": {
      "text/plain": [
       "((65911, 2), (65911, 1))"
      ]
     },
     "execution_count": 27,
     "metadata": {},
     "output_type": "execute_result"
    }
   ],
   "source": [
    "V.shape, dv.T.shape"
   ]
  },
  {
   "cell_type": "code",
   "execution_count": 25,
   "metadata": {},
   "outputs": [
    {
     "ename": "IndexError",
     "evalue": "index 1 is out of bounds for axis 0 with size 1",
     "output_type": "error",
     "traceback": [
      "\u001b[0;31m---------------------------------------------------------------------------\u001b[0m",
      "\u001b[0;31mIndexError\u001b[0m                                Traceback (most recent call last)",
      "\u001b[0;32m<ipython-input-25-5fe71125e6a4>\u001b[0m in \u001b[0;36m<module>\u001b[0;34m\u001b[0m\n\u001b[0;32m----> 1\u001b[0;31m \u001b[0memmodel\u001b[0m\u001b[0;34m.\u001b[0m\u001b[0mrun\u001b[0m\u001b[0;34m(\u001b[0m\u001b[0mV\u001b[0m\u001b[0;34m[\u001b[0m\u001b[0;34m:\u001b[0m\u001b[0;34m,\u001b[0m\u001b[0;36m0\u001b[0m\u001b[0;34m]\u001b[0m\u001b[0;34m,\u001b[0m \u001b[0mdv\u001b[0m\u001b[0;34m)\u001b[0m\u001b[0;34m\u001b[0m\u001b[0;34m\u001b[0m\u001b[0m\n\u001b[0m",
      "\u001b[0;32m~/working/spartan2/spartan2/algorithm.py\u001b[0m in \u001b[0;36mrun\u001b[0;34m(self, x_feature_array, y_feature_array)\u001b[0m\n\u001b[1;32m     35\u001b[0m \u001b[0;34m\u001b[0m\u001b[0m\n\u001b[1;32m     36\u001b[0m     \u001b[0;32mdef\u001b[0m \u001b[0mrun\u001b[0m\u001b[0;34m(\u001b[0m\u001b[0mself\u001b[0m\u001b[0;34m,\u001b[0m \u001b[0mx_feature_array\u001b[0m\u001b[0;34m,\u001b[0m \u001b[0my_feature_array\u001b[0m\u001b[0;34m)\u001b[0m\u001b[0;34m:\u001b[0m\u001b[0;34m\u001b[0m\u001b[0;34m\u001b[0m\u001b[0m\n\u001b[0;32m---> 37\u001b[0;31m         \u001b[0mnode_cluster\u001b[0m \u001b[0;34m=\u001b[0m \u001b[0mself\u001b[0m\u001b[0;34m.\u001b[0m\u001b[0malg_func\u001b[0m\u001b[0;34m(\u001b[0m\u001b[0mx_feature_array\u001b[0m\u001b[0;34m,\u001b[0m \u001b[0my_feature_array\u001b[0m\u001b[0;34m)\u001b[0m\u001b[0;34m\u001b[0m\u001b[0;34m\u001b[0m\u001b[0m\n\u001b[0m\u001b[1;32m     38\u001b[0m         \u001b[0mself\u001b[0m\u001b[0;34m.\u001b[0m\u001b[0mnode_clusters\u001b[0m\u001b[0;34m.\u001b[0m\u001b[0mappend\u001b[0m\u001b[0;34m(\u001b[0m\u001b[0mnode_cluster\u001b[0m\u001b[0;34m)\u001b[0m\u001b[0;34m\u001b[0m\u001b[0;34m\u001b[0m\u001b[0m\n\u001b[1;32m     39\u001b[0m \u001b[0;34m\u001b[0m\u001b[0m\n",
      "\u001b[0;32m~/working/spartan2/spartan2/models/SingleMachine.py\u001b[0m in \u001b[0;36mEAGLEMINE\u001b[0;34m(self, x_feature_array, y_feature_array)\u001b[0m\n\u001b[1;32m     60\u001b[0m         }\n\u001b[1;32m     61\u001b[0m         \u001b[0marray_length\u001b[0m \u001b[0;34m=\u001b[0m \u001b[0mlen\u001b[0m\u001b[0;34m(\u001b[0m\u001b[0mx_feature_array\u001b[0m\u001b[0;34m)\u001b[0m\u001b[0;34m\u001b[0m\u001b[0;34m\u001b[0m\u001b[0m\n\u001b[0;32m---> 62\u001b[0;31m         \u001b[0mmix_array\u001b[0m \u001b[0;34m=\u001b[0m \u001b[0;34m[\u001b[0m\u001b[0;34m[\u001b[0m\u001b[0my_feature_array\u001b[0m\u001b[0;34m[\u001b[0m\u001b[0mi\u001b[0m\u001b[0;34m]\u001b[0m\u001b[0;34m,\u001b[0m \u001b[0mx_feature_array\u001b[0m\u001b[0;34m[\u001b[0m\u001b[0mi\u001b[0m\u001b[0;34m]\u001b[0m\u001b[0;34m]\u001b[0m \u001b[0;32mfor\u001b[0m \u001b[0mi\u001b[0m \u001b[0;32min\u001b[0m \u001b[0mrange\u001b[0m\u001b[0;34m(\u001b[0m\u001b[0marray_length\u001b[0m\u001b[0;34m)\u001b[0m\u001b[0;34m]\u001b[0m\u001b[0;34m\u001b[0m\u001b[0;34m\u001b[0m\u001b[0m\n\u001b[0m\u001b[1;32m     63\u001b[0m         \u001b[0mgraph_ndft\u001b[0m \u001b[0;34m=\u001b[0m \u001b[0mnp\u001b[0m\u001b[0;34m.\u001b[0m\u001b[0marray\u001b[0m\u001b[0;34m(\u001b[0m\u001b[0mmix_array\u001b[0m\u001b[0;34m,\u001b[0m \u001b[0mdtype\u001b[0m\u001b[0;34m=\u001b[0m\u001b[0mnp\u001b[0m\u001b[0;34m.\u001b[0m\u001b[0mfloat64\u001b[0m\u001b[0;34m)\u001b[0m\u001b[0;34m\u001b[0m\u001b[0;34m\u001b[0m\u001b[0m\n\u001b[1;32m     64\u001b[0m         \u001b[0mhistogram_construct\u001b[0m\u001b[0;34m(\u001b[0m\u001b[0mgraph_ndft\u001b[0m\u001b[0;34m,\u001b[0m \u001b[0mint\u001b[0m\u001b[0;34m(\u001b[0m\u001b[0;36m1\u001b[0m\u001b[0;34m)\u001b[0m\u001b[0;34m,\u001b[0m \u001b[0mtempdir\u001b[0m \u001b[0;34m+\u001b[0m \u001b[0mtempfile\u001b[0m\u001b[0;34m[\u001b[0m\u001b[0;34m\"histogram\"\u001b[0m\u001b[0;34m]\u001b[0m\u001b[0;34m,\u001b[0m \u001b[0mtempdir\u001b[0m \u001b[0;34m+\u001b[0m \u001b[0mtempfile\u001b[0m\u001b[0;34m[\u001b[0m\u001b[0;34m\"node2hcel\"\u001b[0m\u001b[0;34m]\u001b[0m\u001b[0;34m,\u001b[0m \u001b[0mtempdir\u001b[0m \u001b[0;34m+\u001b[0m \u001b[0mtempfile\u001b[0m\u001b[0;34m[\u001b[0m\u001b[0;34m\"hcel2avgfeat\"\u001b[0m\u001b[0;34m]\u001b[0m\u001b[0;34m)\u001b[0m\u001b[0;34m\u001b[0m\u001b[0;34m\u001b[0m\u001b[0m\n",
      "\u001b[0;32m~/working/spartan2/spartan2/models/SingleMachine.py\u001b[0m in \u001b[0;36m<listcomp>\u001b[0;34m(.0)\u001b[0m\n\u001b[1;32m     60\u001b[0m         }\n\u001b[1;32m     61\u001b[0m         \u001b[0marray_length\u001b[0m \u001b[0;34m=\u001b[0m \u001b[0mlen\u001b[0m\u001b[0;34m(\u001b[0m\u001b[0mx_feature_array\u001b[0m\u001b[0;34m)\u001b[0m\u001b[0;34m\u001b[0m\u001b[0;34m\u001b[0m\u001b[0m\n\u001b[0;32m---> 62\u001b[0;31m         \u001b[0mmix_array\u001b[0m \u001b[0;34m=\u001b[0m \u001b[0;34m[\u001b[0m\u001b[0;34m[\u001b[0m\u001b[0my_feature_array\u001b[0m\u001b[0;34m[\u001b[0m\u001b[0mi\u001b[0m\u001b[0;34m]\u001b[0m\u001b[0;34m,\u001b[0m \u001b[0mx_feature_array\u001b[0m\u001b[0;34m[\u001b[0m\u001b[0mi\u001b[0m\u001b[0;34m]\u001b[0m\u001b[0;34m]\u001b[0m \u001b[0;32mfor\u001b[0m \u001b[0mi\u001b[0m \u001b[0;32min\u001b[0m \u001b[0mrange\u001b[0m\u001b[0;34m(\u001b[0m\u001b[0marray_length\u001b[0m\u001b[0;34m)\u001b[0m\u001b[0;34m]\u001b[0m\u001b[0;34m\u001b[0m\u001b[0;34m\u001b[0m\u001b[0m\n\u001b[0m\u001b[1;32m     63\u001b[0m         \u001b[0mgraph_ndft\u001b[0m \u001b[0;34m=\u001b[0m \u001b[0mnp\u001b[0m\u001b[0;34m.\u001b[0m\u001b[0marray\u001b[0m\u001b[0;34m(\u001b[0m\u001b[0mmix_array\u001b[0m\u001b[0;34m,\u001b[0m \u001b[0mdtype\u001b[0m\u001b[0;34m=\u001b[0m\u001b[0mnp\u001b[0m\u001b[0;34m.\u001b[0m\u001b[0mfloat64\u001b[0m\u001b[0;34m)\u001b[0m\u001b[0;34m\u001b[0m\u001b[0;34m\u001b[0m\u001b[0m\n\u001b[1;32m     64\u001b[0m         \u001b[0mhistogram_construct\u001b[0m\u001b[0;34m(\u001b[0m\u001b[0mgraph_ndft\u001b[0m\u001b[0;34m,\u001b[0m \u001b[0mint\u001b[0m\u001b[0;34m(\u001b[0m\u001b[0;36m1\u001b[0m\u001b[0;34m)\u001b[0m\u001b[0;34m,\u001b[0m \u001b[0mtempdir\u001b[0m \u001b[0;34m+\u001b[0m \u001b[0mtempfile\u001b[0m\u001b[0;34m[\u001b[0m\u001b[0;34m\"histogram\"\u001b[0m\u001b[0;34m]\u001b[0m\u001b[0;34m,\u001b[0m \u001b[0mtempdir\u001b[0m \u001b[0;34m+\u001b[0m \u001b[0mtempfile\u001b[0m\u001b[0;34m[\u001b[0m\u001b[0;34m\"node2hcel\"\u001b[0m\u001b[0;34m]\u001b[0m\u001b[0;34m,\u001b[0m \u001b[0mtempdir\u001b[0m \u001b[0;34m+\u001b[0m \u001b[0mtempfile\u001b[0m\u001b[0;34m[\u001b[0m\u001b[0;34m\"hcel2avgfeat\"\u001b[0m\u001b[0;34m]\u001b[0m\u001b[0;34m)\u001b[0m\u001b[0;34m\u001b[0m\u001b[0;34m\u001b[0m\u001b[0m\n",
      "\u001b[0;32m~/anaconda2/envs/medpy3/lib/python3.6/site-packages/numpy/matrixlib/defmatrix.py\u001b[0m in \u001b[0;36m__getitem__\u001b[0;34m(self, index)\u001b[0m\n\u001b[1;32m    193\u001b[0m \u001b[0;34m\u001b[0m\u001b[0m\n\u001b[1;32m    194\u001b[0m         \u001b[0;32mtry\u001b[0m\u001b[0;34m:\u001b[0m\u001b[0;34m\u001b[0m\u001b[0;34m\u001b[0m\u001b[0m\n\u001b[0;32m--> 195\u001b[0;31m             \u001b[0mout\u001b[0m \u001b[0;34m=\u001b[0m \u001b[0mN\u001b[0m\u001b[0;34m.\u001b[0m\u001b[0mndarray\u001b[0m\u001b[0;34m.\u001b[0m\u001b[0m__getitem__\u001b[0m\u001b[0;34m(\u001b[0m\u001b[0mself\u001b[0m\u001b[0;34m,\u001b[0m \u001b[0mindex\u001b[0m\u001b[0;34m)\u001b[0m\u001b[0;34m\u001b[0m\u001b[0;34m\u001b[0m\u001b[0m\n\u001b[0m\u001b[1;32m    196\u001b[0m         \u001b[0;32mfinally\u001b[0m\u001b[0;34m:\u001b[0m\u001b[0;34m\u001b[0m\u001b[0;34m\u001b[0m\u001b[0m\n\u001b[1;32m    197\u001b[0m             \u001b[0mself\u001b[0m\u001b[0;34m.\u001b[0m\u001b[0m_getitem\u001b[0m \u001b[0;34m=\u001b[0m \u001b[0;32mFalse\u001b[0m\u001b[0;34m\u001b[0m\u001b[0;34m\u001b[0m\u001b[0m\n",
      "\u001b[0;31mIndexError\u001b[0m: index 1 is out of bounds for axis 0 with size 1"
     ]
    }
   ],
   "source": [
    "emmodel.run(V[:,0], dv.T)"
   ]
  },
  {
   "cell_type": "code",
   "execution_count": 11,
   "metadata": {},
   "outputs": [],
   "source": [
    "A, B = emmodel.nodes(n=0)"
   ]
  },
  {
   "cell_type": "code",
   "execution_count": 12,
   "metadata": {},
   "outputs": [],
   "source": [
    "g = st.subgraph(data, A, B)"
   ]
  },
  {
   "cell_type": "code",
   "execution_count": null,
   "metadata": {},
   "outputs": [],
   "source": []
  },
  {
   "cell_type": "code",
   "execution_count": null,
   "metadata": {},
   "outputs": [],
   "source": []
  }
 ],
 "metadata": {
  "file_extension": ".py",
  "kernelspec": {
   "display_name": "Python 3",
   "language": "python",
   "name": "python3"
  },
  "language_info": {
   "codemirror_mode": {
    "name": "ipython",
    "version": 3
   },
   "file_extension": ".py",
   "mimetype": "text/x-python",
   "name": "python",
   "nbconvert_exporter": "python",
   "pygments_lexer": "ipython3",
   "version": "3.6.8"
  },
  "mimetype": "text/x-python",
  "name": "python",
  "npconvert_exporter": "python",
  "pygments_lexer": "ipython2",
  "version": 2
 },
 "nbformat": 4,
 "nbformat_minor": 2
}
