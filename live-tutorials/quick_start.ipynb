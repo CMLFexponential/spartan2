{
 "cells": [
  {
   "cell_type": "markdown",
   "metadata": {},
   "source": [
    "# Load tensor"
   ]
  },
  {
   "cell_type": "code",
   "execution_count": null,
   "metadata": {},
   "outputs": [],
   "source": [
    "import spartan as st\n",
    "\n",
    "# set the computing engine\n",
    "st.config(st.engine.SINGLEMACHINE)\n",
    "\n",
    "# load graph data, data stores as edgelist in database, e.g.~pandas, sqlite, postgress, hive\n",
    "data = st.loadTensor(name=\"yelp\", path=\"~/Data/\", col_ids = [\"uid\", \"oid\", \"rating\"], col_types = [int, int, int])\n"
   ]
  },
  {
   "cell_type": "markdown",
   "metadata": {},
   "source": [
    "# degree"
   ]
  },
  {
   "cell_type": "code",
   "execution_count": null,
   "metadata": {},
   "outputs": [],
   "source": [
    "# count degree\n",
    "Du, Dv = st.bidegree(data)\n",
    "# D = st.degree(data)"
   ]
  },
  {
   "cell_type": "markdown",
   "metadata": {},
   "source": [
    "# Count triangles"
   ]
  },
  {
   "cell_type": "code",
   "execution_count": null,
   "metadata": {},
   "outputs": [],
   "source": [
    " # create triangle count model\n",
    "trimodel = st.triangle_count.create(data, st.tc_policy.DOULION, \"my_doulion_model\")\n",
    "\n",
    " # run the model by default set undirected for graphs\n",
    "trimodel.run(p=0.8)\n",
    "\n",
    " # show the results\n",
    "trimodel.showResults(plot=True)"
   ]
  },
  {
   "cell_type": "markdown",
   "metadata": {},
   "source": [
    "# Subgraph"
   ]
  },
  {
   "cell_type": "code",
   "execution_count": null,
   "metadata": {},
   "outputs": [],
   "source": [
    "g = st.subgraph(data, A, B)\n",
    "# g = st.subgraph(data, A)"
   ]
  },
  {
   "cell_type": "markdown",
   "metadata": {},
   "source": [
    "# Eigen decomposition"
   ]
  },
  {
   "cell_type": "code",
   "execution_count": null,
   "metadata": {},
   "outputs": [],
   "source": [
    "# create a eigen decomposition model\n",
    "edmodel = st.eigen_decompose.create(data, st.ed_policy.SVDS, \"my_svds_model\")\n",
    "\n",
    "# run the model\n",
    "edmodel.run(k=10)\n",
    "\n",
    "# show the result\n",
    "edmodel.showResults()"
   ]
  },
  {
   "cell_type": "markdown",
   "metadata": {},
   "source": [
    "# Anomaly detection"
   ]
  },
  {
   "cell_type": "code",
   "execution_count": null,
   "metadata": {},
   "outputs": [],
   "source": [
    " # create a anomaly detection model\n",
    "hsmodel = st.anomaly_detection.create(data, st.ad_policy.HOLOSCOPE, \"my_holoscope_model\")\n",
    "\n",
    " # run the model\n",
    "hsmodel.run(k=3)\n",
    "\n",
    " # show the results\n",
    "hsmodel.showResults()"
   ]
  }
 ],
 "metadata": {
  "file_extension": ".py",
  "language_info": {
   "codemirror_mode": {
    "name": "ipython",
    "version": 3
   },
   "name": "python"
  },
  "mimetype": "text/x-python",
  "name": "python",
  "npconvert_exporter": "python",
  "pygments_lexer": "ipython3",
  "version": 3
 },
 "nbformat": 4,
 "nbformat_minor": 2
}
