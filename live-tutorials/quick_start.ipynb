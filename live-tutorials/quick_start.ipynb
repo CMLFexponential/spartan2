{
 "cells": [
  {
   "cell_type": "markdown",
   "metadata": {},
   "source": [
    "## Load tensor\n",
    "By default, backend is configured as CPU"
   ]
  },
  {
   "cell_type": "code",
   "execution_count": 1,
   "metadata": {
    "scrolled": true
   },
   "outputs": [
    {
     "name": "stdout",
     "output_type": "stream",
     "text": [
      "Using backend cpu\n"
     ]
    }
   ],
   "source": [
    "import spartan as st"
   ]
  },
  {
   "cell_type": "markdown",
   "metadata": {},
   "source": [
    "load tensor data, i.e. list of tuples, data can from various sources, e.g.~csv file, sql-db.\n",
    "### list of tuples can be two categories:\n",
    "\n",
    "1. List of graph edge and edge properties"
   ]
  },
  {
   "cell_type": "code",
   "execution_count": 12,
   "metadata": {},
   "outputs": [],
   "source": [
    "# if col_types is not given, the types will be inferred.\n",
    "# if col_idx is not given, all columns will be used in original order.\n",
    "tensor_data = st.loadTensor(path = \"./inputData/yelp.tensor.gz\", header=None, \n",
    "                            col_idx=[0,1,2,3,4], col_types=[int,int,str,int,int])"
   ]
  },
  {
   "cell_type": "markdown",
   "metadata": {},
   "source": [
    "|row id |    0\t|   1\t|         2    \t|   3 \t|   4  \t|\n",
    "|-----:\t|-----:\t|----:\t|-----------:\t|----:\t|-----\t|\n",
    "|    0 \t|    0 \t|   0 \t| 2012-08-01 \t|   4 \t|   1 \t|\n",
    "|    1 \t|    1 \t|   0 \t| 2014-02-13 \t|   5 \t|   1 \t|\n",
    "|    2 \t|    2 \t|   0 \t| 2015-10-31 \t|   5 \t|   1 \t|\n",
    "|    3 \t|    3 \t|   0 \t| 2015-12-26 \t|   3 \t|   1 \t|\n",
    "|    4 \t|    4 \t|   0 \t| 2016-04-08 \t|   2 \t|   1 \t|\n",
    "|  ... \t|  ... \t| ... \t|        ... \t| ... \t| ... \t|\n",
    "| 9995 \t| 4523 \t| 508 \t| 2013-03-06 \t|   5 \t|   1 \t|\n",
    "| 9996 \t|  118 \t| 508 \t| 2013-03-07 \t|   4 \t|   1 \t|\n",
    "| 9997 \t| 5884 \t| 508 \t| 2013-03-07 \t|   1 \t|   1 \t|\n",
    "| 9998 \t| 2628 \t| 508 \t| 2013-04-08 \t|   5 \t|   1 \t|\n",
    "| 9999 \t| 5885 \t| 508 \t| 2013-06-17 \t|   5 \t|   1 \t|\n",
    "\n",
    "Then, generate sparse tensor, i.e. instance of st.STensor"
   ]
  },
  {
   "cell_type": "code",
   "execution_count": 4,
   "metadata": {},
   "outputs": [],
   "source": [
    "# generate sparse tensor\n",
    "stensor = tensor_data.toSTensor(hasvalue=True, mappers={2:st.TimeMapper(timeformat='%Y-%m-%d')})"
   ]
  },
  {
   "cell_type": "markdown",
   "metadata": {},
   "source": [
    "Or, map column into indices and then construct STensor. "
   ]
  },
  {
   "cell_type": "code",
   "execution_count": 14,
   "metadata": {},
   "outputs": [],
   "source": [
    "# load a new tensor data\n",
    "tensor_data = st.loadTensor(path = \"./inputData/yelp.tensor.gz\", header=None, \n",
    "                            col_idx=[0,1,2,3,4], col_types=[int,int,str,int,int])\n",
    "# separately do map\n",
    "coords, data = tensor_data.do_map(hasvalue=True, mappers={2:st.TimeMapper(timeformat='%Y-%m-%d')})\n",
    "# construct stensor\n",
    "stensor = st.STensor((coords.T, data))"
   ]
  },
  {
   "cell_type": "markdown",
   "metadata": {},
   "source": [
    "Construct a graph with stensor"
   ]
  },
  {
   "cell_type": "code",
   "execution_count": 15,
   "metadata": {},
   "outputs": [],
   "source": [
    "# construct a graph: adjacency matrix from the first two modes of stensor\n",
    "# edge properties in other modes of stensor\n",
    "# modet: given the temporal mode idx if algorithm needs temporal analysis.\n",
    "graph = st.Graph(stensor, bipartite=True, weighted=True, modet=2)"
   ]
  },
  {
   "cell_type": "markdown",
   "metadata": {},
   "source": [
    "2. List of timeseries values from different sensors"
   ]
  },
  {
   "cell_type": "code",
   "execution_count": 16,
   "metadata": {},
   "outputs": [],
   "source": [
    "tensor_data = st.loadTensor(path = \"inputData/example_time.tensor\", \n",
    "                            col_types = [float, float, float])\n",
    "\n",
    "# 1-D DTensor for time ticks, and multi-dimensional array DTensor for multivariate time series\n",
    "time, value =  tensor_data.toDTensor(hastticks=True)"
   ]
  },
  {
   "cell_type": "markdown",
   "metadata": {},
   "source": [
    "Construct a st.Timeseires with DTensor instances."
   ]
  },
  {
   "cell_type": "code",
   "execution_count": 17,
   "metadata": {},
   "outputs": [],
   "source": [
    "time_series = st.Timeseries(value, time)"
   ]
  }
 ],
 "metadata": {
  "file_extension": ".py",
  "kernelspec": {
   "display_name": "Python 3",
   "language": "python",
   "name": "python3"
  },
  "language_info": {
   "codemirror_mode": {
    "name": "ipython",
    "version": 3
   },
   "file_extension": ".py",
   "mimetype": "text/x-python",
   "name": "python",
   "nbconvert_exporter": "python",
   "pygments_lexer": "ipython3",
   "version": "3.6.8"
  },
  "mimetype": "text/x-python",
  "name": "python",
  "npconvert_exporter": "python",
  "pygments_lexer": "ipython3",
  "version": 3
 },
 "nbformat": 4,
 "nbformat_minor": 2
}
