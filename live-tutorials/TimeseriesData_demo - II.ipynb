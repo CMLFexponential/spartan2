{
 "cells": [
  {
   "cell_type": "markdown",
   "metadata": {},
   "source": [
    "# Time series tensor live-tutorials - Part 2.\n",
    "Here you can learn more use of tensor in time series data.\n",
    "If you want the picture shown outside this tutorial, uncomment following line."
   ]
  },
  {
   "cell_type": "markdown",
   "metadata": {},
   "source": [
    "Import spartan package.<br/>\n",
    "Remember to install spartan from pip or clone the project from github before doing this."
   ]
  },
  {
   "cell_type": "code",
   "execution_count": null,
   "metadata": {},
   "outputs": [],
   "source": [
    "import sys\n",
    "sys.path.append('..')\n",
    "import spartan as st"
   ]
  },
  {
   "cell_type": "markdown",
   "metadata": {},
   "source": [
    "Load data by function ```loadTensor```.<br/>\n",
    "Transfer to DTensor, designed for time series, by function ```toDTensor```.<br/>\n",
    "Create Timeseries object by calling init function ```st.Timeseries```."
   ]
  },
  {
   "cell_type": "code",
   "execution_count": null,
   "metadata": {},
   "outputs": [],
   "source": [
    "time, value = st.loadTensor(path=\"inputData/example_time_aggregate.csv\", header=0, col_idx=[0,1,3,2], col_types=[int, str, str, int]).toDTensor(hastticks=True)\n",
    "time_series = st.Timeseries(value, time, ['Shoppers', 'Count', 'Market'])\n",
    "print(time_series)"
   ]
  },
  {
   "cell_type": "markdown",
   "metadata": {},
   "source": [
    "Function ```aggregate```: Aggregate specific columns and apply strategy operations on other columns.<br/>\n",
    "**attrs**: list or string of column names<br/>\n",
    "**strategy** : operations on other columns<br/>\n",
    "if 'sum', summarize target column<br/>\n",
    "if 'average', calculate average of target column<br/>\n",
    "if 'count', count apperance of each entry in target column<br/>\n",
    "**inplace** : update origin object or return a new object"
   ]
  },
  {
   "cell_type": "code",
   "execution_count": null,
   "metadata": {},
   "outputs": [],
   "source": [
    "aggregated_series = time_series.aggregate(['Shoppers'])\n",
    "print(aggregated_series)"
   ]
  },
  {
   "cell_type": "code",
   "execution_count": null,
   "metadata": {},
   "outputs": [],
   "source": [
    "aggregated_series = time_series.aggregate(['Shoppers'], strategy='count')\n",
    "print(aggregated_series)"
   ]
  },
  {
   "cell_type": "code",
   "execution_count": null,
   "metadata": {},
   "outputs": [],
   "source": [
    "aggregated_series = time_series.aggregate(['Shoppers', 'Market'], strategy='count')\n",
    "print(aggregated_series)"
   ]
  }
 ],
 "metadata": {
  "kernelspec": {
   "display_name": "Python 3",
   "language": "python",
   "name": "python3"
  },
  "language_info": {
   "codemirror_mode": {
    "name": "ipython",
    "version": 3
   },
   "file_extension": ".py",
   "mimetype": "text/x-python",
   "name": "python",
   "nbconvert_exporter": "python",
   "pygments_lexer": "ipython3",
   "version": "3.7.6"
  }
 },
 "nbformat": 4,
 "nbformat_minor": 4
}
