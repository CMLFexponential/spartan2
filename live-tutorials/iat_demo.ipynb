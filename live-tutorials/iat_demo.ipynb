{
 "cells": [
  {
   "cell_type": "code",
<<<<<<< Updated upstream
   "execution_count": 1,
=======
   "execution_count": 2,
>>>>>>> Stashed changes
   "metadata": {},
   "outputs": [],
   "source": [
    "import spartan2.ioutil as ioutil\n",
    "import spartan2.basicutil as iatutil\n",
    "import spartan2.drawutil as drawutil"
   ]
  },
  {
   "cell_type": "markdown",
   "metadata": {},
   "source": [
    "## extracttimes function\n",
    "extract time stamps in log files or edgelist tensor\n",
    "\n",
    "groupids: the group col idx used for aggregating timestamps\n",
    "output: dict file at './output/ts.dict' whose key is an integer(user id) and value is a list of integers(timestamp list)"
   ]
  },
  {
   "cell_type": "code",
<<<<<<< Updated upstream
   "execution_count": 2,
=======
   "execution_count": 3,
>>>>>>> Stashed changes
   "metadata": {},
   "outputs": [
    {
     "name": "stdout",
     "output_type": "stream",
     "text": [
      "\tprocessing file test.reid.gz\n"
     ]
    },
    {
     "data": {
      "text/plain": [
       "''"
      ]
     },
     "execution_count": 2,
     "metadata": {},
     "output_type": "execute_result"
    }
   ],
   "source": [
    "infile = './inputData/test.reid.gz'\n",
<<<<<<< Updated upstream
    "tsfile = './output/ts.dict'\n",
    "ioutil.extracttimes(infile, outfile=tsfile, timeidx=0, timeformat='%Y-%m-%d %H:%M:%S', delimeter='\\x01',\n",
=======
    "aggts = ioutil.extracttimes(infile, outfile=None, timeidx=0, timeformat='%Y-%m-%d %H:%M:%S', delimeter='\\x01',\n",
>>>>>>> Stashed changes
    "                        isbyte=True, comments='#', nodetype=str, groupids=[1])"
   ]
  },
  {
   "cell_type": "markdown",
   "metadata": {},
   "source": [
<<<<<<< Updated upstream
    "## Example\n",
    "\n",
    "we have a dict file at './inputData/col1sagg.ts' and we use loadDictListData to load this dict whose key is an integer(user id) and value is a list of integers(timestamp list)."
   ]
  },
  {
   "cell_type": "code",
   "execution_count": 3,
   "metadata": {},
   "outputs": [],
   "source": [
    "tsfile = './output/ts.dict'\n",
    "aggts = ioutil.loadDictListData(tsfile, ktype=int, vtype=int)"
   ]
  },
  {
   "cell_type": "markdown",
   "metadata": {},
   "source": [
=======
>>>>>>> Stashed changes
    "## IAT class\n",
    "\n",
    "calaggiat function：calculate iat dict **aggiat** (key:user, value: iat list)\n",
    "\n",
    "caliatcount function：calculate iat count dict **iatcount** (key:iat, value: frequency)"
   ]
  },
  {
   "cell_type": "code",
   "execution_count": 4,
   "metadata": {
    "scrolled": false
   },
   "outputs": [],
   "source": [
    "instance = iatutil.IAT()"
   ]
  },
  {
   "cell_type": "code",
   "execution_count": 5,
   "metadata": {},
   "outputs": [],
   "source": [
    "# calculate aggiat dict\n",
    "instance.calaggiat(aggts)\n",
    "aggiat = instance.aggiat"
   ]
  },
  {
   "cell_type": "code",
   "execution_count": 6,
   "metadata": {},
   "outputs": [],
   "source": [
    "# calculate iat pair dict (key:(iat1, iat2), value: frequency)\n",
    "instance.caliatpair()\n",
    "iatpaircount = instance.iatpaircount"
   ]
  },
  {
   "cell_type": "code",
   "execution_count": 7,
   "metadata": {},
   "outputs": [],
   "source": [
    "import numpy as np\n",
    "xs, ys = [], []\n",
    "for k,v in iatpaircount.items():\n",
    "    iat1, iat2 = k\n",
    "    xs.extend(np.repeat(iat1, v).tolist())\n",
    "    ys.extend(np.repeat(iat2, v).tolist())"
   ]
  },
  {
   "cell_type": "markdown",
   "metadata": {},
   "source": [
    "## example\n",
    "draw log-plot of iat"
   ]
  },
  {
   "cell_type": "code",
<<<<<<< Updated upstream
   "execution_count": 7,
=======
   "execution_count": 8,
>>>>>>> Stashed changes
   "metadata": {},
   "outputs": [
    {
     "data": {
      "text/plain": [
       "''"
      ]
     },
<<<<<<< Updated upstream
     "execution_count": 7,
=======
     "execution_count": 8,
>>>>>>> Stashed changes
     "metadata": {},
     "output_type": "execute_result"
    },
    {
     "name": "stderr",
     "output_type": "stream",
     "text": [
      "/anaconda3/lib/python3.6/site-packages/matplotlib/colors.py:1031: RuntimeWarning: invalid value encountered in less_equal\n",
      "  mask |= resdat <= 0\n"
     ]
    },
    {
     "data": {
<<<<<<< Updated upstream
      "image/png": "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\n",
=======
      "image/png": "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\n",
>>>>>>> Stashed changes
      "text/plain": [
       "<Figure size 432x288 with 2 Axes>"
      ]
     },
     "metadata": {},
     "output_type": "display_data"
    }
   ],
   "source": [
<<<<<<< Updated upstream
    "# draw hist2d figure for iat-count pair\n",
    "xs, ys = [], []\n",
    "for k,v in iatcount.items():\n",
    "    xs.append(k)\n",
    "    ys.append(v)\n",
    "drawutil.drawRectbin(xs, ys)"
=======
    "drawutil.drawRectbin(xs, ys, gridsize=5, xlabel='IAT1', ylabel='IAT2')"
   ]
  },
  {
   "cell_type": "markdown",
   "metadata": {},
   "source": [
    "## findMaxRectbin function\n",
    "\n",
    "find the bin with the largest number of samples in the range of\n",
    "horizontal axis: [x-radius, x+radius]\n",
    "vertical axis: [y-radius, y+radius]\n",
    "\n",
    "xbinidx, ybinidx: the bin index of bins in horizontal axis and vertical axis"
>>>>>>> Stashed changes
   ]
  },
  {
   "cell_type": "code",
<<<<<<< Updated upstream
   "execution_count": null,
   "metadata": {},
   "outputs": [],
   "source": []
=======
   "execution_count": 12,
   "metadata": {},
   "outputs": [
    {
     "name": "stdout",
     "output_type": "stream",
     "text": [
      "0 0\n"
     ]
    }
   ],
   "source": [
    "xbinidx, ybinidx = drawutil.findMaxRectbin(xs, ys, x=50,y=50, radius=100, gridsize=1000)\n",
    "print(xbinidx, ybinidx)"
   ]
>>>>>>> Stashed changes
  }
 ],
 "metadata": {
  "kernelspec": {
   "display_name": "Python 3",
   "language": "python",
   "name": "python3"
  },
  "language_info": {
   "codemirror_mode": {
    "name": "ipython",
    "version": 3
   },
   "file_extension": ".py",
   "mimetype": "text/x-python",
   "name": "python",
   "nbconvert_exporter": "python",
   "pygments_lexer": "ipython3",
   "version": "3.6.5"
  }
 },
 "nbformat": 4,
 "nbformat_minor": 4
}
