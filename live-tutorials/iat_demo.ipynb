{
 "cells": [
  {
   "cell_type": "code",
   "execution_count": null,
   "metadata": {},
   "outputs": [],
   "source": [
    "import spartan2.ioutil as ioutil\n",
    "import spartan2.basicutil as iatutil\n",
    "import spartan2.drawutil as drawutil"
   ]
  },
  {
   "cell_type": "markdown",
   "metadata": {},
   "source": [
    "#### extracttimes function\n",
    "output: a dict file (key: cols of groupids; value: timestamp list)"
   ]
  },
  {
   "cell_type": "code",
   "execution_count": 20,
   "metadata": {},
   "outputs": [],
   "source": [
    "gzfile = './inputData/test.reid.gz'\n",
    "extracttimes(infiles=[gzfile], outdir='./inputData/', timeidx=0, timeformat='%Y-%m-%d %H:%M:%S', delimeter='\\x01',\n",
    "                        isbyte=True, comments='#', nodetype=str, groupids=[1])"
   ]
  },
  {
   "cell_type": "markdown",
   "metadata": {},
   "source": [
    "## Example\n",
    "\n",
    "we have a dict file at './inputData/col1sagg.ts' and we use loadDictListData to load this dict whose key is an integer(user id) and value is a list of integers(iat list)."
   ]
  },
  {
   "cell_type": "code",
   "execution_count": null,
   "metadata": {},
   "outputs": [],
   "source": [
<<<<<<< HEAD
    "tsfile = './inputData/col1agg.ts'\n",
=======
>>>>>>> 070e3cc8919e728472258cfcf2ce14a9028ff1e3
    "aggts = ioutil.loadDictListData(tsfile, ktype=int, vtype=int)"
   ]
  },
  {
   "cell_type": "markdown",
   "metadata": {},
   "source": [
    "## IAT class\n",
    "\n",
    "calaggiat function：calculate iat dict **aggiat** (key:user, value: iat list)\n",
    "caliatcount function：calculate iat count dict **iatcount** (key:iat, value: frequency)"
   ]
  },
  {
   "cell_type": "code",
   "execution_count": null,
   "metadata": {},
   "outputs": [],
   "source": [
<<<<<<< HEAD
    "instance = iatutil.IAT()"
=======
    "iat_instance = iatutil.IAT(aggiat={}, iatcount={})"
>>>>>>> 070e3cc8919e728472258cfcf2ce14a9028ff1e3
   ]
  },
  {
   "cell_type": "code",
   "execution_count": null,
   "metadata": {},
   "outputs": [],
   "source": [
    "# calculate aggiat dict\n",
    "instance.calaggiat(aggts)\n",
    "aggiat = instance.aggiat"
   ]
  },
  {
   "cell_type": "code",
   "execution_count": null,
   "metadata": {},
   "outputs": [],
   "source": [
    "# calculate iatcount dict\n",
    "instance.caliatcount()\n",
    "iatcount = instance.iatcount"
   ]
  },
  {
   "cell_type": "code",
   "execution_count": null,
   "metadata": {},
   "outputs": [],
   "source": [
    "# draw hist2d figure for iat-count pair\n",
    "xs, ys = [], []\n",
    "for k,v in iatcount.items():\n",
    "    xs.append(k)\n",
    "    ys.append(v)\n",
    "drawRectbin(xs, ys)"
   ]
  }
 ],
 "metadata": {
  "kernelspec": {
   "display_name": "Python 3",
   "language": "python",
   "name": "python3"
  },
  "language_info": {
   "codemirror_mode": {
    "name": "ipython",
    "version": 3
   },
   "file_extension": ".py",
   "mimetype": "text/x-python",
   "name": "python",
   "nbconvert_exporter": "python",
   "pygments_lexer": "ipython3",
<<<<<<< HEAD
   "version": "3.6.5"
=======
   "version": "3.7.6"
>>>>>>> 070e3cc8919e728472258cfcf2ce14a9028ff1e3
  }
 },
 "nbformat": 4,
 "nbformat_minor": 4
}
