{
 "cells": [
  {
   "cell_type": "code",
   "execution_count": 1,
   "metadata": {},
   "outputs": [],
   "source": [
    "%matplotlib inline\n",
    "import spartan2.spartan as st"
   ]
  },
  {
   "cell_type": "code",
   "execution_count": 2,
   "metadata": {},
   "outputs": [],
   "source": [
    "# set the computing engine\n",
    "st.config(st.engine.SINGLEMACHINE)"
   ]
  },
  {
   "cell_type": "code",
   "execution_count": 3,
   "metadata": {
    "scrolled": true
   },
   "outputs": [
    {
     "name": "stdout",
     "output_type": "stream",
     "text": [
      "Info: Tensor is loaded\n",
      "           ----------------------\n",
      "             attr     |\t2\n",
      "             values   |\t1\n",
      "             nonzeros |\t1569207\n",
      "\n"
     ]
    }
   ],
   "source": [
    "# load graph data\n",
    "data = st.loadTensor(name = \"example_graph\", path = \"inputData/\", col_types = [int, int, int], hasvalue=1)"
   ]
  },
  {
   "cell_type": "code",
   "execution_count": 4,
   "metadata": {},
   "outputs": [],
   "source": [
    "graph = data.toGraph()"
   ]
  },
  {
   "cell_type": "code",
   "execution_count": 5,
   "metadata": {},
   "outputs": [],
   "source": [
    "# create a eigen decomposition model\n",
    "edmodel = st.decomposition.create(graph.sm, st.ed_policy.SVDS, \"my_svds_model\")"
   ]
  },
  {
   "cell_type": "code",
   "execution_count": 6,
   "metadata": {
    "scrolled": true
   },
   "outputs": [],
   "source": [
    "U,S,V = edmodel.run(k=2)"
   ]
  },
  {
   "cell_type": "code",
   "execution_count": 7,
   "metadata": {
    "scrolled": true
   },
   "outputs": [
    {
     "data": {
      "text/plain": [
       "((33374, 2), (2,), (65911, 2), array([[ 2.47874891e-04, -2.48277982e-04],\n",
       "        [ 9.78766659e-05,  2.19158300e-04],\n",
       "        [ 9.96969966e-05,  3.41005622e-04],\n",
       "        [ 6.10638097e-03,  1.67891131e-02],\n",
       "        [ 7.84294756e-04, -8.87094600e-04],\n",
       "        [ 3.00468034e-05,  2.22925004e-04],\n",
       "        [ 2.74464209e-04,  7.27574906e-05],\n",
       "        [ 1.37985455e-04, -4.02940118e-04],\n",
       "        [ 3.70867734e-05,  1.28570390e-04],\n",
       "        [ 6.07279604e-03,  1.06159299e-02]]), array([[ 0.00014602, -0.00054503],\n",
       "        [ 0.0006514 , -0.0016683 ],\n",
       "        [ 0.01650477, -0.0245407 ],\n",
       "        [ 0.03002005, -0.03269422],\n",
       "        [ 0.02308551, -0.02649508],\n",
       "        [ 0.00289192, -0.00414879],\n",
       "        [ 0.00528723, -0.01080647],\n",
       "        [ 0.02825361, -0.01754751],\n",
       "        [ 0.004666  , -0.01064132],\n",
       "        [ 0.00423448, -0.00846382]]))"
      ]
     },
     "execution_count": 7,
     "metadata": {},
     "output_type": "execute_result"
    }
   ],
   "source": [
    "U.shape, S.shape, V.shape, U[:10], V[:10]"
   ]
  },
  {
   "cell_type": "code",
   "execution_count": 8,
   "metadata": {},
   "outputs": [],
   "source": [
    "# create a anomaly detection model\n",
    "emmodel = st.anomaly_detection.create(graph, st.ad_policy.EAGLEMINE, \"my_eaglemine_model\")\n"
   ]
  },
  {
   "cell_type": "code",
   "execution_count": 9,
   "metadata": {},
   "outputs": [],
   "source": [
    "du, dv = graph.degrees()"
   ]
  },
  {
   "cell_type": "code",
   "execution_count": 10,
   "metadata": {
    "scrolled": false
   },
   "outputs": [
    {
     "name": "stdout",
     "output_type": "stream",
     "text": [
      "total shape: (33374, 2), valid samples:33353\n",
      "Histogram Info:\n",
      "\t Histogram shape: [66, 71]\n",
      "\t #points: 33353, #mode: 2\n",
      "Graph feature to histogram done!\n",
      "histogram: temp/histogram.out;  hode2pos: temp/node2hcel.out;  hpos_avgfeat: temp/hcel2avgfeat.out\n",
      "EagleMine algorithm\n",
      "*****************\n",
      "[0]. initialization and loading\n",
      "*****************\n",
      "[1]. WaterLevelTree\n",
      "\n",
      "========== \n",
      "Construct raw-tree.\n",
      "Info: maximum tree level: 9.999999999999998\n",
      "Info: Level-Tree build done!\n",
      "\n",
      "========== \n",
      "Refine tree structure.\n",
      "\n",
      "+++++++++ \n",
      "a). tree contract\n",
      "Info: Level-tree contract done!\n",
      "Info: Contract level-tree:\n",
      "Level tree basic information:\n",
      "#node: 5, #level: 3\n",
      "(node id): {@level, parent node, #childs, #elements}\n",
      "|---- (0): 1.0, -1, [22, 23], 289 |-\n",
      "    |---- (22): 6.599999999999999, 0, None, 5 |-\n",
      "    |---- (23): 6.599999999999999, 0, [28, 29], 75 |-\n",
      "        |---- (28): 7.599999999999999, 23, None, 5 |-\n",
      "        |---- (29): 7.599999999999999, 23, None, 32 |-\n",
      "dump done!\n",
      "\n",
      "+++++++++ \n",
      "b). tree prune\n",
      "Info: Level-tree prune done!\n",
      "Info: Pruned level-tree:\n",
      "Level tree basic information:\n",
      "#node: 3, #level: 3\n",
      "(node id): {@level, parent node, #childs, #elements}\n",
      "|---- (0): 1.0, -1, [22, 23], 289 |-\n",
      "    |---- (22): 6.599999999999999, 0, None, 5 |-\n",
      "    |---- (23): 6.599999999999999, 0, None, 75 |-\n",
      "dump done!\n",
      "\n",
      "+++++++++ \n",
      "c). tree node expand\n",
      "Info: Level-tree expand done!\n",
      "Level-tree serialization done!\n",
      "Info: Expanded level-tree:\n",
      "Level tree basic information:\n",
      "#node: 3, #level: 3\n",
      "(node id): {@level, parent node, #childs, #elements}\n",
      "|---- (0): 1.0, -1, [22, 23], 320 |-\n",
      "    |---- (22): 6.599999999999999, 0, None, 18 |-\n",
      "    |---- (23): 6.599999999999999, 0, None, 148 |-\n",
      "dump done!\n",
      "\n",
      "done\n",
      "done @ 1.911674976348877\n",
      "*****************\n",
      "[2]. TreeExplore\n",
      "Info island: 0 hypothesis & Rejected. >_<\n",
      "Info: island: 22 hypothesis $ pseudo-Accept. ^..^\n",
      "Info: island: 23 hypothesis $ pseudo-Accept. ^..^\n",
      "done @ 282.311683177948\n",
      "*****************\n",
      "[3]. node groups suspicious measure\n",
      "kl-divergence based suspicious: [(22, 35.97), (23, 0.00)]\n",
      "weighted suspicious orders: [(22, 197.10), (23, 0.00)]\n",
      "*****************\n",
      "saving result\n",
      "clustering done!\n",
      "Graph Model Description Length: 3876.0\n",
      "done @ 284.2233581542969\n"
     ]
    },
    {
     "data": {
      "image/png": "[encoded data removed]",
      "text/plain": [
       "<Figure size 624x576 with 1 Axes>"
      ]
     },
     "metadata": {},
     "output_type": "display_data"
    }
   ],
   "source": [
    "# run the eaglemine model\n",
    "emmodel.run(U[:,0], du)"
   ]
  },
  {
   "cell_type": "code",
   "execution_count": 11,
   "metadata": {},
   "outputs": [
    {
     "data": {
      "text/plain": [
       "((65911, 2), (65911, 1))"
      ]
     },
     "execution_count": 11,
     "metadata": {},
     "output_type": "execute_result"
    }
   ],
   "source": [
    "V.shape, dv.shape"
   ]
  },
  {
   "cell_type": "code",
   "execution_count": 12,
   "metadata": {},
   "outputs": [
    {
     "name": "stdout",
     "output_type": "stream",
     "text": [
      "total shape: (65911, 2), valid samples:65890\n",
      "Histogram Info:\n",
      "\t Histogram shape: [61, 71]\n",
      "\t #points: 65890, #mode: 2\n",
      "Graph feature to histogram done!\n",
      "histogram: temp/histogram.out;  hode2pos: temp/node2hcel.out;  hpos_avgfeat: temp/hcel2avgfeat.out\n",
      "EagleMine algorithm\n",
      "*****************\n",
      "[0]. initialization and loading\n",
      "*****************\n",
      "[1]. WaterLevelTree\n",
      "\n",
      "========== \n",
      "Construct raw-tree.\n",
      "Info: maximum tree level: 11.599999999999998\n",
      "Info: Level-Tree build done!\n",
      "\n",
      "========== \n",
      "Refine tree structure.\n",
      "\n",
      "+++++++++ \n",
      "a). tree contract\n",
      "Info: Level-tree contract done!\n",
      "Info: Contract level-tree:\n",
      "Level tree basic information:\n",
      "#node: 10, #level: 4\n",
      "(node id): {@level, parent node, #childs, #elements}\n",
      "|---- (0): 1.0, -1, None, 8 |-\n",
      "|---- (1): 1.0, -1, None, 8 |-\n",
      "|---- (2): 1.0, -1, [47, 48], 155 |-\n",
      "    |---- (47): 7.199999999999998, 2, None, 5 |-\n",
      "    |---- (48): 7.199999999999998, 2, [54, 55, 56], 60 |-\n",
      "        |---- (54): 8.2, 48, None, 5 |-\n",
      "        |---- (55): 8.2, 48, None, 5 |-\n",
      "        |---- (56): 8.2, 48, [58, 59], 36 |-\n",
      "            |---- (58): 8.399999999999999, 56, None, 5 |-\n",
      "            |---- (59): 8.399999999999999, 56, None, 27 |-\n",
      "dump done!\n",
      "\n",
      "+++++++++ \n",
      "b). tree prune\n",
      "Info: Level-tree prune done!\n",
      "Info: Pruned level-tree:\n",
      "Level tree basic information:\n",
      "#node: 10, #level: 4\n",
      "(node id): {@level, parent node, #childs, #elements}\n",
      "|---- (0): 1.0, -1, None, 8 |-\n",
      "|---- (1): 1.0, -1, None, 8 |-\n",
      "|---- (2): 1.0, -1, [47, 48], 155 |-\n",
      "    |---- (47): 7.199999999999998, 2, None, 5 |-\n",
      "    |---- (48): 7.199999999999998, 2, [54, 55, 56], 60 |-\n",
      "        |---- (54): 8.2, 48, None, 5 |-\n",
      "        |---- (55): 8.2, 48, None, 5 |-\n",
      "        |---- (56): 8.2, 48, [58, 59], 36 |-\n",
      "            |---- (58): 8.399999999999999, 56, None, 5 |-\n",
      "            |---- (59): 8.399999999999999, 56, None, 27 |-\n",
      "dump done!\n",
      "\n",
      "+++++++++ \n",
      "c). tree node expand\n",
      "Info: Level-tree expand done!\n",
      "Level-tree serialization done!\n",
      "Info: Expanded level-tree:\n",
      "Level tree basic information:\n",
      "#node: 10, #level: 4\n",
      "(node id): {@level, parent node, #childs, #elements}\n",
      "|---- (0): 1.0, -1, None, 10 |-\n",
      "|---- (1): 1.0, -1, None, 10 |-\n",
      "|---- (2): 1.0, -1, [47, 48], 157 |-\n",
      "    |---- (47): 7.199999999999998, 2, None, 15 |-\n",
      "    |---- (48): 7.199999999999998, 2, [54, 55, 56], 112 |-\n",
      "        |---- (54): 8.2, 48, None, 16 |-\n",
      "        |---- (55): 8.2, 48, None, 16 |-\n",
      "        |---- (56): 8.2, 48, [58, 59], 72 |-\n",
      "            |---- (58): 8.399999999999999, 56, None, 19 |-\n",
      "            |---- (59): 8.399999999999999, 56, None, 52 |-\n",
      "dump done!\n",
      "\n",
      "done\n",
      "done @ 0.9434707164764404\n",
      "*****************\n",
      "[2]. TreeExplore\n",
      "Info: island: 0 hypothesis $ pseudo-Accept. ^..^\n",
      "Info: island: 1 hypothesis $ pseudo-Accept. ^..^\n",
      "Info island: 2 hypothesis & Rejected. >_<\n",
      "Info: island: 47 hypothesis $ pseudo-Accept. ^..^\n",
      "Info island: 48 hypothesis & Rejected. >_<\n",
      "Info: island: 54 hypothesis $ pseudo-Accept. ^..^\n",
      "Info: island: 55 hypothesis * Accept. ^~^\n",
      "Info island: 56 hypothesis & Rejected. >_<\n",
      "Info: island: 58 hypothesis $ pseudo-Accept. ^..^\n",
      "Info: island: 59 hypothesis $ pseudo-Accept. ^..^\n",
      "(0, 1)\n",
      "(0, 47)\n",
      "(0, 54)\n",
      "(0, 55)\n",
      "(0, 58)\n",
      "(1, 47)\n",
      "(1, 54)\n",
      "(1, 55)\n",
      "(1, 58)\n",
      "(47, 54)\n",
      "Info: test new merging node: (47, 54) ([47], [54])\n",
      "Info:  ------ node (47, 54) check failed ------\n",
      "(47, 55)\n",
      "(47, 58)\n",
      "(54, 55)\n",
      "Info: test new merging node: (54, 55) ([54], [55])\n",
      "Info:  ------ node (54, 55) check failed ------\n",
      "(54, 58)\n",
      "(55, 58)\n",
      "Info: test new merging node: (55, 58) ([55], [58])\n",
      "Info:  ------ node (55, 58) check failed ------\n",
      "done @ 235.17697620391846\n",
      "*****************\n",
      "[3]. node groups suspicious measure\n",
      "kl-divergence based suspicious: [(47, 297.29), (54, 296.93), (1, 276.53), (0, 195.86), (55, 155.68), (58, 54.92), (59, 0.00)]\n",
      "weighted suspicious orders: [(1, 1662.26), (47, 1486.16), (0, 1383.81), (54, 1207.75), (55, 516.11), (58, 143.43), (59, 0.00)]\n",
      "*****************\n",
      "saving result\n",
      "clustering done!\n",
      "Graph Model Description Length: 3948.0\n",
      "done @ 236.1204469203949\n"
     ]
    },
    {
     "data": {
      "image/png": "[encoded data removed]",
      "text/plain": [
       "<Figure size 624x576 with 1 Axes>"
      ]
     },
     "metadata": {},
     "output_type": "display_data"
    }
   ],
   "source": [
    "emmodel.run(V[:,0], dv)"
   ]
  },
  {
   "cell_type": "code",
   "execution_count": 13,
   "metadata": {},
   "outputs": [],
   "source": [
    "A, B = emmodel.nodes(n=0)"
   ]
  },
  {
   "cell_type": "code",
   "execution_count": 14,
   "metadata": {},
   "outputs": [
    {
     "ename": "TypeError",
     "evalue": "'STTensor' object does not support indexing",
     "output_type": "error",
     "traceback": [
      "\u001b[0;31m---------------------------------------------------------------------------\u001b[0m",
      "\u001b[0;31mTypeError\u001b[0m                                 Traceback (most recent call last)",
      "\u001b[0;32m<ipython-input-14-7d8fc5e90f32>\u001b[0m in \u001b[0;36m<module>\u001b[0;34m\u001b[0m\n\u001b[0;32m----> 1\u001b[0;31m \u001b[0mg\u001b[0m \u001b[0;34m=\u001b[0m \u001b[0mst\u001b[0m\u001b[0;34m.\u001b[0m\u001b[0msubgraph\u001b[0m\u001b[0;34m(\u001b[0m\u001b[0mdata\u001b[0m\u001b[0;34m,\u001b[0m \u001b[0mA\u001b[0m\u001b[0;34m,\u001b[0m \u001b[0mB\u001b[0m\u001b[0;34m)\u001b[0m\u001b[0;34m\u001b[0m\u001b[0;34m\u001b[0m\u001b[0m\n\u001b[0m",
      "\u001b[0;32m~/working/spartan2/spartan2/spartan.py\u001b[0m in \u001b[0;36msubgraph\u001b[0;34m(edgelist, uid_array, oid_array)\u001b[0m\n\u001b[1;32m     99\u001b[0m     sql_str = '''CREATE TABLE EDGE\n\u001b[1;32m    100\u001b[0m                     (id INTEGER PRIMARY KEY AUTOINCREMENT'''\n\u001b[0;32m--> 101\u001b[0;31m     \u001b[0;32mfor\u001b[0m \u001b[0mi\u001b[0m \u001b[0;32min\u001b[0m \u001b[0mrange\u001b[0m\u001b[0;34m(\u001b[0m\u001b[0mlen\u001b[0m\u001b[0;34m(\u001b[0m\u001b[0medgelist\u001b[0m\u001b[0;34m[\u001b[0m\u001b[0;36m0\u001b[0m\u001b[0;34m]\u001b[0m\u001b[0;34m)\u001b[0m\u001b[0;34m)\u001b[0m\u001b[0;34m:\u001b[0m\u001b[0;34m\u001b[0m\u001b[0;34m\u001b[0m\u001b[0m\n\u001b[0m\u001b[1;32m    102\u001b[0m         \u001b[0msql_str\u001b[0m \u001b[0;34m+=\u001b[0m \u001b[0;34m\", \"\u001b[0m \u001b[0;34m+\u001b[0m \u001b[0medgelist\u001b[0m\u001b[0;34m[\u001b[0m\u001b[0;36m0\u001b[0m\u001b[0;34m]\u001b[0m\u001b[0;34m[\u001b[0m\u001b[0mi\u001b[0m\u001b[0;34m]\u001b[0m \u001b[0;34m+\u001b[0m \u001b[0;34m\" \"\u001b[0m \u001b[0;34m+\u001b[0m \u001b[0medgelist\u001b[0m\u001b[0;34m[\u001b[0m\u001b[0;36m1\u001b[0m\u001b[0;34m]\u001b[0m\u001b[0;34m[\u001b[0m\u001b[0mi\u001b[0m\u001b[0;34m]\u001b[0m\u001b[0;34m\u001b[0m\u001b[0;34m\u001b[0m\u001b[0m\n\u001b[1;32m    103\u001b[0m     \u001b[0msql_str\u001b[0m \u001b[0;34m+=\u001b[0m \u001b[0;34m\");\"\u001b[0m\u001b[0;34m\u001b[0m\u001b[0;34m\u001b[0m\u001b[0m\n",
      "\u001b[0;31mTypeError\u001b[0m: 'STTensor' object does not support indexing"
     ]
    }
   ],
   "source": [
    "g = st.subgraph(data, A, B)"
   ]
  }
 ],
 "metadata": {
  "file_extension": ".py",
  "kernelspec": {
   "display_name": "Python 3",
   "language": "python",
   "name": "python3"
  },
  "language_info": {
   "codemirror_mode": {
    "name": "ipython",
    "version": 3
   },
   "file_extension": ".py",
   "mimetype": "text/x-python",
   "name": "python",
   "nbconvert_exporter": "python",
   "pygments_lexer": "ipython3",
   "version": "3.7.6"
  },
  "mimetype": "text/x-python",
  "name": "python",
  "npconvert_exporter": "python",
  "pygments_lexer": "ipython2",
  "version": 2
 },
 "nbformat": 4,
 "nbformat_minor": 2
}
