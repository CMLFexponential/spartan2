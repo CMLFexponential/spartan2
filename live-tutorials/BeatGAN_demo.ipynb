{
 "cells": [
  {
   "cell_type": "code",
   "execution_count": null,
   "metadata": {},
   "outputs": [],
   "source": [
    "%matplotlib inline\n",
    "import sys,os\n",
    "import matplotlib.pyplot as plt\n",
    "import torch\n",
    "import spartan2.spartan as st"
   ]
  },
  {
   "cell_type": "code",
   "execution_count": null,
   "metadata": {},
   "outputs": [],
   "source": [
    "os.environ[\"CUDA_VISIBLE_DEVICES\"] =\"0\"\n",
    "device = torch.device(\"cuda:0\" if torch.cuda.is_available() else \"cpu\")\n",
    "st.config(st.engine.SINGLEMACHINE)"
   ]
  },
  {
   "cell_type": "code",
   "execution_count": null,
   "metadata": {},
   "outputs": [],
   "source": [
    "# load time data\n",
    "data = st.loadTensor(name = \"example_time\", path = \"inputData/\", col_types = [float, float, float], hasvalue=True)"
   ]
  },
  {
   "cell_type": "code",
   "execution_count": null,
   "metadata": {},
   "outputs": [],
   "source": [
    "time_series = data.toTimeseries(attrlabels=['ecg_low', 'ecg_high'])"
   ]
  },
  {
   "cell_type": "code",
   "execution_count": null,
   "metadata": {},
   "outputs": [],
   "source": [
    "time_series.attrlists.shape\n",
    "seg=st.series_segmentation.create(time_series,st.sseg_policy.RPeaks,\"slide\")\n",
    "\n",
    "ts_segs=seg.run(360,120,136,None)\n",
    "print(ts_segs.shape)"
   ]
  },
  {
   "cell_type": "code",
   "execution_count": null,
   "metadata": {},
   "outputs": [],
   "source": [
    "plt.plot(ts_segs[2][1,:])"
   ]
  },
  {
   "cell_type": "code",
   "execution_count": null,
   "metadata": {},
   "outputs": [],
   "source": [
    "# create a beatgan model\n",
    "\n",
    "ad_model = st.anomaly_detection.create(time_series, st.ad_policy.BEATGAN, \"my_beatgan_model\")"
   ]
  },
  {
   "cell_type": "code",
   "execution_count": null,
   "metadata": {},
   "outputs": [],
   "source": [
    "### param for train model\n",
    "param = {\n",
    "    'network':'CNN',\n",
    "    'net_type':'gru',\n",
    "    'layers':1,\n",
    "    'seq_len': 256,\n",
    "    'input_size':2,\n",
    "    'hidden_size':100,\n",
    "    'rep_size':20,\n",
    "    'batch_size':64,\n",
    "    'max_epoch':5,\n",
    "    'lr': 0.01,\n",
    "    'lambda':1\n",
    "}"
   ]
  },
  {
   "cell_type": "code",
   "execution_count": null,
   "metadata": {},
   "outputs": [],
   "source": [
    "ad_model.init_model(param,device)"
   ]
  },
  {
   "cell_type": "code",
   "execution_count": null,
   "metadata": {},
   "outputs": [],
   "source": [
    "ad_model.train(ts_segs)"
   ]
  },
  {
   "cell_type": "code",
   "execution_count": null,
   "metadata": {},
   "outputs": [],
   "source": [
    "ad_model.test(ts_segs)"
   ]
  },
  {
   "cell_type": "code",
   "execution_count": null,
   "metadata": {},
   "outputs": [],
   "source": [
    "ad_model.export(\"\")"
   ]
  },
  {
   "cell_type": "code",
   "execution_count": null,
   "metadata": {},
   "outputs": [],
   "source": [
    "## param for run\n",
    "param_run = {\n",
    "    'model_path':\"\",\n",
    "    'network':'CNN',\n",
    "    'net_type':'gru',\n",
    "    'layers':1,\n",
    "    'seq_len': 256,\n",
    "    'input_size':2,\n",
    "    'hidden_size':100,\n",
    "    'rep_size':20,\n",
    "    'batch_size':64,\n",
    "    'max_epoch':5,\n",
    "    'lr': 0.01,\n",
    "    'lambda':1\n",
    "}\n",
    "### run model (load form model_path)\n",
    "beatgan,res=ad_model.run(None,time_series,param_run,device)"
   ]
  },
  {
   "cell_type": "code",
   "execution_count": null,
   "metadata": {},
   "outputs": [],
   "source": [
    "### run model from cache\n",
    "ad_model.run(beatgan,time_series,param_run,device)"
   ]
  },
  {
   "cell_type": "code",
   "execution_count": null,
   "metadata": {},
   "outputs": [],
   "source": []
  }
 ],
 "metadata": {
  "kernelspec": {
   "display_name": "Python [conda env:py3] *",
   "language": "python",
   "name": "conda-env-py3-py"
  },
  "language_info": {
   "codemirror_mode": {
    "name": "ipython",
    "version": 3
   },
   "file_extension": ".py",
   "mimetype": "text/x-python",
   "name": "python",
   "nbconvert_exporter": "python",
   "pygments_lexer": "ipython3",
   "version": "3.7.5"
  }
 },
 "nbformat": 4,
 "nbformat_minor": 2
}
