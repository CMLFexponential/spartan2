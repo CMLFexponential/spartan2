{
 "cells": [
  {
   "cell_type": "code",
   "execution_count": 2,
   "metadata": {},
   "outputs": [],
   "source": [
    "%matplotlib inline\n",
    "import sys,os\n",
    "import matplotlib.pyplot as plt\n",
    "import torch\n",
    "import spartan2.spartan as st"
   ]
  },
  {
   "cell_type": "code",
   "execution_count": 3,
   "metadata": {},
   "outputs": [],
   "source": [
    "os.environ[\"CUDA_VISIBLE_DEVICES\"] =\"0\"\n",
    "device = torch.device(\"cuda:0\" if torch.cuda.is_available() else \"cpu\")\n",
    "st.config(st.engine.SINGLEMACHINE)"
   ]
  },
  {
   "cell_type": "code",
   "execution_count": 4,
   "metadata": {},
   "outputs": [
    {
     "name": "stdout",
     "output_type": "stream",
     "text": [
      "Info: Tensor is loaded\n",
      "           ----------------------\n",
      "             attr     |\t2\n",
      "             values   |\tTrue\n",
      "             nonzeros |\t36000\n",
      "\n"
     ]
    }
   ],
   "source": [
    "# load time data\n",
    "data = st.loadTensor(name = \"example_time\", path = \"inputData/\", col_types = [float, float, float], hasvalue=True)"
   ]
  },
  {
   "cell_type": "code",
   "execution_count": 5,
   "metadata": {},
   "outputs": [],
   "source": [
    "time_series = data.toTimeseries(attrlabels=['ecg_low', 'ecg_high'])"
   ]
  },
  {
   "cell_type": "code",
   "execution_count": 6,
   "metadata": {},
   "outputs": [
    {
     "name": "stdout",
     "output_type": "stream",
     "text": [
      "(122, 1, 256)\n"
     ]
    }
   ],
   "source": [
    "time_series.attrlists.shape\n",
    "seg=st.series_segmentation.create(time_series,st.sseg_policy.RPeaks,\"slide\")\n",
    "\n",
    "ts_segs=seg.run(360,120,136,None)\n",
    "ts_segs=ts_segs[:,:1,:]\n",
    "print(ts_segs.shape)"
   ]
  },
  {
   "cell_type": "code",
   "execution_count": 7,
   "metadata": {},
   "outputs": [
    {
     "data": {
      "text/plain": [
       "[<matplotlib.lines.Line2D at 0x1c2ab8b150>]"
      ]
     },
     "execution_count": 7,
     "metadata": {},
     "output_type": "execute_result"
    },
    {
     "name": "stderr",
     "output_type": "stream",
     "text": [
      "findfont: Font family ['sans-serif'] not found. Falling back to DejaVu Sans.\n"
     ]
    },
    {
     "data": {
      "image/png": "[encoded data removed]",
      "text/plain": [
       "<Figure size 432x288 with 1 Axes>"
      ]
     },
     "metadata": {
      "needs_background": "light"
     },
     "output_type": "display_data"
    }
   ],
   "source": [
    "plt.plot(ts_segs[2][0,:])"
   ]
  },
  {
   "cell_type": "code",
   "execution_count": 8,
   "metadata": {},
   "outputs": [],
   "source": [
    "# create a beatgan model\n",
    "\n",
    "ad_model = st.anomaly_detection.create(time_series, st.ad_policy.BEATGAN, \"my_beatgan_model\")"
   ]
  },
  {
   "cell_type": "code",
   "execution_count": 9,
   "metadata": {},
   "outputs": [],
   "source": [
    "### param for train model\n",
    "param = {\n",
    "    'network':'CNN',\n",
    "    'net_type':'gru',\n",
    "    'layers':1,\n",
    "    'seq_len': 256,\n",
    "    'input_size':1,\n",
    "    'hidden_size':100,\n",
    "    'rep_size':20,\n",
    "    'batch_size':64,\n",
    "    'max_epoch':5,\n",
    "    'lr': 0.01,\n",
    "    'lambda':1\n",
    "}"
   ]
  },
  {
   "cell_type": "code",
   "execution_count": 10,
   "metadata": {},
   "outputs": [
    {
     "name": "stdout",
     "output_type": "stream",
     "text": [
      "[Conv1d(1, 32, kernel_size=(4,), stride=(2,), padding=(1,), bias=False), LeakyReLU(negative_slope=0.2, inplace=True), Conv1d(32, 64, kernel_size=(4,), stride=(2,), padding=(1,), bias=False), BatchNorm1d(64, eps=1e-05, momentum=0.1, affine=True, track_running_stats=True), LeakyReLU(negative_slope=0.2, inplace=True), Conv1d(64, 128, kernel_size=(4,), stride=(2,), padding=(1,), bias=False), BatchNorm1d(128, eps=1e-05, momentum=0.1, affine=True, track_running_stats=True), LeakyReLU(negative_slope=0.2, inplace=True), Conv1d(128, 256, kernel_size=(4,), stride=(2,), padding=(1,), bias=False), BatchNorm1d(256, eps=1e-05, momentum=0.1, affine=True, track_running_stats=True), LeakyReLU(negative_slope=0.2, inplace=True), Conv1d(256, 512, kernel_size=(4,), stride=(2,), padding=(1,), bias=False), BatchNorm1d(512, eps=1e-05, momentum=0.1, affine=True, track_running_stats=True), LeakyReLU(negative_slope=0.2, inplace=True), Conv1d(512, 1024, kernel_size=(4,), stride=(2,), padding=(1,), bias=False), BatchNorm1d(1024, eps=1e-05, momentum=0.1, affine=True, track_running_stats=True), LeakyReLU(negative_slope=0.2, inplace=True), Conv1d(1024, 20, kernel_size=(4,), stride=(1,), bias=False)]\n",
      "[ConvTranspose1d(20, 1024, kernel_size=(4,), stride=(1,), bias=False), BatchNorm1d(1024, eps=1e-05, momentum=0.1, affine=True, track_running_stats=True), ReLU(inplace=True), ConvTranspose1d(1024, 512, kernel_size=(4,), stride=(2,), padding=(1,), bias=False), BatchNorm1d(512, eps=1e-05, momentum=0.1, affine=True, track_running_stats=True), ReLU(inplace=True), ConvTranspose1d(512, 256, kernel_size=(4,), stride=(2,), padding=(1,), bias=False), BatchNorm1d(256, eps=1e-05, momentum=0.1, affine=True, track_running_stats=True), ReLU(inplace=True), ConvTranspose1d(256, 128, kernel_size=(4,), stride=(2,), padding=(1,), bias=False), BatchNorm1d(128, eps=1e-05, momentum=0.1, affine=True, track_running_stats=True), ReLU(inplace=True), ConvTranspose1d(128, 64, kernel_size=(4,), stride=(2,), padding=(1,), bias=False), BatchNorm1d(64, eps=1e-05, momentum=0.1, affine=True, track_running_stats=True), ReLU(inplace=True), ConvTranspose1d(64, 32, kernel_size=(4,), stride=(2,), padding=(1,), bias=False), BatchNorm1d(32, eps=1e-05, momentum=0.1, affine=True, track_running_stats=True), ReLU(inplace=True), ConvTranspose1d(32, 1, kernel_size=(4,), stride=(2,), padding=(1,), bias=False), Tanh()]\n"
     ]
    }
   ],
   "source": [
    "ad_model.init_model(param,device)"
   ]
  },
  {
   "cell_type": "code",
   "execution_count": 11,
   "metadata": {},
   "outputs": [
    {
     "name": "stderr",
     "output_type": "stream",
     "text": [
      " 20%|██        | 1/5 [00:03<00:13,  3.34s/it]"
     ]
    },
    {
     "name": "stdout",
     "output_type": "stream",
     "text": [
      "0:loss_g(rec/adv):0.2785113751888275/1.0307481288909912,loss_d(real/fake):0.6122685670852661/0.9160639643669128\n"
     ]
    },
    {
     "name": "stderr",
     "output_type": "stream",
     "text": [
      "\r",
      " 40%|████      | 2/5 [00:06<00:09,  3.28s/it]"
     ]
    },
    {
     "name": "stdout",
     "output_type": "stream",
     "text": [
      "0:loss_g(rec/adv):0.23591360449790955/1.0075442790985107,loss_d(real/fake):1.862645149230957e-09/0.00010908902913797647\n"
     ]
    },
    {
     "name": "stderr",
     "output_type": "stream",
     "text": [
      "\r",
      " 60%|██████    | 3/5 [00:09<00:06,  3.19s/it]"
     ]
    },
    {
     "name": "stdout",
     "output_type": "stream",
     "text": [
      "0:loss_g(rec/adv):0.18736624717712402/0.8118534088134766,loss_d(real/fake):0.0/0.0034312850330024958\n"
     ]
    },
    {
     "name": "stderr",
     "output_type": "stream",
     "text": [
      "\r",
      " 80%|████████  | 4/5 [00:12<00:03,  3.11s/it]"
     ]
    },
    {
     "name": "stdout",
     "output_type": "stream",
     "text": [
      "0:loss_g(rec/adv):0.14187903702259064/0.8640466332435608,loss_d(real/fake):1.3038519597330378e-08/0.32825160026550293\n"
     ]
    },
    {
     "name": "stderr",
     "output_type": "stream",
     "text": [
      "100%|██████████| 5/5 [00:15<00:00,  3.06s/it]"
     ]
    },
    {
     "name": "stdout",
     "output_type": "stream",
     "text": [
      "0:loss_g(rec/adv):0.16012166440486908/0.7088649868965149,loss_d(real/fake):0.7292669415473938/1.105828046798706\n"
     ]
    },
    {
     "name": "stderr",
     "output_type": "stream",
     "text": [
      "\n"
     ]
    }
   ],
   "source": [
    "ad_model.train(ts_segs)"
   ]
  },
  {
   "cell_type": "code",
   "execution_count": 12,
   "metadata": {},
   "outputs": [
    {
     "name": "stdout",
     "output_type": "stream",
     "text": [
      "[0.6631072  0.5572755  0.5765785  0.5528049  0.55869853 0.590561   0.5593564  0.61135983 0.5648409  0.5591167  0.5605883  0.55270463 0.582368   0.5864706\n",
      " 0.5509123  0.54402995 0.5634396  0.55889064 0.7098478  0.5556601  0.62318474 0.60085946 0.55055076 0.589103   0.7404816  0.5605246  0.5649108  0.6296755\n",
      " 0.5541568  0.5522931  0.5536763  0.69153523 0.5506469  0.54336727 0.5538394  0.6070891  0.5619104  0.5445274  0.5538625  0.6678756  0.54921585 0.5810564\n",
      " 0.55650616 0.62748164 0.5457482  0.54810095 0.5776036  0.57986915 0.5581192  0.5489772  0.5516149  0.56432337 0.54983115 0.54551566 0.68999696 0.6961707\n",
      " 0.5420884  0.5499122  0.58138597 0.7388661  0.550606   0.5724305  0.54932106 0.568741   0.5397873  0.62911725 0.71588296 0.5729088  0.56724066 0.6619705\n",
      " 0.64645153 0.6133294  0.66643095 0.7040702  0.6480481  0.56586325 0.570891   0.59910834 0.5760287  0.60950196 0.59984004 0.68530214 0.5764785  0.5497888\n",
      " 0.7253777  0.55488    0.55252093 0.6769183  0.63265914 0.5546087  0.55005455 0.5856682  0.6204104  0.5798114  0.66270185 0.62804705 0.57632077 0.53976667\n",
      " 0.54241467 0.5568518  0.7185646  0.68788576 0.58833003 0.63722867 0.566777   0.5749183  0.5957593  0.6846262  0.63824534 0.6173232  0.72418356 0.6050435\n",
      " 0.6153189  0.55252093 0.72622615 0.5767056  0.5829468  0.6670103  0.61550355 0.57768524 0.56144977 0.6314358 ]\n"
     ]
    },
    {
     "data": {
      "text/plain": [
       "array([0.6631072 , 0.5572755 , 0.5765785 , 0.5528049 , 0.55869853, 0.590561  , 0.5593564 , 0.61135983, 0.5648409 , 0.5591167 , 0.5605883 , 0.55270463,\n",
       "       0.582368  , 0.5864706 , 0.5509123 , 0.54402995, 0.5634396 , 0.55889064, 0.7098478 , 0.5556601 , 0.62318474, 0.60085946, 0.55055076, 0.589103  ,\n",
       "       0.7404816 , 0.5605246 , 0.5649108 , 0.6296755 , 0.5541568 , 0.5522931 , 0.5536763 , 0.69153523, 0.5506469 , 0.54336727, 0.5538394 , 0.6070891 ,\n",
       "       0.5619104 , 0.5445274 , 0.5538625 , 0.6678756 , 0.54921585, 0.5810564 , 0.55650616, 0.62748164, 0.5457482 , 0.54810095, 0.5776036 , 0.57986915,\n",
       "       0.5581192 , 0.5489772 , 0.5516149 , 0.56432337, 0.54983115, 0.54551566, 0.68999696, 0.6961707 , 0.5420884 , 0.5499122 , 0.58138597, 0.7388661 ,\n",
       "       0.550606  , 0.5724305 , 0.54932106, 0.568741  , 0.5397873 , 0.62911725, 0.71588296, 0.5729088 , 0.56724066, 0.6619705 , 0.64645153, 0.6133294 ,\n",
       "       0.66643095, 0.7040702 , 0.6480481 , 0.56586325, 0.570891  , 0.59910834, 0.5760287 , 0.60950196, 0.59984004, 0.68530214, 0.5764785 , 0.5497888 ,\n",
       "       0.7253777 , 0.55488   , 0.55252093, 0.6769183 , 0.63265914, 0.5546087 , 0.55005455, 0.5856682 , 0.6204104 , 0.5798114 , 0.66270185, 0.62804705,\n",
       "       0.57632077, 0.53976667, 0.54241467, 0.5568518 , 0.7185646 , 0.68788576, 0.58833003, 0.63722867, 0.566777  , 0.5749183 , 0.5957593 , 0.6846262 ,\n",
       "       0.63824534, 0.6173232 , 0.72418356, 0.6050435 , 0.6153189 , 0.55252093, 0.72622615, 0.5767056 , 0.5829468 , 0.6670103 , 0.61550355, 0.57768524,\n",
       "       0.56144977, 0.6314358 ], dtype=float32)"
      ]
     },
     "execution_count": 12,
     "metadata": {},
     "output_type": "execute_result"
    }
   ],
   "source": [
    "ad_model.test(ts_segs)"
   ]
  },
  {
   "cell_type": "code",
   "execution_count": null,
   "metadata": {},
   "outputs": [],
   "source": [
    "ad_model.export(\"\")"
   ]
  },
  {
   "cell_type": "code",
   "execution_count": 14,
   "metadata": {},
   "outputs": [
    {
     "name": "stdout",
     "output_type": "stream",
     "text": [
      "[Conv1d(1, 32, kernel_size=(4,), stride=(2,), padding=(1,), bias=False), LeakyReLU(negative_slope=0.2, inplace=True), Conv1d(32, 64, kernel_size=(4,), stride=(2,), padding=(1,), bias=False), BatchNorm1d(64, eps=1e-05, momentum=0.1, affine=True, track_running_stats=True), LeakyReLU(negative_slope=0.2, inplace=True), Conv1d(64, 128, kernel_size=(4,), stride=(2,), padding=(1,), bias=False), BatchNorm1d(128, eps=1e-05, momentum=0.1, affine=True, track_running_stats=True), LeakyReLU(negative_slope=0.2, inplace=True), Conv1d(128, 256, kernel_size=(4,), stride=(2,), padding=(1,), bias=False), BatchNorm1d(256, eps=1e-05, momentum=0.1, affine=True, track_running_stats=True), LeakyReLU(negative_slope=0.2, inplace=True), Conv1d(256, 512, kernel_size=(4,), stride=(2,), padding=(1,), bias=False), BatchNorm1d(512, eps=1e-05, momentum=0.1, affine=True, track_running_stats=True), LeakyReLU(negative_slope=0.2, inplace=True), Conv1d(512, 1024, kernel_size=(4,), stride=(2,), padding=(1,), bias=False), BatchNorm1d(1024, eps=1e-05, momentum=0.1, affine=True, track_running_stats=True), LeakyReLU(negative_slope=0.2, inplace=True), Conv1d(1024, 20, kernel_size=(4,), stride=(1,), bias=False)]\n",
      "[ConvTranspose1d(20, 1024, kernel_size=(4,), stride=(1,), bias=False), BatchNorm1d(1024, eps=1e-05, momentum=0.1, affine=True, track_running_stats=True), ReLU(inplace=True), ConvTranspose1d(1024, 512, kernel_size=(4,), stride=(2,), padding=(1,), bias=False), BatchNorm1d(512, eps=1e-05, momentum=0.1, affine=True, track_running_stats=True), ReLU(inplace=True), ConvTranspose1d(512, 256, kernel_size=(4,), stride=(2,), padding=(1,), bias=False), BatchNorm1d(256, eps=1e-05, momentum=0.1, affine=True, track_running_stats=True), ReLU(inplace=True), ConvTranspose1d(256, 128, kernel_size=(4,), stride=(2,), padding=(1,), bias=False), BatchNorm1d(128, eps=1e-05, momentum=0.1, affine=True, track_running_stats=True), ReLU(inplace=True), ConvTranspose1d(128, 64, kernel_size=(4,), stride=(2,), padding=(1,), bias=False), BatchNorm1d(64, eps=1e-05, momentum=0.1, affine=True, track_running_stats=True), ReLU(inplace=True), ConvTranspose1d(64, 32, kernel_size=(4,), stride=(2,), padding=(1,), bias=False), BatchNorm1d(32, eps=1e-05, momentum=0.1, affine=True, track_running_stats=True), ReLU(inplace=True), ConvTranspose1d(32, 1, kernel_size=(4,), stride=(2,), padding=(1,), bias=False), Tanh()]\n",
      "[0.00404898 0.00470831 0.00651388 0.00526667 0.00444713 0.0051656  0.00524337 0.00376837 0.00377916 0.00415017 0.00523547 0.00431197 0.00391211 0.00477317\n",
      " 0.00368692 0.00610787 0.0047306  0.00522531 0.0028556  0.00783262 0.00731041 0.00373616 0.00691668 0.00582999 0.0039084  0.00525943 0.00404849 0.00431695\n",
      " 0.00506247 0.00340009 0.00408458 0.00462565 0.00534215 0.00486859 0.00697723 0.00456139 0.00560497 0.00497774 0.00452884 0.0075807  0.00682268 0.00549752\n",
      " 0.00348926 0.00496785 0.00476481 0.0050407  0.00468443 0.00781437 0.00397793 0.00576186 0.00462129 0.00426324 0.00576122 0.00354857 0.00382212 0.00633046\n",
      " 0.00523148 0.00469834 0.00371547 0.00366055 0.0051741  0.00390645 0.00541257 0.00494445]\n"
     ]
    }
   ],
   "source": [
    "## param for run\n",
    "param_run = {\n",
    "    'model_path':\"../spartan2/models/beatgan/model/ecg_cnn.pth\",\n",
    "    'network':'CNN',\n",
    "    'net_type':'gru',\n",
    "    'layers':1,\n",
    "    'seq_len': 256,\n",
    "    'input_size':1,\n",
    "    'hidden_size':100,\n",
    "    'rep_size':20,\n",
    "    'batch_size':64,\n",
    "    'max_epoch':5,\n",
    "    'lr': 0.01,\n",
    "    'lambda':1\n",
    "}\n",
    "### run model (load form model_path)\n",
    "beatgan,res=ad_model.run(None,ts_segs,param_run,device)"
   ]
  },
  {
   "cell_type": "code",
   "execution_count": 17,
   "metadata": {},
   "outputs": [
    {
     "name": "stdout",
     "output_type": "stream",
     "text": [
      "[0.00461245 0.00477234 0.00576186 0.00549752 0.00456139 0.0059978  0.00431197 0.00559425 0.00477317 0.00686568 0.00588066 0.00731571 0.00697723 0.00376837\n",
      " 0.00526667 0.00522531 0.00404516 0.00470831 0.0046449  0.00404849 0.00563591 0.0075632  0.00582999 0.00487539 0.0045352  0.00426324 0.00452884 0.00382212\n",
      " 0.00615964 0.00575538 0.00371547 0.0053324  0.00408458 0.00691668 0.00415017 0.0051656  0.00731041 0.00506247 0.0050407  0.00368692 0.00492755 0.00393404\n",
      " 0.004848   0.00600658 0.0028556  0.00633046 0.00524337 0.00442893 0.00441769 0.00436422 0.00431695 0.00404898 0.00391211 0.00525943 0.00468443 0.00781437\n",
      " 0.00497774 0.00576379 0.00472815 0.00627745 0.00828256 0.00708214 0.005847   0.00472563]\n"
     ]
    },
    {
     "data": {
      "text/plain": [
       "(<spartan2.models.beatgan.BeatGAN_CNN.BeatGAN_CNN at 0x1c319b0410>,\n",
       " array([0.00461245, 0.00477234, 0.00576186, 0.00549752, 0.00456139, 0.0059978 , 0.00431197, 0.00559425, 0.00477317, 0.00686568, 0.00588066, 0.00731571,\n",
       "        0.00697723, 0.00376837, 0.00526667, 0.00522531, 0.00404516, 0.00470831, 0.0046449 , 0.00404849, 0.00563591, 0.0075632 , 0.00582999, 0.00487539,\n",
       "        0.0045352 , 0.00426324, 0.00452884, 0.00382212, 0.00615964, 0.00575538, 0.00371547, 0.0053324 , 0.00408458, 0.00691668, 0.00415017, 0.0051656 ,\n",
       "        0.00731041, 0.00506247, 0.0050407 , 0.00368692, 0.00492755, 0.00393404, 0.004848  , 0.00600658, 0.0028556 , 0.00633046, 0.00524337, 0.00442893,\n",
       "        0.00441769, 0.00436422, 0.00431695, 0.00404898, 0.00391211, 0.00525943, 0.00468443, 0.00781437, 0.00497774, 0.00576379, 0.00472815, 0.00627745,\n",
       "        0.00828256, 0.00708214, 0.005847  , 0.00472563], dtype=float32))"
      ]
     },
     "execution_count": 17,
     "metadata": {},
     "output_type": "execute_result"
    }
   ],
   "source": [
    "### run model from cache\n",
    "ad_model.run(beatgan,ts_segs,param_run,device)"
   ]
  },
  {
   "cell_type": "code",
   "execution_count": null,
   "metadata": {},
   "outputs": [],
   "source": []
  }
 ],
 "metadata": {
  "kernelspec": {
   "display_name": "Python [conda env:py3] *",
   "language": "python",
   "name": "conda-env-py3-py"
  },
  "language_info": {
   "codemirror_mode": {
    "name": "ipython",
    "version": 3
   },
   "file_extension": ".py",
   "mimetype": "text/x-python",
   "name": "python",
   "nbconvert_exporter": "python",
   "pygments_lexer": "ipython3",
   "version": "3.7.5"
  }
 },
 "nbformat": 4,
 "nbformat_minor": 2
}
