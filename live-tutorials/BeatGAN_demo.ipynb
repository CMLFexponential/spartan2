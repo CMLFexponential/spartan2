{
 "cells": [
  {
   "cell_type": "code",
   "execution_count": 1,
   "metadata": {},
   "outputs": [],
   "source": [
    "%matplotlib inline\n",
    "import sys,os\n",
    "import matplotlib.pyplot as plt\n",
    "import torch\n",
    "import spartan2.spartan as st"
   ]
  },
  {
   "cell_type": "code",
   "execution_count": 2,
   "metadata": {},
   "outputs": [],
   "source": [
    "os.environ[\"CUDA_VISIBLE_DEVICES\"] =\"0\"\n",
    "device = torch.device(\"cuda:0\" if torch.cuda.is_available() else \"cpu\")\n",
    "st.config(st.engine.SINGLEMACHINE)"
   ]
  },
  {
   "cell_type": "code",
   "execution_count": 3,
   "metadata": {},
   "outputs": [
    {
     "name": "stdout",
     "output_type": "stream",
     "text": [
      "Info: Tensor is loaded\n",
      "           ----------------------\n",
      "             attr     |\t2\n",
      "             values   |\tTrue\n",
      "             nonzeros |\t36000\n",
      "\n"
     ]
    }
   ],
   "source": [
    "# load time data\n",
    "data = st.loadTensor(name = \"example_time.tensor\", path = \"inputData/\", col_types = [float, float, float], hasvalue=True)"
   ]
  },
  {
   "cell_type": "code",
   "execution_count": 4,
   "metadata": {},
   "outputs": [],
   "source": [
    "time_series = data.toTimeseries(attrlabels=['ecg_low', 'ecg_high'])"
   ]
  },
  {
   "cell_type": "code",
   "execution_count": 5,
   "metadata": {},
   "outputs": [
    {
     "data": {
      "text/plain": [
       "(2, 36000)"
      ]
     },
     "execution_count": 5,
     "metadata": {},
     "output_type": "execute_result"
    }
   ],
   "source": [
    "time_series.attrlists.shape"
   ]
  },
  {
   "cell_type": "code",
   "execution_count": 6,
   "metadata": {},
   "outputs": [],
   "source": [
    "# create a beatgan model\n",
    "\n",
    "ad_model = st.anomaly_detection.create(time_series, st.ad_policy.BEATGAN, \"my_beatgan_model\")"
   ]
  },
  {
   "cell_type": "code",
   "execution_count": 7,
   "metadata": {},
   "outputs": [],
   "source": [
    "### param for train model\n",
    "param_rnn = {\n",
    "    'network':'CNN',\n",
    "    'net_type':'gru',\n",
    "    'layers':1,\n",
    "    'seq_len': 64,\n",
    "    'stride': 32 ,\n",
    "    'input_size':2,\n",
    "    'hidden_size':100,\n",
    "    'rep_size':20,\n",
    "    'batch_size':64,\n",
    "    'max_epoch':5,\n",
    "    'lr': 0.01,\n",
    "    'lambda':1\n",
    "}"
   ]
  },
  {
   "cell_type": "code",
   "execution_count": 8,
   "metadata": {},
   "outputs": [
    {
     "name": "stdout",
     "output_type": "stream",
     "text": [
      "[Conv1d(2, 32, kernel_size=(4,), stride=(2,), padding=(1,), bias=False), LeakyReLU(negative_slope=0.2, inplace=True), Conv1d(32, 64, kernel_size=(4,), stride=(2,), padding=(1,), bias=False), BatchNorm1d(64, eps=1e-05, momentum=0.1, affine=True, track_running_stats=True), LeakyReLU(negative_slope=0.2, inplace=True), Conv1d(64, 128, kernel_size=(4,), stride=(2,), padding=(1,), bias=False), BatchNorm1d(128, eps=1e-05, momentum=0.1, affine=True, track_running_stats=True), LeakyReLU(negative_slope=0.2, inplace=True), Conv1d(128, 256, kernel_size=(4,), stride=(2,), padding=(1,), bias=False), BatchNorm1d(256, eps=1e-05, momentum=0.1, affine=True, track_running_stats=True), LeakyReLU(negative_slope=0.2, inplace=True), Conv1d(256, 20, kernel_size=(4,), stride=(1,), bias=False)]\n",
      "[ConvTranspose1d(20, 256, kernel_size=(4,), stride=(1,), bias=False), BatchNorm1d(256, eps=1e-05, momentum=0.1, affine=True, track_running_stats=True), ReLU(inplace=True), ConvTranspose1d(256, 128, kernel_size=(4,), stride=(2,), padding=(1,), bias=False), BatchNorm1d(128, eps=1e-05, momentum=0.1, affine=True, track_running_stats=True), ReLU(inplace=True), ConvTranspose1d(128, 64, kernel_size=(4,), stride=(2,), padding=(1,), bias=False), BatchNorm1d(64, eps=1e-05, momentum=0.1, affine=True, track_running_stats=True), ReLU(inplace=True), ConvTranspose1d(64, 32, kernel_size=(4,), stride=(2,), padding=(1,), bias=False), BatchNorm1d(32, eps=1e-05, momentum=0.1, affine=True, track_running_stats=True), ReLU(inplace=True), ConvTranspose1d(32, 2, kernel_size=(4,), stride=(2,), padding=(1,), bias=False), Tanh()]\n"
     ]
    }
   ],
   "source": [
    "ad_model.init_model(param_rnn,device)"
   ]
  },
  {
   "cell_type": "code",
   "execution_count": 9,
   "metadata": {},
   "outputs": [
    {
     "name": "stderr",
     "output_type": "stream",
     "text": [
      "\r",
      "  0%|          | 0/5 [00:00<?, ?it/s]"
     ]
    },
    {
     "name": "stdout",
     "output_type": "stream",
     "text": [
      "0:loss_g(rec/adv):0.1739777773618698/0.8265378475189209,loss_d(real/fake):0.8652509450912476/0.6067827939987183\n"
     ]
    },
    {
     "name": "stderr",
     "output_type": "stream",
     "text": [
      "\r",
      " 20%|██        | 1/5 [00:04<00:17,  4.32s/it]"
     ]
    },
    {
     "name": "stdout",
     "output_type": "stream",
     "text": [
      "0:loss_g(rec/adv):0.10077608376741409/0.2606324851512909,loss_d(real/fake):0.1959189474582672/0.009739088825881481\n"
     ]
    },
    {
     "name": "stderr",
     "output_type": "stream",
     "text": [
      "\r",
      " 40%|████      | 2/5 [00:08<00:12,  4.29s/it]"
     ]
    },
    {
     "name": "stdout",
     "output_type": "stream",
     "text": [
      "0:loss_g(rec/adv):0.13618631660938263/0.32075390219688416,loss_d(real/fake):0.001682927249930799/0.18316274881362915\n"
     ]
    },
    {
     "name": "stderr",
     "output_type": "stream",
     "text": [
      "\r",
      " 60%|██████    | 3/5 [00:12<00:08,  4.26s/it]"
     ]
    },
    {
     "name": "stdout",
     "output_type": "stream",
     "text": [
      "0:loss_g(rec/adv):0.0940466821193695/0.21352529525756836,loss_d(real/fake):0.09540962427854538/0.0011823782697319984\n"
     ]
    },
    {
     "name": "stderr",
     "output_type": "stream",
     "text": [
      "\r",
      " 80%|████████  | 4/5 [00:16<00:04,  4.21s/it]"
     ]
    },
    {
     "name": "stdout",
     "output_type": "stream",
     "text": [
      "0:loss_g(rec/adv):0.0461902916431427/0.14362813532352448,loss_d(real/fake):0.0073326947167515755/0.489151269197464\n"
     ]
    },
    {
     "name": "stderr",
     "output_type": "stream",
     "text": [
      "100%|██████████| 5/5 [00:20<00:00,  4.19s/it]\n"
     ]
    }
   ],
   "source": [
    "ad_model.train(time_series)"
   ]
  },
  {
   "cell_type": "code",
   "execution_count": 10,
   "metadata": {},
   "outputs": [
    {
     "name": "stdout",
     "output_type": "stream",
     "text": [
      "[0.12642826 0.19472861 0.5964342  ... 0.08249463 0.10040393 0.10824323]\n"
     ]
    },
    {
     "data": {
      "text/plain": [
       "array([0.12642826, 0.19472861, 0.5964342 , ..., 0.08249463, 0.10040393, 0.10824323], dtype=float32)"
      ]
     },
     "execution_count": 10,
     "metadata": {},
     "output_type": "execute_result"
    }
   ],
   "source": [
    "ad_model.test(time_series)"
   ]
  },
  {
   "cell_type": "code",
   "execution_count": 11,
   "metadata": {},
   "outputs": [
    {
     "data": {
      "text/plain": [
       "<spartan2.models.beatgan.BeatGAN_CNN.BeatGAN_CNN at 0x1c2b4baad0>"
      ]
     },
     "execution_count": 11,
     "metadata": {},
     "output_type": "execute_result"
    }
   ],
   "source": [
    "ad_model.export(\"/Users/zhoubin/test/my_beatgan.pth\")"
   ]
  },
  {
   "cell_type": "code",
   "execution_count": 12,
   "metadata": {},
   "outputs": [
    {
     "name": "stdout",
     "output_type": "stream",
     "text": [
      "[Conv1d(2, 32, kernel_size=(4,), stride=(2,), padding=(1,), bias=False), LeakyReLU(negative_slope=0.2, inplace=True), Conv1d(32, 64, kernel_size=(4,), stride=(2,), padding=(1,), bias=False), BatchNorm1d(64, eps=1e-05, momentum=0.1, affine=True, track_running_stats=True), LeakyReLU(negative_slope=0.2, inplace=True), Conv1d(64, 128, kernel_size=(4,), stride=(2,), padding=(1,), bias=False), BatchNorm1d(128, eps=1e-05, momentum=0.1, affine=True, track_running_stats=True), LeakyReLU(negative_slope=0.2, inplace=True), Conv1d(128, 256, kernel_size=(4,), stride=(2,), padding=(1,), bias=False), BatchNorm1d(256, eps=1e-05, momentum=0.1, affine=True, track_running_stats=True), LeakyReLU(negative_slope=0.2, inplace=True), Conv1d(256, 20, kernel_size=(4,), stride=(1,), bias=False)]\n",
      "[ConvTranspose1d(20, 256, kernel_size=(4,), stride=(1,), bias=False), BatchNorm1d(256, eps=1e-05, momentum=0.1, affine=True, track_running_stats=True), ReLU(inplace=True), ConvTranspose1d(256, 128, kernel_size=(4,), stride=(2,), padding=(1,), bias=False), BatchNorm1d(128, eps=1e-05, momentum=0.1, affine=True, track_running_stats=True), ReLU(inplace=True), ConvTranspose1d(128, 64, kernel_size=(4,), stride=(2,), padding=(1,), bias=False), BatchNorm1d(64, eps=1e-05, momentum=0.1, affine=True, track_running_stats=True), ReLU(inplace=True), ConvTranspose1d(64, 32, kernel_size=(4,), stride=(2,), padding=(1,), bias=False), BatchNorm1d(32, eps=1e-05, momentum=0.1, affine=True, track_running_stats=True), ReLU(inplace=True), ConvTranspose1d(32, 2, kernel_size=(4,), stride=(2,), padding=(1,), bias=False), Tanh()]\n",
      "[0.12642826 0.19472861 0.5964342  ... 0.08249463 0.10040393 0.10824323]\n"
     ]
    }
   ],
   "source": [
    "## param for run\n",
    "param_run = {\n",
    "    'model_path':\"/Users/zhoubin/test/my_beatgan.pth\",\n",
    "    'network':'CNN',\n",
    "    'net_type':'gru',\n",
    "    'layers':1,\n",
    "    'seq_len': 64,\n",
    "    'stride': 32 ,\n",
    "    'input_size':2,\n",
    "    'hidden_size':100,\n",
    "    'rep_size':20,\n",
    "    'batch_size':64,\n",
    "    'max_epoch':5,\n",
    "    'lr': 0.01,\n",
    "    'lambda':1\n",
    "}\n",
    "### run model (load form model_path)\n",
    "beatgan,res=ad_model.run(None,time_series,param_run,device)"
   ]
  },
  {
   "cell_type": "code",
   "execution_count": 13,
   "metadata": {},
   "outputs": [
    {
     "name": "stdout",
     "output_type": "stream",
     "text": [
      "[0.12642826 0.19472861 0.5964342  ... 0.08249463 0.10040393 0.10824323]\n"
     ]
    },
    {
     "data": {
      "text/plain": [
       "<spartan2.models.beatgan.BeatGAN_CNN.BeatGAN_CNN at 0x10e218650>"
      ]
     },
     "execution_count": 13,
     "metadata": {},
     "output_type": "execute_result"
    }
   ],
   "source": [
    "### run model from cache\n",
    "ad_model.run(beatgan,time_series,param_run,device)"
   ]
  },
  {
   "cell_type": "code",
   "execution_count": null,
   "metadata": {},
   "outputs": [],
   "source": []
  }
 ],
 "metadata": {
  "kernelspec": {
   "display_name": "Python [conda env:py3] *",
   "language": "python",
   "name": "conda-env-py3-py"
  },
  "language_info": {
   "codemirror_mode": {
    "name": "ipython",
    "version": 3
   },
   "file_extension": ".py",
   "mimetype": "text/x-python",
   "name": "python",
   "nbconvert_exporter": "python",
   "pygments_lexer": "ipython3",
   "version": "3.7.5"
  }
 },
 "nbformat": 4,
 "nbformat_minor": 2
}
