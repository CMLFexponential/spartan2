{
 "cells": [
  {
   "cell_type": "markdown",
   "metadata": {},
   "source": [
    "## Time series tensor live-tutorials.\n",
    "Here you can learn the basic use of tensor in time series data.\n",
    "If you want the picture shown outside this tutorial, uncomment following line."
   ]
  },
  {
   "cell_type": "code",
   "execution_count": null,
   "metadata": {},
   "outputs": [],
   "source": [
    "# %matplotlib qt"
   ]
  },
  {
   "cell_type": "markdown",
   "metadata": {},
   "source": [
    "Import necessary packages.\n",
    "\n",
    "Remember to install spartan2 from pip or clone the project from github before doing this."
   ]
  },
  {
   "cell_type": "code",
   "execution_count": null,
   "metadata": {
    "scrolled": true
   },
   "outputs": [],
   "source": [
    "import matplotlib.pyplot as plt\n",
    "import numpy as np\n",
    "try:\n",
    "    import spartan2.spartan as st\n",
    "except:\n",
    "    import sys\n",
    "    sys.path.append('..')\n",
    "    import spartan2.spartan as st"
   ]
  },
  {
   "cell_type": "markdown",
   "metadata": {},
   "source": [
    "First, we load data from origin file by **loadTensor** function.\n",
    "\n",
    "**name**: file name, support 'gz', 'tensor', 'csv' format.\n",
    "\n",
    "**path**: support relative or absolute path of directory.\n",
    "\n",
    "**col_idx**: id of chosen columns in data file.\n",
    "\n",
    "**col_types**: data type of each chosen column.\n",
    "\n",
    "**has_value**: if time column exists.\n",
    "\n",
    "**value_idx**: time column id, default is 0."
   ]
  },
  {
   "cell_type": "code",
   "execution_count": null,
   "metadata": {
    "scrolled": true
   },
   "outputs": [],
   "source": [
    "data = st.loadTensor(name = \"example_time\", path = \"inputData/\", col_idx = [0, 1, 2], col_types = [float, float, float], hasvalue=True)"
   ]
  },
  {
   "cell_type": "markdown",
   "metadata": {},
   "source": [
    "This step, we transfer tensor into **STTimeSeries** object.\n",
    "\n",
    "**attrlabels**: label name of each dimension.\n",
    "\n",
    "**numsensors**: number of sensors you select as time series data. If not provided, all data will be used.\n",
    "\n",
    "**freq**: frequency of the signal. If not provided, it will be calculated from time dimension.\n",
    "\n",
    "**startts**: start timestamp. If not provided, it will be calculated from time dimension."
   ]
  },
  {
   "cell_type": "code",
   "execution_count": null,
   "metadata": {},
   "outputs": [],
   "source": [
    "time_series = data.toTimeseries(attrlabels=['ecg_low', 'ecg_high'])\n",
    "print(time_series)"
   ]
  },
  {
   "cell_type": "markdown",
   "metadata": {},
   "source": [
    "Function **show** draws plot of data.\n",
    "\n",
    "**chosen_labels** is a two-dimension array while the first dimension defines #subfigures and the second defines each line in subfigures."
   ]
  },
  {
   "cell_type": "code",
   "execution_count": null,
   "metadata": {},
   "outputs": [],
   "source": [
    "time_series.show()\n",
    "time_series.show(chosen_labels=[['ecg_low'], ['ecg_high']])\n",
    "time_series.show(chosen_labels=[time_series.attrlabels])"
   ]
  },
  {
   "cell_type": "markdown",
   "metadata": {},
   "source": [
    "Function **resample** resamples series data with a new frequency.\n",
    "\n",
    "**resampled_freq**: resampled frequency.\n",
    "\n",
    "**show**: if True, show the resampled data by matplotlib.\n",
    "\n",
    "**inplace**: if True, return a new STTimeseries object."
   ]
  },
  {
   "cell_type": "code",
   "execution_count": null,
   "metadata": {},
   "outputs": [],
   "source": [
    "resampled_time_series = time_series.resample(180, show=True)\n",
    "print(resampled_time_series)"
   ]
  },
  {
   "cell_type": "code",
   "execution_count": null,
   "metadata": {},
   "outputs": [],
   "source": [
    "resampled_time_series.resample(360, inplace=True)\n",
    "print(resampled_time_series)"
   ]
  },
  {
   "cell_type": "markdown",
   "metadata": {},
   "source": [
    "Function **add_columns** adds columns to STTimeseries object.\n",
    "\n",
    "**column_names**: list of column names.\n",
    "\n",
    "**values**: values of columns.\n",
    "    if one-dimension list, new column will be single value; \n",
    "    if two-dimension list, new column will be a list"
   ]
  },
  {
   "cell_type": "code",
   "execution_count": null,
   "metadata": {},
   "outputs": [],
   "source": [
    "added_series = time_series.add_columns(['healthy', 'pressure'], [1, np.random.rand(time_series.length)], inplace=False, show=True)\n",
    "print(added_series)"
   ]
  },
  {
   "cell_type": "markdown",
   "metadata": {},
   "source": [
    "Function **combine** combines series data which have the same frequency.\n",
    "\n",
    "**series**: A single or a list of STTimeseries object to be combined."
   ]
  },
  {
   "cell_type": "code",
   "execution_count": null,
   "metadata": {},
   "outputs": [],
   "source": [
    "combined_series = data.toTimeseries(attrlabels=['ecg_l', 'ecg_h'])\n",
    "combined_series = time_series.combine(combined_series, inplace=False, show=True)\n",
    "print(combined_series)"
   ]
  },
  {
   "cell_type": "code",
   "execution_count": null,
   "metadata": {},
   "outputs": [],
   "source": [
    "combined_series.combine([combined_series, combined_series], inplace=True)\n",
    "print(combined_series)"
   ]
  },
  {
   "cell_type": "markdown",
   "metadata": {},
   "source": [
    "Function **extract** removes chosen attribute columns from STTimeseries object.\n",
    "\n",
    "**attrs**: names of chosen dimensions to be extracted."
   ]
  },
  {
   "cell_type": "code",
   "execution_count": null,
   "metadata": {},
   "outputs": [],
   "source": [
    "extracted_series = added_series.extract(['healthy', 'pressure'], show=True, inplace=False)\n",
    "print(extracted_series)"
   ]
  },
  {
   "cell_type": "markdown",
   "metadata": {},
   "source": [
    "Function **concat** cooncats series data which have the same dimension size.\n",
    "\n",
    "**series**: A single or a list of STTimeseries object to be concatted."
   ]
  },
  {
   "cell_type": "code",
   "execution_count": null,
   "metadata": {},
   "outputs": [],
   "source": [
    "concatted_series = time_series.concat(time_series, inplace=False, show=True)\n",
    "print(concatted_series)"
   ]
  },
  {
   "cell_type": "code",
   "execution_count": null,
   "metadata": {},
   "outputs": [],
   "source": [
    "concatted_series.concat([time_series, time_series], inplace=True, show=False)\n",
    "print(concatted_series)"
   ]
  },
  {
   "cell_type": "markdown",
   "metadata": {},
   "source": [
    "Function **cut** cuts timestamps of chosen attribute columns.\n",
    "\n",
    "**attrs**: names of columns to be cut. If not provided, all columns will be cut.\n",
    "\n",
    "**start**: start position of cut. If not provided, cut from the very front position.\n",
    "\n",
    "**end**: end position of cut. If not provided, cut to the very last position.\n",
    "\n",
    "**form**: default is \"point\", type of start and end. If \"point\", start and end would mean absolute positions. If \"time\", start and end would mean timestamp and need to multiply frequency to get the absolute positions."
   ]
  },
  {
   "cell_type": "code",
   "execution_count": null,
   "metadata": {},
   "outputs": [],
   "source": [
    "cut_point_series = time_series.cut(attrs=['ecg_low'], start=1000, end=12000, show=True, inplace=False)\n",
    "print(cut_point_series)\n",
    "cut_time_series = time_series.cut(start=40, end=60, form='time', show=True, inplace=False)\n",
    "print(cut_time_series)"
   ]
  },
  {
   "cell_type": "markdown",
   "metadata": {},
   "source": [
    "Function **normalize** normalizes attributes by different strategies.\n",
    "\n",
    "**attrs**: names of columns to be normalized. If not provided, all columns will be normalized.\n",
    "\n",
    "**start**: strategy: normalize strategy.\n",
    "\n",
    "- minmax: normalize by minmax strategy to [-1, 1]."
   ]
  },
  {
   "cell_type": "code",
   "execution_count": null,
   "metadata": {
    "scrolled": true
   },
   "outputs": [],
   "source": [
    "normalized_series = time_series.normalize(attrs=['ecg_low'], show=True, inplace=False)\n",
    "print(normalized_series)"
   ]
  },
  {
   "cell_type": "markdown",
   "metadata": {},
   "source": [
    "Function **savefile** saves current time series object as a tensor file, time column [if exists] shall always be stored as the first column.\n",
    "\n",
    "**name**: name of the file to be saved.\n",
    "\n",
    "**path**: default is None, saved to parent directory.\n",
    "\n",
    "**attr**: default is None. If assigned, only save required columns.\n",
    "\n",
    "**annotation**: annotations which will be saved at the first line of the file.\n",
    "\n",
    "**savetime**: default is True, save time dimension.\n",
    "\n",
    "**format**: support 'tensor', 'csv' format."
   ]
  },
  {
   "cell_type": "code",
   "execution_count": null,
   "metadata": {},
   "outputs": [],
   "source": [
    "time_series.savefile('test_tensor', path='.//inputData//', attrs=['ecg_low'], annotation='this is a test', format='tensor')\n",
    "time_series.savefile('test_csv', path='.//inputData//', attrs=['ecg_low'], annotation='this is a test', format='csv')"
   ]
  }
 ],
 "metadata": {
  "kernelspec": {
   "display_name": "Python 3",
   "language": "python",
   "name": "python3"
  },
  "language_info": {
   "codemirror_mode": {
    "name": "ipython",
    "version": 3
   },
   "file_extension": ".py",
   "mimetype": "text/x-python",
   "name": "python",
   "nbconvert_exporter": "python",
   "pygments_lexer": "ipython3",
   "version": "3.7.6"
  }
 },
 "nbformat": 4,
 "nbformat_minor": 2
}
