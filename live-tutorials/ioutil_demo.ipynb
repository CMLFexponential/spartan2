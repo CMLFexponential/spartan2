{
 "cells": [
  {
   "cell_type": "code",
   "execution_count": 1,
   "metadata": {},
   "outputs": [],
   "source": [
    "import spartan2.ioutil as ioutil"
   ]
  },
  {
   "cell_type": "markdown",
   "metadata": {},
   "source": [
    "# renumber id function\n",
    "\n",
    "`ioutil.renumberids` function read input file, map ids(may be `str` etc.) to integers(starts from 0)\n",
    "It takes 7 arguments:\n",
    "* indir: directory of input file\n",
    "* outdir: director of output files\n",
    "* fnm: input file name\n",
    "* ofnm: output filename\n",
    "* delimeter: delimeter of each line (such as `' '`, `\\t`, `,`, etc.)\n",
    "* comments: the first character of comment line\n",
    "* nodetype: nodetype, can be `int`, `str`, etc."
   ]
  },
  {
   "cell_type": "markdown",
   "metadata": {},
   "source": [
    "**Example**\n",
    "\n",
    "We have a graph file at `inputData/example_graph.tensor` and we will renumber the id and save the edgelist file `example_graph.edgelist` with id map files `userid.dict` and `msgid.dict` to `outputData/example_graph` directory."
   ]
  },
  {
   "cell_type": "code",
   "execution_count": 2,
   "metadata": {},
   "outputs": [
    {
     "name": "stdout",
     "output_type": "stream",
     "text": [
      "(33374, 65911)\n"
     ]
    }
   ],
   "source": [
    "shape = ioutil.renumberids('./inputData', './outputData/example_graph', 'example_graph.tensor', 'example_graph.edgelist', \n",
    "                            delimeter=',', comments='#', nodetype=int)\n",
    "print(shape)"
   ]
  },
  {
   "cell_type": "markdown",
   "metadata": {},
   "source": [
    "You can even read a `.gz` file **without** uncompress it!"
   ]
  },
  {
   "cell_type": "code",
   "execution_count": 3,
   "metadata": {},
   "outputs": [
    {
     "name": "stdout",
     "output_type": "stream",
     "text": [
      "(686556, 85539)\n"
     ]
    }
   ],
   "source": [
    "# Note that we are reading a .gz file and delimeter and comments should be bytes not str\n",
    "shape = ioutil.renumberids('./inputData', './outputData/yelp', 'yelp.edgelist.gz', 'yelp.edgelist', \n",
    "                            delimeter=b' ', comments=b'#', nodetype=int)\n",
    "print(shape)"
   ]
  },
  {
   "cell_type": "markdown",
   "metadata": {},
   "source": [
    "Now you can check the `outputData` directory and find what you expect."
   ]
  }
 ],
 "metadata": {
  "kernelspec": {
   "display_name": "Python 3",
   "language": "python",
   "name": "python3"
  },
  "language_info": {
   "codemirror_mode": {
    "name": "ipython",
    "version": 3
   },
   "file_extension": ".py",
   "mimetype": "text/x-python",
   "name": "python",
   "nbconvert_exporter": "python",
   "pygments_lexer": "ipython3",
   "version": "3.6.8"
  }
 },
 "nbformat": 4,
 "nbformat_minor": 2
}
