{
 "cells": [
  {
   "cell_type": "markdown",
   "metadata": {},
   "source": [
    "## IAT: detecting micro-clusters on suspicious behavors\n",
    "\n",
    "A group of fraudsters always behave synchronously in a regular (fixed) pattern, which probably shows\n",
    "suspiciousness comparing to the normally behaving people.\n",
    "Therefore, we study the overall time intervals of users, and detect the suspicious micro-clusters that stands out of the majority distributions.\n",
    "It can be used with vision-guided detection algorithm, EagleMine.\n"
   ]
  },
  {
   "cell_type": "code",
   "execution_count": 1,
   "metadata": {},
   "outputs": [
    {
     "name": "stdout",
     "output_type": "stream",
     "text": [
      "Using backend cpu\n"
     ]
    }
   ],
   "source": [
    "import spartan as st"
   ]
  },
  {
   "cell_type": "markdown",
   "metadata": {},
   "source": [
    "Load data by function ```loadTensor```.<br/>"
   ]
  },
  {
   "cell_type": "code",
   "execution_count": 2,
   "metadata": {
    "scrolled": true
   },
   "outputs": [
    {
     "name": "stdout",
     "output_type": "stream",
     "text": [
      "                        0     1                 2    3         4\n",
      "0     2020-01-11 16:58:12     0  4459592174140754    0     79984\n",
      "1     2020-01-11 16:58:12     1  4459592174142932    1   6836725\n",
      "2     2020-01-11 16:58:13     2  4459592177709460    1   6836725\n",
      "3     2020-01-11 16:58:13     3  4459592177714275    2    104668\n",
      "4     2020-01-11 16:58:13     4  4459592177715067    2    104668\n",
      "...                   ...   ...               ...  ...       ...\n",
      "9995  2020-01-11 18:01:00  9527  4459607973534612  502   9451393\n",
      "9996  2020-01-11 18:00:59  9528  4459607973768695  509      6537\n",
      "9997  2020-01-11 18:01:00  9529  4459607977732182    0     79984\n",
      "9998  2020-01-11 18:01:01  9530  4459607981947099  380     79984\n",
      "9999  2020-01-11 18:01:01  9531  4459607981954389  492  12837383\n",
      "\n",
      "[10000 rows x 5 columns]\n"
     ]
    }
   ],
   "source": [
    "tensor_data = st.loadTensor(path = \"./inputData/test.reid.gz\", header=None, sep='\\x01')\n",
    "print(tensor_data.data)"
   ]
  },
  {
   "cell_type": "markdown",
   "metadata": {},
   "source": [
    "Use ```log_to_aggts``` function to extract time stamps in log files or edgelist tensor"
   ]
  },
  {
   "cell_type": "code",
   "execution_count": 3,
   "metadata": {},
   "outputs": [],
   "source": [
    "aggts = tensor_data.log_to_aggts(time_col=0, group_col=[1], timeformat='%Y-%m-%d %H:%M:%S')"
   ]
  },
  {
   "cell_type": "markdown",
   "metadata": {},
   "source": [
    "## IAT class\n",
    "\n",
    "calaggiat function：calculate iat dict **aggiat** (key:user, value: iat list)\n",
    "\n",
    "caliatcount function：calculate iat count dict **iatcount** (key:iat, value: frequency)\n",
    "\n",
    "caliatpaircount function：calculate iat dict **iatpaircount** (key:(iat1, iat2), value: frequency)\n",
    "\n",
    "get_user_iatpair_dict function：calculate iat dict **user_iatpair** (key:user, value: (iat1, iat2) list)\n",
    "\n",
    "get_iatpair_user_dict function：calculate iat dict **iatpair_user** (key:(iat1, iat2), value: user list)\n",
    "\n",
    "find_iatpair_user function: find users who have input iat pairs"
   ]
  },
  {
   "cell_type": "code",
   "execution_count": 4,
   "metadata": {},
   "outputs": [],
   "source": [
    "instance = st.IAT()"
   ]
  },
  {
   "cell_type": "code",
   "execution_count": 5,
   "metadata": {},
   "outputs": [],
   "source": [
    "# calculate aggiat dict\n",
    "instance.calaggiat(aggts)"
   ]
  },
  {
   "cell_type": "code",
   "execution_count": 6,
   "metadata": {},
   "outputs": [
    {
     "data": {
      "text/plain": [
       "{37.0: array([696., 863.]),\n",
       " 105.0: array([   4.,  423.,    5., 1155.,  899.,  257.]),\n",
       " 178.0: array([970.]),\n",
       " 184.0: array([169., 140.]),\n",
       " 201.0: array([380., 138., 292.,  61.,  98.]),\n",
       " 207.0: array([17.]),\n",
       " 220.0: array([5., 8.]),\n",
       " 232.0: array([1779.]),\n",
       " 243.0: array([448.]),\n",
       " 248.0: array([  24., 2350.]),\n",
       " 299.0: array([47.]),\n",
       " 304.0: array([1316.]),\n",
       " 305.0: array([34.]),\n",
       " 332.0: array([335.]),\n",
       " 336.0: array([10.]),\n",
       " 337.0: array([6.]),\n",
       " 364.0: array([3548.]),\n",
       " 390.0: array([372.]),\n",
       " 398.0: array([2667.]),\n",
       " 399.0: array([113.]),\n",
       " 407.0: array([1532.]),\n",
       " 419.0: array([13.,  4.]),\n",
       " 424.0: array([  9.,  10.,  80., 735.]),\n",
       " 449.0: array([2158.]),\n",
       " 462.0: array([1255.]),\n",
       " 467.0: array([403.]),\n",
       " 469.0: array([1476.]),\n",
       " 501.0: array([13.]),\n",
       " 519.0: array([1123.,  628.]),\n",
       " 524.0: array([23.]),\n",
       " 530.0: array([  29., 1471.,   76.]),\n",
       " 582.0: array([19.]),\n",
       " 601.0: array([27., 28.]),\n",
       " 619.0: array([  12., 2138.]),\n",
       " 658.0: array([ 66.,  19.,  29., 129., 113.,  32., 182., 255., 549.,  20.,  65.,\n",
       "          6.,  59., 354.]),\n",
       " 680.0: array([458.]),\n",
       " 683.0: array([2158.]),\n",
       " 699.0: array([1086.,  922.,  542.]),\n",
       " 750.0: array([  30., 1522.]),\n",
       " 765.0: array([64.,  7.]),\n",
       " 780.0: array([22.]),\n",
       " 802.0: array([1023.]),\n",
       " 804.0: array([34.]),\n",
       " 805.0: array([19.,  7., 16.]),\n",
       " 812.0: array([2949.]),\n",
       " 823.0: array([15.]),\n",
       " 831.0: array([2884.]),\n",
       " 836.0: array([14., 26.]),\n",
       " 854.0: array([1849., 1227.]),\n",
       " 866.0: array([3., 3.]),\n",
       " 868.0: array([51.]),\n",
       " 873.0: array([2867.]),\n",
       " 886.0: array([ 37., 347.,   9.,  34.,  19.]),\n",
       " 917.0: array([765., 828.]),\n",
       " 934.0: array([  31., 2466.]),\n",
       " 958.0: array([ 96.,  22.,  78., 122.]),\n",
       " 991.0: array([  22., 1814.]),\n",
       " 992.0: array([3212.]),\n",
       " 1003.0: array([1734.,   25.,  126.]),\n",
       " 1019.0: array([39.]),\n",
       " 1043.0: array([1058.,  731.]),\n",
       " 1054.0: array([57., 12.]),\n",
       " 1078.0: array([367.]),\n",
       " 1096.0: array([   3., 1814.,   33.]),\n",
       " 1100.0: array([6.]),\n",
       " 1107.0: array([2876.]),\n",
       " 1108.0: array([ 288.,  304.,  414.,  444.,  217.,  189.,   36., 1085.]),\n",
       " 1118.0: array([2626.]),\n",
       " 1121.0: array([30.,  4.]),\n",
       " 1153.0: array([14.]),\n",
       " 1184.0: array([52.]),\n",
       " 1194.0: array([702.,   9.,  61.,  93.]),\n",
       " 1199.0: array([  14., 2725.]),\n",
       " 1205.0: array([986.]),\n",
       " 1211.0: array([16.]),\n",
       " 1221.0: array([449.,  27.,  31.]),\n",
       " 1224.0: array([1267.,    5.,  947.]),\n",
       " 1231.0: array([80.]),\n",
       " 1238.0: array([ 176.,  154.,  166.,  144.,   37.,   15.,   16., 1453.]),\n",
       " 1241.0: array([404.]),\n",
       " 1270.0: array([6.]),\n",
       " 1272.0: array([9.]),\n",
       " 1278.0: array([53.]),\n",
       " 1280.0: array([28.]),\n",
       " 1324.0: array([660.]),\n",
       " 1326.0: array([1961.]),\n",
       " 1338.0: array([2389.]),\n",
       " 1341.0: array([1634.]),\n",
       " 1345.0: array([2654.]),\n",
       " 1387.0: array([2647.]),\n",
       " 1389.0: array([31.]),\n",
       " 1394.0: array([  12.,   26., 1282.]),\n",
       " 1408.0: array([2959.,    6.]),\n",
       " 1424.0: array([30., 16.]),\n",
       " 1440.0: array([23.]),\n",
       " 1451.0: array([1866.]),\n",
       " 1470.0: array([2400.]),\n",
       " 1476.0: array([936.]),\n",
       " 1499.0: array([491.]),\n",
       " 1526.0: array([ 146.,    9.,  199., 1583.,   46.,  215.,   93.]),\n",
       " 1539.0: array([1442.]),\n",
       " 1553.0: array([ 292., 1865.,   62.]),\n",
       " 1568.0: array([2898.]),\n",
       " 1601.0: array([1893.,   21.]),\n",
       " 1613.0: array([35.]),\n",
       " 1617.0: array([18.]),\n",
       " 1736.0: array([18.]),\n",
       " 1766.0: array([48.]),\n",
       " 1803.0: array([573.,  32.]),\n",
       " 1811.0: array([359.]),\n",
       " 1824.0: array([24., 15.]),\n",
       " 1858.0: array([1379.,  343.,  666.]),\n",
       " 1866.0: array([32.]),\n",
       " 1893.0: array([92.]),\n",
       " 1896.0: array([603.]),\n",
       " 1918.0: array([489.]),\n",
       " 1953.0: array([225.]),\n",
       " 2017.0: array([264.]),\n",
       " 2070.0: array([558.]),\n",
       " 2081.0: array([45.]),\n",
       " 2116.0: array([16.]),\n",
       " 2119.0: array([1563.]),\n",
       " 2123.0: array([3.]),\n",
       " 2137.0: array([1985.]),\n",
       " 2151.0: array([940.]),\n",
       " 2163.0: array([27.]),\n",
       " 2227.0: array([1740.]),\n",
       " 2238.0: array([63.]),\n",
       " 2251.0: array([2031.]),\n",
       " 2256.0: array([615.]),\n",
       " 2288.0: array([2426.]),\n",
       " 2339.0: array([2203.]),\n",
       " 2377.0: array([6.]),\n",
       " 2399.0: array([1061.,   20.,   52.]),\n",
       " 2441.0: array([ 36.,  35., 129.,  39.]),\n",
       " 2467.0: array([51.]),\n",
       " 2483.0: array([1253.]),\n",
       " 2507.0: array([1619.,   28.]),\n",
       " 2557.0: array([878.]),\n",
       " 2562.0: array([2066.]),\n",
       " 2564.0: array([ 63., 525.]),\n",
       " 2586.0: array([2470.]),\n",
       " 2613.0: array([1188.]),\n",
       " 2632.0: array([25.]),\n",
       " 2654.0: array([1532.]),\n",
       " 2655.0: array([39.]),\n",
       " 2661.0: array([233.]),\n",
       " 2673.0: array([58., 30.]),\n",
       " 2697.0: array([2275.]),\n",
       " 2718.0: array([6.]),\n",
       " 2748.0: array([87.]),\n",
       " 2789.0: array([9.]),\n",
       " 2792.0: array([  31., 1052.]),\n",
       " 2872.0: array([1504.]),\n",
       " 2889.0: array([2308.]),\n",
       " 2910.0: array([1650.]),\n",
       " 2926.0: array([1103.]),\n",
       " 2958.0: array([1557.]),\n",
       " 2992.0: array([1658.]),\n",
       " 3013.0: array([561., 178.]),\n",
       " 3025.0: array([1573.]),\n",
       " 3031.0: array([43., 44.]),\n",
       " 3041.0: array([40.]),\n",
       " 3080.0: array([95.]),\n",
       " 3092.0: array([41.]),\n",
       " 3118.0: array([3.]),\n",
       " 3194.0: array([233.,  17., 216.]),\n",
       " 3394.0: array([639.]),\n",
       " 3400.0: array([2.]),\n",
       " 3424.0: array([11.]),\n",
       " 3447.0: array([275.]),\n",
       " 3470.0: array([168.]),\n",
       " 3483.0: array([1465.]),\n",
       " 3514.0: array([927.]),\n",
       " 3645.0: array([33.]),\n",
       " 3655.0: array([1180.]),\n",
       " 3693.0: array([8.]),\n",
       " 3786.0: array([47.]),\n",
       " 3814.0: array([ 259., 1459.]),\n",
       " 3836.0: array([13.]),\n",
       " 3864.0: array([64., 73.]),\n",
       " 3866.0: array([16.]),\n",
       " 3907.0: array([1277.]),\n",
       " 3949.0: array([593.,  41.]),\n",
       " 3952.0: array([479.]),\n",
       " 3969.0: array([39.]),\n",
       " 3985.0: array([  33., 1084.,   84.]),\n",
       " 4016.0: array([126.]),\n",
       " 4028.0: array([15.]),\n",
       " 4032.0: array([83.]),\n",
       " 4071.0: array([202.,  71., 305.]),\n",
       " 4129.0: array([101.]),\n",
       " 4139.0: array([6.]),\n",
       " 4202.0: array([790., 128.]),\n",
       " 4287.0: array([493.,  16.]),\n",
       " 4327.0: array([885.]),\n",
       " 4328.0: array([118.]),\n",
       " 4561.0: array([163.]),\n",
       " 4608.0: array([1236.]),\n",
       " 4749.0: array([ 31., 246.,   3.]),\n",
       " 4864.0: array([588.]),\n",
       " 4896.0: array([460.]),\n",
       " 4906.0: array([163.]),\n",
       " 4947.0: array([272., 384.,   3.]),\n",
       " 4977.0: array([66., 19., 23.]),\n",
       " 5056.0: array([9., 3., 3., 2.]),\n",
       " 5057.0: array([ 14., 160.]),\n",
       " 5111.0: array([ 61., 103.,  21.,  73.]),\n",
       " 5124.0: array([ 46., 181.,   4.,  45.]),\n",
       " 5127.0: array([ 5., 29.]),\n",
       " 5186.0: array([81.]),\n",
       " 5212.0: array([  11., 1318.,   10.]),\n",
       " 5234.0: array([101.]),\n",
       " 5241.0: array([576.,  33.]),\n",
       " 5265.0: array([20.]),\n",
       " 5280.0: array([1253.]),\n",
       " 5311.0: array([1047.,  196.]),\n",
       " 5318.0: array([75., 76.]),\n",
       " 5337.0: array([ 82., 272.]),\n",
       " 5375.0: array([136.,  49.,  49.]),\n",
       " 5378.0: array([42.]),\n",
       " 5398.0: array([50.]),\n",
       " 5436.0: array([1238.]),\n",
       " 5528.0: array([110.]),\n",
       " 5574.0: array([239.]),\n",
       " 5583.0: array([51.]),\n",
       " 5589.0: array([15.]),\n",
       " 5605.0: array([296.]),\n",
       " 5633.0: array([53.]),\n",
       " 5647.0: array([14.]),\n",
       " 5650.0: array([914.]),\n",
       " 5653.0: array([922.]),\n",
       " 5659.0: array([77., 16.]),\n",
       " 5684.0: array([31., 11.]),\n",
       " 5697.0: array([16.]),\n",
       " 5727.0: array([1048.]),\n",
       " 5745.0: array([666.]),\n",
       " 5762.0: array([12.]),\n",
       " 5766.0: array([78., 18., 22.]),\n",
       " 5813.0: array([509.]),\n",
       " 5832.0: array([16.]),\n",
       " 5890.0: array([3.]),\n",
       " 5919.0: array([24.]),\n",
       " 6022.0: array([911.]),\n",
       " 6037.0: array([28.]),\n",
       " 6041.0: array([15.]),\n",
       " 6187.0: array([34.]),\n",
       " 6206.0: array([195.]),\n",
       " 6239.0: array([843.]),\n",
       " 6436.0: array([497., 232.]),\n",
       " 6514.0: array([809.]),\n",
       " 6518.0: array([843.]),\n",
       " 6530.0: array([75.]),\n",
       " 6541.0: array([583.]),\n",
       " 6626.0: array([7.]),\n",
       " 6640.0: array([87.]),\n",
       " 6668.0: array([293.,  27.]),\n",
       " 6719.0: array([684.,  48.]),\n",
       " 6803.0: array([132.]),\n",
       " 6844.0: array([14.]),\n",
       " 6873.0: array([62.]),\n",
       " 6933.0: array([4.]),\n",
       " 6998.0: array([ 29., 758.,  37.]),\n",
       " 7050.0: array([23.]),\n",
       " 7052.0: array([3.]),\n",
       " 7054.0: array([614.]),\n",
       " 7058.0: array([821.]),\n",
       " 7147.0: array([22.]),\n",
       " 7181.0: array([771.]),\n",
       " 7224.0: array([693.]),\n",
       " 7262.0: array([9.]),\n",
       " 7271.0: array([246.,   4.]),\n",
       " 7298.0: array([67.]),\n",
       " 7300.0: array([23.]),\n",
       " 7312.0: array([71.]),\n",
       " 7320.0: array([599.]),\n",
       " 7410.0: array([250.]),\n",
       " 7477.0: array([51.]),\n",
       " 7489.0: array([156.]),\n",
       " 7542.0: array([6.]),\n",
       " 7596.0: array([7.]),\n",
       " 7709.0: array([ 5., 34.]),\n",
       " 7718.0: array([20.]),\n",
       " 7759.0: array([14.]),\n",
       " 7845.0: array([117.]),\n",
       " 7867.0: array([177.]),\n",
       " 7926.0: array([5.]),\n",
       " 7950.0: array([42.]),\n",
       " 7978.0: array([449.]),\n",
       " 7983.0: array([47., 73.]),\n",
       " 7984.0: array([21.]),\n",
       " 7993.0: array([24.]),\n",
       " 8030.0: array([333.]),\n",
       " 8214.0: array([267.]),\n",
       " 8248.0: array([203.]),\n",
       " 8250.0: array([180.]),\n",
       " 8301.0: array([171.]),\n",
       " 8491.0: array([47.]),\n",
       " 8591.0: array([73.]),\n",
       " 8702.0: array([39.]),\n",
       " 8762.0: array([175.]),\n",
       " 8820.0: array([72., 43.]),\n",
       " 8943.0: array([126.]),\n",
       " 9029.0: array([26.]),\n",
       " 9055.0: array([102.]),\n",
       " 9223.0: array([3.]),\n",
       " 9311.0: array([32.]),\n",
       " 9325.0: array([11.])}"
      ]
     },
     "execution_count": 6,
     "metadata": {},
     "output_type": "execute_result"
    }
   ],
   "source": [
    "aggiat=instance.aggiat\n",
    "aggiat"
   ]
  },
  {
   "cell_type": "code",
   "execution_count": 7,
   "metadata": {},
   "outputs": [],
   "source": [
    "instance.save_aggiat('./output/aggiat.dictlist.gz')"
   ]
  },
  {
   "cell_type": "code",
   "execution_count": 8,
   "metadata": {},
   "outputs": [],
   "source": [
    "instance.load_aggiat('./output/aggiat.dictlist.gz')"
   ]
  },
  {
   "cell_type": "code",
   "execution_count": 9,
   "metadata": {},
   "outputs": [
    {
     "data": {
      "text/plain": [
       "(160, 160)"
      ]
     },
     "execution_count": 9,
     "metadata": {},
     "output_type": "execute_result"
    }
   ],
   "source": [
    "xs, ys = instance.getiatpairs()\n",
    "len(xs), len(ys)"
   ]
  },
  {
   "cell_type": "code",
   "execution_count": 10,
   "metadata": {},
   "outputs": [
    {
     "data": {
      "image/png": "[encoded data removed]",
      "text/plain": [
       "<Figure size 432x288 with 2 Axes>"
      ]
     },
     "metadata": {
      "needs_background": "light"
     },
     "output_type": "display_data"
    }
   ],
   "source": [
    "# invoke drawHexbin function\n",
    "hexfig = st.drawHexbin(xs, ys, gridsize=5, xlabel='IATn', ylabel='IATn+1')"
   ]
  },
  {
   "cell_type": "code",
   "execution_count": 11,
   "metadata": {
    "scrolled": true
   },
   "outputs": [
    {
     "data": {
      "image/png": "[encoded data removed]",
      "text/plain": [
       "<Figure size 432x288 with 2 Axes>"
      ]
     },
     "metadata": {
      "needs_background": "light"
     },
     "output_type": "display_data"
    }
   ],
   "source": [
    "# invoke drawRectbin function\n",
    "fig, hist = st.drawRectbin(xs, ys, gridsize=10, xlabel='IATn', ylabel='IATn+1')"
   ]
  },
  {
   "cell_type": "markdown",
   "metadata": {},
   "source": [
    "## class RectHistogram\n",
    "draw function: draw 2D histogram with rectangular bin\n",
    "\n",
    "find_peak_rects function: find the bin with the largest number of samples in the range of\n",
    "horizontal axis: [x-radius, x+radius]\n",
    "vertical axis: [y-radius, y+radius]\n",
    "    \n",
    "return: (x,y) pairs in the bin that has the largest number of samples "
   ]
  },
  {
   "cell_type": "code",
   "execution_count": 12,
   "metadata": {},
   "outputs": [],
   "source": [
    "recthistogram = st.RectHistogram(xscale='log', yscale='log', gridsize=10)"
   ]
  },
  {
   "cell_type": "code",
   "execution_count": 13,
   "metadata": {},
   "outputs": [
    {
     "data": {
      "image/png": "[encoded data removed]",
      "text/plain": [
       "<Figure size 432x288 with 2 Axes>"
      ]
     },
     "metadata": {
      "needs_background": "light"
     },
     "output_type": "display_data"
    }
   ],
   "source": [
    "fig, H, xedges, yedges = recthistogram.draw(xs, ys, xlabel='IATn', ylabel='IATn+1')"
   ]
  },
  {
   "cell_type": "code",
   "execution_count": 14,
   "metadata": {},
   "outputs": [
    {
     "data": {
      "text/plain": [
       "[(61, 103),\n",
       " (61, 93),\n",
       " (61, 98),\n",
       " (154, 166),\n",
       " (166, 144),\n",
       " (75, 76),\n",
       " (64, 73),\n",
       " (78, 122),\n",
       " (129, 113)]"
      ]
     },
     "execution_count": 14,
     "metadata": {},
     "output_type": "execute_result"
    }
   ],
   "source": [
    "recthistogram.find_peak_rect(xs, ys, H, xedges, yedges, x=100, y=100, radius=100)"
   ]
  }
 ],
 "metadata": {
  "kernelspec": {
   "display_name": "spartan",
   "language": "python",
   "name": "spartan"
  },
  "language_info": {
   "codemirror_mode": {
    "name": "ipython",
    "version": 3
   },
   "file_extension": ".py",
   "mimetype": "text/x-python",
   "name": "python",
   "nbconvert_exporter": "python",
   "pygments_lexer": "ipython3",
   "version": "3.7.7"
  }
 },
 "nbformat": 4,
 "nbformat_minor": 4
}
