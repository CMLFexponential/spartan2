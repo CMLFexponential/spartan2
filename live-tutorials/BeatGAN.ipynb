{
 "cells": [
  {
   "cell_type": "markdown",
   "metadata": {},
   "source": [
    "## BeatGAN: Anomalous Rhythm Detection using Adversarially Generated Time\n",
    "\n",
    "### Abstract\n",
    "Given a large-scale rhythmic time series containing mostly normal data segments (or ‘beats’), can we learn how to detect anomalous beats in an effective yet efficient way? For example, how can we detect anomalous beats from electrocardiogram (ECG) readings? Existing approaches either require excessively high amounts of labeled and balanced data for classification, or rely on less regularized reconstructions, resulting in lower accuracy in anomaly detection. Therefore, we propose BeatGAN, an unsupervised anomaly detection algorithm for time series data. BeatGAN outputs explainable results to pinpoint the anomalous time ticks of an input beat, by comparing them to adversarially generated beats. Its robustness is guaranteed by its regularization of reconstruction error using an adversarial generation approach, as well as data augmentation using time series warping. Experiments show that BeatGAN accurately and efficiently detects anomalous beats in ECG time series, and routes doctors’ attention to anomalous time ticks, achieving accuracy of nearly 0.95 AUC, \n",
    "and very fast inference (2.6 ms per beat). In addition, we show that BeatGAN accurately detects unusual motions from multivariate motion-capture time series data, illustrating its generality."
   ]
  },
  {
   "cell_type": "markdown",
   "metadata": {},
   "source": [
    "You can configure the backend to use GPU or CPU only. \\\n",
    "Default is using backend cpu. "
   ]
  },
  {
   "cell_type": "code",
   "execution_count": null,
   "metadata": {},
   "outputs": [],
   "source": [
    "import sys\n",
    "sys.path.append('..')\n",
    "import spartan as st"
   ]
  },
  {
   "cell_type": "markdown",
   "metadata": {},
   "source": [
    "```loadTensor``` function automatically read data from file and to DTensor function extract time and value separately from the tensor. ```Timeseries``` class is responsed to construct time tensor."
   ]
  },
  {
   "cell_type": "code",
   "execution_count": null,
   "metadata": {},
   "outputs": [],
   "source": [
    "time, value = st.loadTensor(path = \"inputData/example_time.tensor\", col_types = [float, float, float]).toDTensor(hastticks=True)\n",
    "time_series = st.Timeseries(value, time)"
   ]
  },
  {
   "cell_type": "markdown",
   "metadata": {},
   "source": [
    "### Run BeatGAN as a single model"
   ]
  },
  {
   "cell_type": "markdown",
   "metadata": {},
   "source": [
    "BeatGAN has two kinds of structure, CNN and RNN which is controled by parameter ```network```.\n",
    "\n",
    "Default parameters are: <br/>\n",
    "{'seq_len': 64, 'stride': 32, 'input_size': 2, 'rep_size': 20, 'batch_size': 64, 'max_epoch':5, 'lr': 0.01, 'lambda': 1\n",
    "'net_type':'gru', 'layers':1, 'hidden_size':100} <br/>\n",
    "You can change them be passing <key>=<value> as the doc shows."
   ]
  },
  {
   "cell_type": "code",
   "execution_count": null,
   "metadata": {},
   "outputs": [],
   "source": [
    "beatgan_CNN = st.BeatGAN(time_series, \"my_beatgan_model\", network=\"CNN\")"
   ]
  },
  {
   "cell_type": "code",
   "execution_count": null,
   "metadata": {},
   "outputs": [],
   "source": [
    "beatgan_CNN.fit()"
   ]
  },
  {
   "cell_type": "markdown",
   "metadata": {},
   "source": [
    "The result is reconstruction of input time series."
   ]
  },
  {
   "cell_type": "code",
   "execution_count": null,
   "metadata": {},
   "outputs": [],
   "source": [
    "beatgan_CNN.predict()"
   ]
  },
  {
   "cell_type": "markdown",
   "metadata": {},
   "source": [
    "### Run BeatGAN from train task to get a trained model"
   ]
  },
  {
   "cell_type": "code",
   "execution_count": null,
   "metadata": {},
   "outputs": [],
   "source": [
    "train_task = st.Train.create(time_series, st.TrainPolicy.BeatGAN, 'my_beatgan_model', network='RNN')"
   ]
  },
  {
   "cell_type": "code",
   "execution_count": null,
   "metadata": {},
   "outputs": [],
   "source": [
    "train_task.run()"
   ]
  },
  {
   "cell_type": "markdown",
   "metadata": {},
   "source": [
    "### Experiment Results\n",
    "------\n",
    "BeatGAN Structure      |  BeatGAN on Motion Datasets\n",
    ":-------------------------:|:-------------------------:\n",
    "<img src=\"images/beatganExp1.png\" width=\"300\"/>  |   <img src=\"images/beatganExp2.png\" width=\"300\"/>\n",
    "<b>Structure of BeatGAN. |  <b>Beatlex reconstructs motion data.\n",
    "\n",
    "|BeatGAN's fast inference|\n",
    "|:-------------------------:|\n",
    "|<img src=\"images/beatganExp3.png\" width=\"300\"/>|\n",
    "|<b>BeatGAN has fast inference.|"
   ]
  },
  {
   "cell_type": "markdown",
   "metadata": {},
   "source": [
    "### Cite:\n",
    "------\n",
    "1. Zhou, B., Liu, S., Hooi, B., Cheng, X., & Ye, J. (2019, August). BeatGAN: Anomalous Rhythm Detection using Adversarially Generated Time Series. In IJCAI (pp. 4433-4439).\n",
    "\n",
    "    <details>\n",
    "    <summary><span style=\"color:blue\">click for BibTex...</span></summary>\n",
    "\n",
    "    ```bibtex\n",
    "    @inproceedings{zhou2019beatgan,\n",
    "      title={BeatGAN: Anomalous Rhythm Detection using Adversarially Generated Time Series.},\n",
    "      author={Zhou, Bin and Liu, Shenghua and Hooi, Bryan and Cheng, Xueqi and Ye, Jing},\n",
    "      booktitle={IJCAI},\n",
    "      pages={4433--4439},\n",
    "      year={2019}\n",
    "    }\n",
    "    ```\n",
    "    </details>"
   ]
  }
 ],
 "metadata": {
  "kernelspec": {
   "display_name": "Python 3",
   "language": "python",
   "name": "python3"
  },
  "language_info": {
   "codemirror_mode": {
    "name": "ipython",
    "version": 3
   },
   "file_extension": ".py",
   "mimetype": "text/x-python",
   "name": "python",
   "nbconvert_exporter": "python",
   "pygments_lexer": "ipython3",
   "version": "3.7.6"
  }
 },
 "nbformat": 4,
 "nbformat_minor": 4
}
