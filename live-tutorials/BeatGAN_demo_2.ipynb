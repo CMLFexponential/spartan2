{
 "cells": [
  {
   "cell_type": "code",
   "execution_count": null,
   "metadata": {},
   "outputs": [],
   "source": [
    "import sys\n",
    "sys.path.append('..')\n",
    "import spartan as st"
   ]
  },
  {
   "cell_type": "code",
   "execution_count": null,
   "metadata": {},
   "outputs": [],
   "source": [
    "time, value = st.loadTensor(path = \"inputData/example_time.tensor\", col_types = [float, float, float]).toDTensor(hastticks=True)\n",
    "time_series = st.Timeseries(time, value)"
   ]
  },
  {
   "cell_type": "code",
   "execution_count": null,
   "metadata": {},
   "outputs": [],
   "source": [
    "param_run = {\n",
    "    'model_path':\"/Users/zhoubin/test/my_beatgan.pth\",\n",
    "    'network':'CNN',\n",
    "    'net_type':'gru',\n",
    "    'layers':1,\n",
    "    'seq_len': 64,\n",
    "    'stride': 32 ,\n",
    "    'input_size':2,\n",
    "    'hidden_size':100,\n",
    "    'rep_size':20,\n",
    "    'batch_size':64,\n",
    "    'max_epoch':5,\n",
    "    'lr': 0.01,\n",
    "    'lambda':1\n",
    "}"
   ]
  },
  {
   "cell_type": "code",
   "execution_count": null,
   "metadata": {},
   "outputs": [],
   "source": [
    "beatgan = st.BeatGAN(time_series, **param_run)"
   ]
  },
  {
   "cell_type": "code",
   "execution_count": null,
   "metadata": {},
   "outputs": [],
   "source": [
    "beatgan.fit()"
   ]
  },
  {
   "cell_type": "code",
   "execution_count": null,
   "metadata": {},
   "outputs": [],
   "source": [
    "beatgan.predict()"
   ]
  }
 ],
 "metadata": {
  "kernelspec": {
   "display_name": "Python 3",
   "language": "python",
   "name": "python3"
  },
  "language_info": {
   "codemirror_mode": {
    "name": "ipython",
    "version": 3
   },
   "file_extension": ".py",
   "mimetype": "text/x-python",
   "name": "python",
   "nbconvert_exporter": "python",
   "pygments_lexer": "ipython3",
   "version": "3.7.6"
  }
 },
 "nbformat": 4,
 "nbformat_minor": 4
}
