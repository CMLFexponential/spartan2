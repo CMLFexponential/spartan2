{
 "cells": [
  {
   "cell_type": "code",
   "execution_count": 2,
   "metadata": {},
   "outputs": [],
   "source": [
    "import spartan2.ioutil as ioutil\n",
    "import spartan2.basicutil as iatutil\n",
    "import spartan2.drawutil as drawutil"
   ]
  },
  {
   "cell_type": "markdown",
   "metadata": {},
   "source": [
    "## extracttimes function\n",
    "extract time stamps in log files or edgelist tensor\n",
    "\n",
    "groupids: the group col idx used for aggregating timestamps\n",
    "aggts: dict whose key is an integer(user id) and value is a list of integers(timestamp list)"
   ]
  },
  {
   "cell_type": "code",
   "execution_count": 3,
   "metadata": {},
   "outputs": [
    {
     "name": "stdout",
     "output_type": "stream",
     "text": [
      "\tprocessing file test.reid.gz\n"
     ]
    }
   ],
   "source": [
    "infile = './inputData/test.reid.gz'\n",
    "aggts = ioutil.extracttimes(infile, outfile=None, timeidx=0, timeformat='%Y-%m-%d %H:%M:%S', delimeter='\\x01',\n",
    "                        isbyte=True, comments='#', nodetype=str, groupids=[1])"
   ]
  },
  {
   "cell_type": "markdown",
   "metadata": {},
   "source": [
    "## IAT class\n",
    "\n",
    "calaggiat function：calculate iat dict **aggiat** (key:user, value: iat list)\n",
    "\n",
    "caliatcount function：calculate iat count dict **iatcount** (key:iat, value: frequency)\n",
    "\n",
    "caliatpaircount function：calculate iat dict **iatpaircount** (key:(iat1, iat2), value: frequency)\n",
    "\n",
    "get_user_iatpair_dict function：calculate iat dict **user_iatpair** (key:user, value: (iat1, iat2) list)\n",
    "\n",
    "get_iatpair_user_dict function：calculate iat dict **iatpair_user** (key:(iat1, iat2), value: user list)\n",
    "\n",
    "find_iatpair_user function: find users who have input iat pairs"
   ]
  },
  {
   "cell_type": "code",
   "execution_count": 4,
   "metadata": {},
   "outputs": [],
   "source": [
    "instance = iatutil.IAT()"
   ]
  },
  {
   "cell_type": "code",
   "execution_count": 5,
   "metadata": {},
   "outputs": [],
   "source": [
    "# calculate aggiat dict\n",
    "instance.calaggiat(aggts)"
   ]
  },
  {
   "cell_type": "code",
   "execution_count": 6,
   "metadata": {},
   "outputs": [],
   "source": [
    "xs, ys = instance.getiatpairs()"
   ]
  },
  {
   "cell_type": "code",
   "execution_count": 7,
   "metadata": {},
   "outputs": [
    {
     "data": {
      "text/plain": [
       "(160, 160)"
      ]
     },
     "execution_count": 7,
     "metadata": {},
     "output_type": "execute_result"
    }
   ],
   "source": [
    "len(xs), len(ys)"
   ]
  },
  {
   "cell_type": "code",
   "execution_count": 8,
   "metadata": {},
   "outputs": [
    {
     "data": {
      "text/plain": [
       "''"
      ]
     },
     "execution_count": 8,
     "metadata": {},
     "output_type": "execute_result"
    },
    {
     "data": {
      "image/png": "[encoded data removed]",
      "text/plain": [
       "<Figure size 432x288 with 2 Axes>"
      ]
     },
     "metadata": {},
     "output_type": "display_data"
    }
   ],
   "source": [
    "## invoke drawRectbin function\n",
    "drawutil.drawRectbin(xs, ys, gridsize=5, xlabel='IATn', ylabel='IATn+1')"
   ]
  },
  {
   "cell_type": "markdown",
   "metadata": {},
   "source": [
    "## class RectHistogram\n",
    "draw function: draw 2D histogram with rectangular bin\n",
    "\n",
    "find_peak_rects function: find the bin with the largest number of samples in the range of\n",
    "horizontal axis: [x-radius, x+radius]\n",
    "vertical axis: [y-radius, y+radius]\n",
    "    \n",
    "xbinidx, ybinidx: the bin index of bins in horizontal axis and vertical axis"
   ]
  },
  {
   "cell_type": "code",
   "execution_count": 9,
   "metadata": {},
   "outputs": [
    {
     "data": {
      "text/plain": [
       "''"
      ]
     },
     "execution_count": 9,
     "metadata": {},
     "output_type": "execute_result"
    },
    {
     "data": {
      "image/png": "[encoded data removed]",
      "text/plain": [
       "<Figure size 432x288 with 2 Axes>"
      ]
     },
     "metadata": {},
     "output_type": "display_data"
    }
   ],
   "source": [
    "rect = drawutil.RectHistogram(gridsize=5)\n",
    "rect.draw(xs, ys, xlabel='IATn', ylabel='IATn+1')"
   ]
  },
  {
   "cell_type": "code",
   "execution_count": 10,
   "metadata": {},
   "outputs": [],
   "source": [
    "#  find the iat pairs in the bin that has the largest number of samples \n",
    "iatpairs = rect.find_peak_rect(xs, ys, x=100,y=100, radius=1000)"
   ]
  },
  {
   "cell_type": "code",
   "execution_count": 11,
   "metadata": {},
   "outputs": [
    {
     "name": "stdout",
     "output_type": "stream",
     "text": [
      "34\n"
     ]
    }
   ],
   "source": [
    "print(len(iatpairs))"
   ]
  },
  {
   "cell_type": "code",
   "execution_count": 12,
   "metadata": {},
   "outputs": [],
   "source": [
    "# calulate user_iatpair dict (key: user list; value: iat pair)\n",
    "instance.get_user_iatpair_dict()"
   ]
  },
  {
   "cell_type": "code",
   "execution_count": 13,
   "metadata": {},
   "outputs": [
    {
     "name": "stdout",
     "output_type": "stream",
     "text": [
      "308\n"
     ]
    }
   ],
   "source": [
    "user_iatpair = instance.user_iatpair\n",
    "print(len(user_iatpair))"
   ]
  },
  {
   "cell_type": "code",
   "execution_count": 14,
   "metadata": {},
   "outputs": [],
   "source": [
    "# calulate iatpair_user dict (key: iat pair; value: user list)\n",
    "instance.get_iatpair_user_dict()"
   ]
  },
  {
   "cell_type": "code",
   "execution_count": 15,
   "metadata": {},
   "outputs": [
    {
     "name": "stdout",
     "output_type": "stream",
     "text": [
      "308\n"
     ]
    }
   ],
   "source": [
    "iatpair_user = instance.user_iatpair\n",
    "print(len(iatpair_user))"
   ]
  },
  {
   "cell_type": "code",
   "execution_count": 16,
   "metadata": {},
   "outputs": [],
   "source": [
    "# find users who have the iat pairs\n",
    "usrlist = instance.find_iatpair_user(iatpairs)"
   ]
  },
  {
   "cell_type": "code",
   "execution_count": 17,
   "metadata": {},
   "outputs": [
    {
     "name": "stdout",
     "output_type": "stream",
     "text": [
      "28\n",
      "['1824', '3031', '601', '658', '424']\n"
     ]
    }
   ],
   "source": [
    "print(len(usrlist))\n",
    "print(usrlist[:5])"
   ]
  }
 ],
 "metadata": {
  "kernelspec": {
   "display_name": "Python 3",
   "language": "python",
   "name": "python3"
  },
  "language_info": {
   "codemirror_mode": {
    "name": "ipython",
    "version": 3
   },
   "file_extension": ".py",
   "mimetype": "text/x-python",
   "name": "python",
   "nbconvert_exporter": "python",
   "pygments_lexer": "ipython3",
   "version": "3.6.5"
  }
 },
 "nbformat": 4,
 "nbformat_minor": 2
}
