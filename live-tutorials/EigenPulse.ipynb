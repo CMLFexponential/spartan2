{
 "cells": [
  {
   "cell_type": "markdown",
   "metadata": {},
   "source": [
    "## EigenPulse Detecting Surges in Large Streaming Graphs with Row Augmentation\n",
    "EigenPulse is a streaming algorithm to detect surges of sliding windows in real time.\n",
    "### Abstract\n",
    "How can we spot dense blocks in a large streaming graph efficiently? Anomalies such as fraudulent attacks, spamming, and DDoS attacks, can create dense blocks in a short time window, emerging a surge of density in a streaming graph. However, most existing methods detect dense blocks in a static graph or a snapshot of dynamic graphs, which need to inefficiently rerun the algorithms for a streaming graph. Moreover, some works on streaming graphs are either consuming much time on updating algorithm for every incoming edge, or spotting the whole snapshot of a graph instead of the attacking sub-block. Therefore, we propose a row-augmented matrix with sliding window to model a streaming graph, and design the AugSVD algorithm for computation- and memory-efficient singular decomposition. EigenP ulse is then proposed to spot the density surges in streaming graphs based on the singular spectrum. We theoretically analyze the robustness of our method. Experiments on real datasets with injections show our perfor- mance and efficiency compared with the state-of-the-art baseline."
   ]
  },
  {
   "cell_type": "code",
   "execution_count": null,
   "metadata": {},
   "outputs": [],
   "source": [
    "import spartan as st"
   ]
  },
  {
   "cell_type": "code",
   "execution_count": null,
   "metadata": {},
   "outputs": [],
   "source": [
    "f = open(\"./inputData/beer.tensor\")"
   ]
  },
  {
   "cell_type": "markdown",
   "metadata": {},
   "source": [
    "### Function loadTensorStream():\n",
    "tensor_data.data has multiple-colum attributes, and a single-colum values (optional). The following table shows an example of 10000 three-tuple (user, object, time) and the 4th-colum is the frequency. \n",
    "\n",
    "**f:**: file iterator of input file"
   ]
  },
  {
   "cell_type": "code",
   "execution_count": null,
   "metadata": {},
   "outputs": [],
   "source": [
    "tensor_stream = st.TensorStream(f, col_idx = [0,1,2,3], col_types=[int,int,int,int], sep=',', mappers={},hasvalue=True)"
   ]
  },
  {
   "cell_type": "markdown",
   "metadata": {},
   "source": [
    "### Class TensorStream\n",
    "**Input**\n",
    "\n",
    "**f**: file iterator of input file\n",
    "\n",
    "**col_idx**: list of the columns to process\n",
    "\n",
    "**col_types**: list of data types of the columns to process\n",
    "\n",
    "**sep**: the delimeter of input file\n",
    "\n",
    "**mappers**: dict of idx-mapper dict, we have defined various mappers. \n",
    "\n",
    "StringMapper: mapping the names or complex string ids of users and objects into indices. \n",
    "\n",
    "ScoreMapper: mapping score (int or float) into index (int).\n",
    "\n",
    "TimeMapper: mapping the time(string) with some formats into timestamps (int).\n",
    "\n",
    "**hasvalue**: Whether \"tensor_data.data\" contains a single-colum values (optional) or not.\n",
    "\n",
    "**Return**\n",
    "\n",
    "an instance of TensorStream class."
   ]
  },
  {
   "cell_type": "markdown",
   "metadata": {},
   "source": [
    "### Run EigenPulse as a single model"
   ]
  },
  {
   "cell_type": "code",
   "execution_count": null,
   "metadata": {},
   "outputs": [],
   "source": [
    "param_dict={'window':100, 'stride':50, 'l':20, 'b':10,'item_idx':1,'ts_idx':2}\n",
    "eigenpulse = st.EigenPulse(tensor_stream, **param_dict)"
   ]
  },
  {
   "cell_type": "markdown",
   "metadata": {},
   "source": [
    "### the parameters of EigenPulse model\n",
    "\n",
    "**window**: the window size of sliding window in a time unit\n",
    "\n",
    "**stride**: the stride size in a time unit.\n",
    "\n",
    "**l and b**: hyper-parameters of Algorithm 1.\n",
    "\n",
    "**item_idx**: the column index of item attribute. \n",
    "\n",
    "**ts_idx**: the column index of time attribute.\n",
    "\n",
    "EigenPulse first concentrates items by the time as row, user as column, and thus the row of modified tensor grows with the forward of time. We model the streaming tuples as row-augmented matrix in this way."
   ]
  },
  {
   "cell_type": "code",
   "execution_count": null,
   "metadata": {},
   "outputs": [],
   "source": [
    "res = eigenpulse.run(figpath=None)"
   ]
  },
  {
   "cell_type": "markdown",
   "metadata": {},
   "source": [
    "**figpath**: output path of the plot drawing the densities of all windows and the density threshold ($\\mu+3\\sigma$).\n",
    "\n",
    "The plot is like this:\n",
    "    <img src=\"images/eigenDensities.png\" width=\"500\"/> \n",
    "**res**: suspicious blocks whose densities are above the threshold. For each block, the results are the index of window, the lists of suspicious users, objects and times, and the density of block."
   ]
  },
  {
   "cell_type": "markdown",
   "metadata": {},
   "source": [
    "### Run EigenPulse from anomaly detection task"
   ]
  },
  {
   "cell_type": "code",
   "execution_count": null,
   "metadata": {},
   "outputs": [],
   "source": [
    "ad_model = st.AnomalyDetection.create(tensor_stream, st.ADPolicy.EigenPulse, 'eigenpulse',**param_dict)"
   ]
  },
  {
   "cell_type": "code",
   "execution_count": null,
   "metadata": {},
   "outputs": [],
   "source": [
    "res = ad_model.run(figpath=None)"
   ]
  },
  {
   "cell_type": "markdown",
   "metadata": {},
   "source": [
    "### Experimental results:\n",
    "-----\n",
    "EigenPulse (performance)       |  EigenPulse (inject attacks)\n",
    ":-------------------------:|:-------------------------:\n",
    "<img src=\"images/eigen_performance.png\" width=\"300\"/>  |   <img src=\"images/eigeninject.png\" width=\"300\"/>\n",
    "<b>EigenPulse detection on real Sina Weibo data |  <b>EigenPulse is near linear\n",
    "<img src=\"images/eigenweibo.png\" width=\"300\"/> |   <img src=\"images/eigenlinear.png\" width=\"300\"/>\n"
   ]
  },
  {
   "cell_type": "markdown",
   "metadata": {},
   "source": [
    "### Cite:\n",
    "Zhang J, Liu S, Yu W, et al. Eigenpulse: Detecting surges in large streaming graphs with row augmentation[C]//Pacific-Asia Conference on Knowledge Discovery and Data Mining. Springer, Cham, 2019: 501-513.\n",
    "\n",
    "<details>\n",
    "    <summary><span style=\"color:blue\">click for BibTex...</span></summary>\n",
    "\n",
    "```bibtex\n",
    "@inproceedings{zhang2019eigenpulse,\n",
    "      title={Eigenpulse: Detecting surges in large streaming graphs with row augmentation},\n",
    "      author={Zhang, Jiabao and Liu, Shenghua and Yu, Wenjian and Feng, Wenjie and Cheng, Xueqi},\n",
    "      booktitle={Pacific-Asia Conference on Knowledge Discovery and Data Mining},\n",
    "      pages={501--513},\n",
    "      year={2019},\n",
    "      organization={Springer}\n",
    "    }\n",
    " ```\n",
    "</details>  "
   ]
  },
  {
   "cell_type": "code",
   "execution_count": null,
   "metadata": {},
   "outputs": [],
   "source": []
  }
 ],
 "metadata": {
  "kernelspec": {
   "display_name": "Python 3",
   "language": "python",
   "name": "python3"
  },
  "language_info": {
   "codemirror_mode": {
    "name": "ipython",
    "version": 3
   },
   "file_extension": ".py",
   "mimetype": "text/x-python",
   "name": "python",
   "nbconvert_exporter": "python",
   "pygments_lexer": "ipython3",
   "version": "3.6.8"
  }
 },
 "nbformat": 4,
 "nbformat_minor": 2
}
