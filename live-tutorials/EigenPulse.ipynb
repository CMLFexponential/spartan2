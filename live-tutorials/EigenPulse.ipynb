{
 "cells": [
  {
   "cell_type": "markdown",
   "metadata": {},
   "source": [
    "## EigenPulse Detecting Surges in Large Streaming Graphs with Row Augmentation\n",
    "EigenPulse is a streaming algorithm to detect surges of sliding windows in real time.\n",
    "### Abstract\n",
    "How can we spot dense blocks in a large streaming graph efficiently? Anomalies such as fraudulent attacks, spamming, and DDoS attacks, can create dense blocks in a short time window, emerging a surge of density in a streaming graph. However, most existing methods detect dense blocks in a static graph or a snapshot of dynamic graphs, which need to inefficiently rerun the algorithms for a streaming graph. Moreover, some works on streaming graphs are either consuming much time on updating algorithm for every incoming edge, or spotting the whole snapshot of a graph instead of the attacking sub-block. Therefore, we propose a row-augmented matrix with sliding window to model a streaming graph, and design the AugSVD algorithm for computation- and memory-efficient singular decomposition. EigenP ulse is then proposed to spot the density surges in streaming graphs based on the singular spectrum. We theoretically analyze the robustness of our method. Experiments on real datasets with injections show our perfor- mance and efficiency compared with the state-of-the-art baseline."
   ]
  },
  {
   "cell_type": "code",
   "execution_count": null,
   "metadata": {},
   "outputs": [],
   "source": [
    "import spartan as st"
   ]
  },
  {
   "cell_type": "code",
   "execution_count": null,
   "metadata": {},
   "outputs": [],
   "source": [
    "f,idxtypes = st.loadTensorStream(filename=\"./inputData/beer.tensor\",\n",
    "                                 col_idx = [0,1,2,3], col_types=[int,int,int,int])"
   ]
  },
  {
   "cell_type": "markdown",
   "metadata": {},
   "source": [
    "### Function loadTensorStream():\n",
    "tensor_data.data has multiple-colum attributes, and a single-colum values (optional). The following table shows an example of 10000 three-tuple (user, object, time) and the 4th-colum is the frequency. \n",
    "\n",
    "col_idx: list of the columns to process\n",
    "\n",
    "coltypes: list of data types of the columns to process\n",
    "\n",
    "**Return**\n",
    "\n",
    "**f:**: file iterator of input file\n",
    "\n",
    "**idxtypes**: column idx-type dict"
   ]
  },
  {
   "cell_type": "code",
   "execution_count": null,
   "metadata": {},
   "outputs": [],
   "source": [
    "tensor_stream = st.TensorStream(f,idxtypes, sep=',', mappers={})"
   ]
  },
  {
   "cell_type": "markdown",
   "metadata": {},
   "source": [
    "### Class TensorStream\n",
    "**Input**\n",
    "\n",
    "**f:**: file iterator of input file\n",
    "\n",
    "**idxtypes**: column idx-type dict\n",
    "\n",
    "**sep**: the delimeter of input file\n",
    "\n",
    "**mappers**: dict of idx-mapper dict, we have defined various mappers.\n",
    "\n",
    "StringMapper: mapping the names or complex string ids of users and objects into indices. \n",
    "\n",
    "ScoreMapper: mapping score (int or float) into index (int).\n",
    "\n",
    "TimeMapper: mapping the time(string) with some formats into timestamps (int).\n",
    "\n",
    "**Return**\n",
    "\n",
    "an instance of TensorStream class."
   ]
  },
  {
   "cell_type": "markdown",
   "metadata": {},
   "source": [
    "### Run EigenPulse as a single model"
   ]
  },
  {
   "cell_type": "code",
   "execution_count": null,
   "metadata": {},
   "outputs": [],
   "source": [
    "param_dict={'window':10, 'stride':5, 'l':20, 'b':10,'item_idx':1,'ts_idx':2, 'hasvalue':True}\n",
    "eigenpulse = st.EigenPulse(tensor_stream, **param_dict)"
   ]
  },
  {
   "cell_type": "markdown",
   "metadata": {},
   "source": [
    "### the parameters of EigenPulse model\n",
    "\n",
    "**window**: the window size of sliding window in a time unit\n",
    "\n",
    "**stride**: the stride size in a time unit.\n",
    "\n",
    "**l and b**: hyper-parameters of Algorithm 1.\n",
    "\n",
    "**item_idx**: the column index of item attribute. \n",
    "\n",
    "**ts_idx**: the column index of time attribute.\n",
    "\n",
    "EigenPulse first concentrates items by the time as row, user as column, and thus the row of modified tensor grows with the forward of time. We model the streaming tuples as row-augmented matrix in this way.\n",
    "\n",
    "**hasvalue**: Whether \"tensor_data.data\" contains a single-colum values (optional) or not."
   ]
  },
  {
   "cell_type": "code",
   "execution_count": null,
   "metadata": {},
   "outputs": [],
   "source": [
    "eigenpulse.run()"
   ]
  },
  {
   "cell_type": "markdown",
   "metadata": {},
   "source": [
    "### Run EigenPulse from anomaly detection task"
   ]
  },
  {
   "cell_type": "code",
   "execution_count": null,
   "metadata": {},
   "outputs": [],
   "source": [
    "ad_model = st.AnomalyDetection.create(tensor_stream, st.ADPolicy.EigenPulse, 'eigenpulse',**param_dict)"
   ]
  },
  {
   "cell_type": "code",
   "execution_count": null,
   "metadata": {},
   "outputs": [],
   "source": [
    "ad_model.run()"
   ]
  },
  {
   "cell_type": "markdown",
   "metadata": {},
   "source": [
    "The results is a list of suspicious blocks whose densities are above the threshold ($\\mu+3\\sigma$). For each block, the results are the lists of suspicious users, objects and times."
   ]
  },
  {
   "cell_type": "markdown",
   "metadata": {},
   "source": [
    "### Experimental results:\n",
    "-----\n",
    "EigenPulse (performance)       |  EigenPulse (inject attacks)\n",
    ":-------------------------:|:-------------------------:\n",
    "<img src=\"images/eigen_performance.png\" width=\"300\"/>  |   <img src=\"images/eigeninject.png\" width=\"300\"/>\n",
    "<b>EigenPulse detection on real Sina Weibo data |  <b>EigenPulse is near linear\n",
    "<img src=\"images/eigenweibo.png\" width=\"300\"/> |   <img src=\"images/eigenlinear.png\" width=\"300\"/>\n"
   ]
  },
  {
   "cell_type": "markdown",
   "metadata": {},
   "source": [
    "### Cite:\n",
    "Zhang J, Liu S, Yu W, et al. Eigenpulse: Detecting surges in large streaming graphs with row augmentation[C]//Pacific-Asia Conference on Knowledge Discovery and Data Mining. Springer, Cham, 2019: 501-513."
   ]
  }
 ],
 "metadata": {
  "kernelspec": {
   "display_name": "Python [conda env:python36]",
   "language": "python",
   "name": "conda-env-python36-py"
  },
  "language_info": {
   "codemirror_mode": {
    "name": "ipython",
    "version": 3
   },
   "file_extension": ".py",
   "mimetype": "text/x-python",
   "name": "python",
   "nbconvert_exporter": "python",
   "pygments_lexer": "ipython3",
   "version": "3.6.8"
  }
 },
 "nbformat": 4,
 "nbformat_minor": 2
}
