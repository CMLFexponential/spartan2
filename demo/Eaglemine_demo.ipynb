{
 "cells": [
  {
   "cell_type": "code",
   "execution_count": 1,
   "metadata": {
    "scrolled": true
   },
   "outputs": [],
   "source": [
    "%matplotlib inline\n",
    "import spartan as st"
   ]
  },
  {
   "cell_type": "code",
   "execution_count": 2,
   "metadata": {},
   "outputs": [],
   "source": [
    "# set the computing engine\n",
    "st.config(st.engine.SINGLEMACHINE)"
   ]
  },
  {
   "cell_type": "code",
   "execution_count": 3,
   "metadata": {},
   "outputs": [],
   "source": [
    "# load graph data\n",
    "data = st.loadTensor(name = \"example_graph\", path = \"inputData/\", col_ids = [\"uid\", \"oid\", \"rating\"],  col_types = [int, int, int])"
   ]
  },
  {
   "cell_type": "code",
   "execution_count": 4,
   "metadata": {},
   "outputs": [],
   "source": [
    "# count degree\n",
    "Du, Dv = st.bidegree(data)"
   ]
  },
  {
   "cell_type": "code",
   "execution_count": 5,
   "metadata": {},
   "outputs": [],
   "source": [
    "# create a anomaly detection model\n",
    "emmodel = st.anomaly_detection.create(data, st.ad_policy.EAGLEMINE, \"my_eaglemine_model\")\n",
    "emmodel.setbipartite(True)"
   ]
  },
  {
   "cell_type": "code",
   "execution_count": 6,
   "metadata": {},
   "outputs": [
    {
     "name": "stdout",
     "output_type": "stream",
     "text": [
      "total shape: (33374, 2), valid samples:33352\n",
      "Histogram Info:\n",
      "\t Histogram shape: [66, 71]\n",
      "\t #points: 33352, #mode: 2\n",
      "Graph feature to histogram done!\n",
      "histogram: temp/histogram.out;  hode2pos: temp/node2hcel.out;  hpos_avgfeat: temp/hcel2avgfeat.out\n",
      "EagleMine algorithm\n",
      "*****************\n",
      "[0]. initialization and loading\n",
      "*****************\n",
      "[1]. WaterLevelTree\n",
      "\n",
      "========== \n",
      "Construct raw-tree.\n",
      "Info: maximum tree level: 10.2\n",
      "Info: Level-Tree build done!\n",
      "\n",
      "========== \n",
      "Refine tree structure.\n",
      "\n",
      "+++++++++ \n",
      "a). tree contract\n",
      "Info: Level-tree contract done!\n",
      "Info: Contract level-tree:\n",
      "Level tree basic information:\n",
      "#node: 3, #level: 2\n",
      "(node id): {@level, parent node, #childs, #elements}\n",
      "|---- (0): 1.0, -1, [28, 29], 299 |-\n",
      "    |---- (28): 7.8, 0, None, 30 |-\n",
      "    |---- (29): 7.8, 0, None, 5 |-\n",
      "dump done!\n",
      "\n",
      "+++++++++ \n",
      "b). tree prune\n",
      "Info: Level-tree prune done!\n",
      "Info: Pruned level-tree:\n",
      "Level tree basic information:\n",
      "#node: 1, #level: 2\n",
      "(node id): {@level, parent node, #childs, #elements}\n",
      "|---- (0): 1.0, -1, None, 299 |-\n",
      "dump done!\n",
      "\n",
      "+++++++++ \n",
      "c). tree node expand\n",
      "Info: Level-tree expand done!\n",
      "Level-tree serialization done!\n",
      "Info: Expanded level-tree:\n",
      "Level tree basic information:\n",
      "#node: 1, #level: 2\n",
      "(node id): {@level, parent node, #childs, #elements}\n",
      "|---- (0): 1.0, -1, None, 326 |-\n",
      "dump done!\n",
      "\n",
      "done\n",
      "done @ 1.23586511612\n",
      "*****************\n",
      "[2]. TreeExplore\n",
      "Info: island: 0 hypothesis $ pseudo-Accept. ^..^\n",
      "done @ 141.133165836\n",
      "*****************\n",
      "[3]. node groups suspicious measure\n",
      "kl-divergence based suspicious: [(0, 0.00)]\n",
      "weighted suspicious orders: [(0, 0.00)]\n",
      "*****************\n",
      "saving result\n",
      "clustering done!\n",
      "Graph Model Description Length: 3798.0\n",
      "done @ 142.369030952\n"
     ]
    },
    {
     "data": {
      "image/png": "[encoded data removed]",
      "text/plain": [
       "<Figure size 624x576 with 1 Axes>"
      ]
     },
     "metadata": {},
     "output_type": "display_data"
    }
   ],
   "source": [
    "# run the eaglemine model\n",
    "emmodel.run(emmodel.U, Du)"
   ]
  },
  {
   "cell_type": "code",
   "execution_count": 7,
   "metadata": {
    "scrolled": false
   },
   "outputs": [
    {
     "name": "stdout",
     "output_type": "stream",
     "text": [
      "total shape: (65911, 2), valid samples:65889\n",
      "Histogram Info:\n",
      "\t Histogram shape: [61, 71]\n",
      "\t #points: 65889, #mode: 2\n",
      "Graph feature to histogram done!\n",
      "histogram: temp/histogram.out;  hode2pos: temp/node2hcel.out;  hpos_avgfeat: temp/hcel2avgfeat.out\n",
      "EagleMine algorithm\n",
      "*****************\n",
      "[0]. initialization and loading\n",
      "*****************\n",
      "[1]. WaterLevelTree\n",
      "\n",
      "========== \n",
      "Construct raw-tree.\n",
      "Info: maximum tree level: 11.4\n",
      "Info: Level-Tree build done!\n",
      "\n",
      "========== \n",
      "Refine tree structure.\n",
      "\n",
      "+++++++++ \n",
      "a). tree contract\n",
      "Info: Level-tree contract done!\n",
      "Info: Contract level-tree:\n",
      "Level tree basic information:\n",
      "#node: 8, #level: 3\n",
      "(node id): {@level, parent node, #childs, #elements}\n",
      "|---- (0): 1.0, -1, [61, 62, 63], 153 |-\n",
      "    |---- (61): 8.2, 0, [64, 66], 36 |-\n",
      "        |---- (64): 8.4, 61, None, 28 |-\n",
      "        |---- (66): 8.4, 61, None, 5 |-\n",
      "    |---- (62): 8.2, 0, None, 5 |-\n",
      "    |---- (63): 8.2, 0, None, 5 |-\n",
      "|---- (1): 1.0, -1, None, 10 |-\n",
      "|---- (2): 1.0, -1, None, 8 |-\n",
      "dump done!\n",
      "\n",
      "+++++++++ \n",
      "b). tree prune\n",
      "Info: Level-tree prune done!\n",
      "Info: Pruned level-tree:\n",
      "Level tree basic information:\n",
      "#node: 8, #level: 3\n",
      "(node id): {@level, parent node, #childs, #elements}\n",
      "|---- (0): 1.0, -1, [61, 62, 63], 153 |-\n",
      "    |---- (61): 8.2, 0, [64, 66], 36 |-\n",
      "        |---- (64): 8.4, 61, None, 28 |-\n",
      "        |---- (66): 8.4, 61, None, 5 |-\n",
      "    |---- (62): 8.2, 0, None, 5 |-\n",
      "    |---- (63): 8.2, 0, None, 5 |-\n",
      "|---- (1): 1.0, -1, None, 10 |-\n",
      "|---- (2): 1.0, -1, None, 8 |-\n",
      "dump done!\n",
      "\n",
      "+++++++++ \n",
      "c). tree node expand\n",
      "Info: Level-tree expand done!\n",
      "Level-tree serialization done!\n",
      "Info: Expanded level-tree:\n",
      "Level tree basic information:\n",
      "#node: 8, #level: 3\n",
      "(node id): {@level, parent node, #childs, #elements}\n",
      "|---- (0): 1.0, -1, [61, 62, 63], 157 |-\n",
      "    |---- (61): 8.2, 0, [64, 66], 72 |-\n",
      "        |---- (64): 8.4, 61, None, 53 |-\n",
      "        |---- (66): 8.4, 61, None, 19 |-\n",
      "    |---- (62): 8.2, 0, None, 18 |-\n",
      "    |---- (63): 8.2, 0, None, 14 |-\n",
      "|---- (1): 1.0, -1, None, 13 |-\n",
      "|---- (2): 1.0, -1, None, 12 |-\n",
      "dump done!\n",
      "\n",
      "done\n",
      "done @ 0.625565052032\n",
      "*****************\n",
      "[2]. TreeExplore\n",
      "Info island: 0 hypothesis & Rejected. >_<\n",
      "Info: island: 1 hypothesis $ pseudo-Accept. ^..^\n",
      "Info: island: 2 hypothesis $ pseudo-Accept. ^..^\n",
      "Info island: 61 hypothesis & Rejected. >_<\n",
      "Info: island: 62 hypothesis $ pseudo-Accept. ^..^\n",
      "Info: island: 63 hypothesis * Accept. ^~^\n",
      "Info: island: 64 hypothesis $ pseudo-Accept. ^..^\n",
      "Info: island: 66 hypothesis $ pseudo-Accept. ^..^\n",
      "(1, 2)\n",
      "Info: test new merging node: (1, 2) ([1], [2])\n",
      "Info:  ------ node (1, 2) check failed ------\n",
      "(1, 66)\n",
      "(1, 62)\n",
      "(1, 63)\n",
      "(2, 66)\n",
      "(2, 62)\n",
      "(2, 63)\n",
      "(66, 62)\n",
      "Info: test new merging node: (66, 62) ([66], [62])\n",
      "Info:  ------ node (66, 62) check failed ------\n",
      "(66, 63)\n",
      "(62, 63)\n",
      "Info: test new merging node: (62, 63) ([62], [63])\n",
      "Info:  ------ node (62, 63) check failed ------\n",
      "done @ 147.904768944\n",
      "*****************\n",
      "[3]. node groups suspicious measure\n",
      "kl-divergence based suspicious: [(63, 307.17), (1, 276.93), (2, 212.04), (62, 168.65), (66, 55.76), (64, 0.00)]\n",
      "weighted suspicious orders: [(1, 1627.41), (2, 1501.32), (63, 1336.70), (62, 569.76), (66, 145.61), (64, 0.00)]\n",
      "*****************\n",
      "saving result\n",
      "clustering done!\n",
      "Graph Model Description Length: 3784.0\n",
      "done @ 148.530333996\n"
     ]
    },
    {
     "data": {
      "image/png": "[encoded data removed]",
      "text/plain": [
       "<Figure size 624x576 with 1 Axes>"
      ]
     },
     "metadata": {},
     "output_type": "display_data"
    }
   ],
   "source": [
    "emmodel.run(emmodel.V, Dv)"
   ]
  },
  {
   "cell_type": "code",
   "execution_count": 8,
   "metadata": {},
   "outputs": [],
   "source": [
    "A, B = emmodel.nodes(n=0)"
   ]
  },
  {
   "cell_type": "code",
   "execution_count": 9,
   "metadata": {},
   "outputs": [],
   "source": [
    "g = st.subgraph(data, A, B)"
   ]
  },
  {
   "cell_type": "code",
   "execution_count": null,
   "metadata": {},
   "outputs": [],
   "source": []
  }
 ],
 "metadata": {
  "kernelspec": {
   "display_name": "Python 2",
   "language": "python",
   "name": "python2"
  },
  "language_info": {
   "codemirror_mode": {
    "name": "ipython",
    "version": 2
   },
   "file_extension": ".py",
   "mimetype": "text/x-python",
   "name": "python",
   "nbconvert_exporter": "python",
   "pygments_lexer": "ipython2",
   "version": "2.7.16"
  },
  "widgets": {
   "state": {},
   "version": "1.1.2"
  }
 },
 "nbformat": 4,
 "nbformat_minor": 2
}
